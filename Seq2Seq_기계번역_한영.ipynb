{
  "cells": [
    {
      "cell_type": "code",
      "execution_count": null,
      "metadata": {
        "id": "cZw1fVIteaQJ"
      },
      "outputs": [],
      "source": [
        "import re\n",
        "import os\n",
        "import unicodedata\n",
        "import urllib3\n",
        "import zipfile\n",
        "import shutil\n",
        "import numpy as np\n",
        "import pandas as pd\n",
        "import tensorflow as tf\n",
        "from tensorflow.keras.layers import Embedding, GRU, Dense, LSTM\n",
        "from tensorflow.keras.preprocessing.text import Tokenizer\n",
        "from tensorflow.keras.preprocessing.sequence import pad_sequences\n"
      ]
    },
    {
      "cell_type": "code",
      "execution_count": null,
      "metadata": {
        "id": "rNeCn245bMgY"
      },
      "outputs": [],
      "source": [
        "!pip install konlpy"
      ]
    },
    {
      "cell_type": "code",
      "source": [
        "!curl -s https://raw.githubusercontent.com/teddylee777/machine-learning/master/99-Misc/01-Colab/mecab-colab.sh | bash # 한국어 - Mecab"
      ],
      "metadata": {
        "id": "6k9EIS5axwBF"
      },
      "execution_count": null,
      "outputs": []
    },
    {
      "cell_type": "code",
      "source": [
        "from nltk.tokenize import word_tokenize"
      ],
      "metadata": {
        "id": "dwW6ZCmrw_Y0"
      },
      "execution_count": null,
      "outputs": []
    },
    {
      "cell_type": "code",
      "execution_count": null,
      "metadata": {
        "id": "2-gJHmRkcm3j"
      },
      "outputs": [],
      "source": [
        "from konlpy.tag import Okt #,Mecab"
      ]
    },
    {
      "cell_type": "markdown",
      "metadata": {
        "id": "eaMuDgAGeHSf"
      },
      "source": [
        "## Download the data\n"
      ]
    },
    {
      "cell_type": "code",
      "execution_count": null,
      "metadata": {
        "id": "rRfJZZXhP7ZS"
      },
      "outputs": [],
      "source": [
        "!gdown --id 1V6HsBoEczDoo4NDZ1I5iXSfRxFxCatis"
      ]
    },
    {
      "cell_type": "code",
      "execution_count": null,
      "metadata": {
        "id": "5IQTEqtjeHSf"
      },
      "outputs": [],
      "source": [
        "import pandas as pd\n",
        "\n",
        "df = pd.read_excel('/content/1_구어체(1).xlsx')\n",
        "xx = df.원문\n",
        "xy= df.번역문"
      ]
    },
    {
      "cell_type": "markdown",
      "metadata": {
        "id": "hWy5iZxheHSg"
      },
      "source": [
        "## Text 전처리 \n",
        "\n",
        "korean\n",
        "- okt morphs\n",
        "- with stem -  결과 약간 떨어짐 (random sample이 달라서 일수도 있음)\n",
        "\n",
        "english\n",
        "\n",
        "- 기본 tokenizer\n",
        "\n"
      ]
    },
    {
      "cell_type": "code",
      "execution_count": null,
      "metadata": {
        "id": "LuoB3SLxlAc_"
      },
      "outputs": [],
      "source": [
        "def preprocesskr(sent):\n",
        "    okt = Okt()\n",
        "    sent = re.sub(r\"([?.!,¿])\", r\" \\1\", sent)\n",
        "    sent = re.sub(r\"[^가-힣a-zA-Z!.?]+\", r\" \", sent)\n",
        "    sent = re.sub(r\"\\s+\", \" \", sent)\n",
        "    sent = okt.morphs(sent)\n",
        "    return sent"
      ]
    },
    {
      "cell_type": "code",
      "execution_count": null,
      "metadata": {
        "id": "71sYSZKqjA5x"
      },
      "outputs": [],
      "source": [
        "def preprocesseng(sent):\n",
        "    sent = re.sub(r\"([?.!,¿])\", r\" \\1\", sent)\n",
        "    sent = re.sub(r\"[^a-zA-Z!.?]+\", r\" \", sent)\n",
        "    sent = re.sub(r\"\\s+\", \" \", sent)\n",
        "    return sent"
      ]
    },
    {
      "cell_type": "code",
      "execution_count": null,
      "metadata": {
        "id": "wHP__OI4kXL3"
      },
      "outputs": [],
      "source": [
        "def load_preprocessed_data(kr,eng, num_samples=200000):\n",
        "    encoder_input, decoder_input, decoder_target = [],[],[]\n",
        "\n",
        "    for i, (src_line, tar_line) in enumerate(zip(kr,eng)):\n",
        "        encoder_input.append(preprocesskr(src_line))\n",
        "    \n",
        "        tar_line = preprocesseng(tar_line)\n",
        "        decoder_input.append([w for w in ('<sos> ' + tar_line).split()])\n",
        "        decoder_target.append([w for w in (tar_line + ' <eos>').split()])\n",
        "\n",
        "        if i == num_samples -1:\n",
        "            break\n",
        "    return encoder_input, decoder_input, decoder_target"
      ]
    },
    {
      "cell_type": "code",
      "execution_count": null,
      "metadata": {
        "id": "NlKtnYCzwO5u"
      },
      "outputs": [],
      "source": [
        "num_samples = 200000"
      ]
    },
    {
      "cell_type": "code",
      "execution_count": null,
      "metadata": {
        "id": "vGUk278VnoAf"
      },
      "outputs": [],
      "source": [
        "# sents_kr_in, sents_en_in, sents_en_out = load_preprocessed_data(xx,xy,num_samples)"
      ]
    },
    {
      "cell_type": "code",
      "source": [
        "sents_kr_in, sents_en_in, sents_en_out = load_preprocessed_data(xx,xy)"
      ],
      "metadata": {
        "id": "wSprrLVYpY-B"
      },
      "execution_count": null,
      "outputs": []
    },
    {
      "cell_type": "code",
      "source": [
        "num_samples = 200000\n",
        "sents_kr_in, sents_en_in, sents_en_out = load_preprocessed_data(xx,xy)"
      ],
      "metadata": {
        "id": "rwiKKmKhlXBq"
      },
      "execution_count": null,
      "outputs": []
    },
    {
      "cell_type": "code",
      "source": [
        "import pickle\n",
        "with open('sents_kr_in.pkl', 'rb') as f:\n",
        "  sents_kr_in = pickle.load(f)\n",
        "\n",
        "with open('sents_en_in.pkl', 'rb') as f:\n",
        "  sents_en_in = pickle.load(f)\n",
        "\n",
        "with open('sents_en_out.pkl', 'rb') as f:\n",
        "  sents_en_out = pickle.load(f)\n"
      ],
      "metadata": {
        "id": "BKjW0yyiuhXP"
      },
      "execution_count": null,
      "outputs": []
    },
    {
      "cell_type": "code",
      "execution_count": null,
      "metadata": {
        "colab": {
          "base_uri": "https://localhost:8080/"
        },
        "id": "gSnnTPHxoYYp",
        "outputId": "655fe451-64d8-4d23-95a2-b3a9dd98fc2d"
      },
      "outputs": [
        {
          "output_type": "stream",
          "name": "stdout",
          "text": [
            "[['나', '는', '먼저', '청소기', '로', '바닥', '을', '밀었어요', '.'], ['나', '는', '먼저', '팀', '과제', '를', '하고', '놀러', '갔어요', '.'], ['나', '는', '비', '같은', '멋진', '연예인', '을', '좋아해요', '.'], ['나', '는', '멋진', '자연', '경치', '를', '보고', '눈물', '을', '흘렸어', '.'], ['나', '는', '멋진', '중학교', '생활', '을', '기대합니다', '.']]\n",
            "디코더의 입력 : [['<sos>', 'First', 'of', 'all', 'I', 'vacuumed', 'the', 'floor', '.'], ['<sos>', 'I', 'did', 'the', 'team', 'assignment', 'first', 'and', 'went', 'out', 'to', 'play', '.'], ['<sos>', 'I', 'like', 'cool', 'entertainer', 'like', 'Rain', '.'], ['<sos>', 'I', 'cried', 'seeing', 'the', 'amazing', 'scenery', '.'], ['<sos>', 'I', 'look', 'forward', 'to', 'a', 'great', 'middle', 'school', 'experience', '.']]\n",
            "디코더의 레이블 : [['First', 'of', 'all', 'I', 'vacuumed', 'the', 'floor', '.', '<eos>'], ['I', 'did', 'the', 'team', 'assignment', 'first', 'and', 'went', 'out', 'to', 'play', '.', '<eos>'], ['I', 'like', 'cool', 'entertainer', 'like', 'Rain', '.', '<eos>'], ['I', 'cried', 'seeing', 'the', 'amazing', 'scenery', '.', '<eos>'], ['I', 'look', 'forward', 'to', 'a', 'great', 'middle', 'school', 'experience', '.', '<eos>']]\n"
          ]
        }
      ],
      "source": [
        "print(sents_kr_in[-5:])\n",
        "print('디코더의 입력 :',sents_en_in[-5:])\n",
        "print('디코더의 레이블 :',sents_en_out[-5:])"
      ]
    },
    {
      "cell_type": "code",
      "source": [
        "len(sents_kr_in)"
      ],
      "metadata": {
        "colab": {
          "base_uri": "https://localhost:8080/"
        },
        "id": "4oIvywZFH0pT",
        "outputId": "149a748d-4cd0-4466-a7a1-84f2f448d6eb"
      },
      "execution_count": null,
      "outputs": [
        {
          "output_type": "execute_result",
          "data": {
            "text/plain": [
              "200000"
            ]
          },
          "metadata": {},
          "execution_count": 92
        }
      ]
    },
    {
      "cell_type": "markdown",
      "source": [
        "## 25단어이상 문장 빼기"
      ],
      "metadata": {
        "id": "afOIoDjkHQUr"
      }
    },
    {
      "cell_type": "markdown",
      "source": [
        "     \n",
        "     English\n",
        "![image.png](data:image/png;base64,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)\n",
        "     \n",
        "     \n",
        "     \n",
        "     Korean\n",
        "![image.png](data:image/png;base64,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)\n"
      ],
      "metadata": {
        "id": "4a16zSwRHupz"
      }
    },
    {
      "cell_type": "code",
      "source": [],
      "metadata": {
        "id": "JeTgx92wHQE9"
      },
      "execution_count": null,
      "outputs": []
    },
    {
      "cell_type": "code",
      "source": [
        "sl= [len(i) for i in sents_kr_in]\n",
        "drop_train= [i for i,len in enumerate(sl) if len >25]\n",
        "len(drop_train)\n"
      ],
      "metadata": {
        "colab": {
          "base_uri": "https://localhost:8080/"
        },
        "id": "V1ducD3205eQ",
        "outputId": "5fdb89b7-5959-4b1a-bfc4-9ccc470bf592"
      },
      "execution_count": null,
      "outputs": [
        {
          "output_type": "execute_result",
          "data": {
            "text/plain": [
              "2916"
            ]
          },
          "metadata": {},
          "execution_count": 8
        }
      ]
    },
    {
      "cell_type": "code",
      "source": [
        "xk=np.array(xx.copy())\n",
        "xe=np.array(xy.copy())\n",
        "xk =np.delete(xk ,drop_train, axis=0)\n",
        "xe =np.delete(xe ,drop_train, axis=0)\n",
        "len(xk)"
      ],
      "metadata": {
        "colab": {
          "base_uri": "https://localhost:8080/"
        },
        "id": "YjQcfN4qZNjv",
        "outputId": "036cf657-25a3-4ee1-e34b-8bc7c3fc27c3"
      },
      "execution_count": null,
      "outputs": [
        {
          "output_type": "execute_result",
          "data": {
            "text/plain": [
              "197084"
            ]
          },
          "metadata": {},
          "execution_count": 9
        }
      ]
    },
    {
      "cell_type": "code",
      "source": [
        "sents_kr_in = np.delete(sents_kr_in, drop_train, axis=0)\n",
        "sents_en_in = np.delete(sents_en_in, drop_train, axis=0)\n",
        "sents_en_out = np.delete(sents_en_out, drop_train, axis=0)"
      ],
      "metadata": {
        "colab": {
          "base_uri": "https://localhost:8080/"
        },
        "id": "PZii896gH34t",
        "outputId": "bf69a391-1b0b-484e-cf25-4820b16494fc"
      },
      "execution_count": null,
      "outputs": [
        {
          "output_type": "stream",
          "name": "stderr",
          "text": [
            "/usr/local/lib/python3.9/dist-packages/numpy/lib/function_base.py:5030: VisibleDeprecationWarning: Creating an ndarray from ragged nested sequences (which is a list-or-tuple of lists-or-tuples-or ndarrays with different lengths or shapes) is deprecated. If you meant to do this, you must specify 'dtype=object' when creating the ndarray.\n",
            "  arr = asarray(arr)\n"
          ]
        }
      ]
    },
    {
      "cell_type": "code",
      "source": [
        "len(sents_en_out)"
      ],
      "metadata": {
        "colab": {
          "base_uri": "https://localhost:8080/"
        },
        "id": "8KphtYl23UPX",
        "outputId": "4c20e41d-2690-4167-85ff-4ae07385b2a2"
      },
      "execution_count": null,
      "outputs": [
        {
          "output_type": "execute_result",
          "data": {
            "text/plain": [
              "197084"
            ]
          },
          "metadata": {},
          "execution_count": 10
        }
      ]
    },
    {
      "cell_type": "code",
      "source": [
        "drop_train1 = [i for i,t in enumerate(sents_en_in) if len(t) >25]\n",
        "len(drop_train)"
      ],
      "metadata": {
        "colab": {
          "base_uri": "https://localhost:8080/"
        },
        "id": "4s_XHCPeH4T7",
        "outputId": "4d3893cb-0d6f-48c0-8055-0410eee6dda3"
      },
      "execution_count": null,
      "outputs": [
        {
          "output_type": "execute_result",
          "data": {
            "text/plain": [
              "2916"
            ]
          },
          "metadata": {},
          "execution_count": 11
        }
      ]
    },
    {
      "cell_type": "code",
      "source": [
        "sents_kr_in = np.delete(sents_kr_in, drop_train1, axis=0)\n",
        "sents_en_in = np.delete(sents_en_in, drop_train1, axis=0)\n",
        "sents_en_out = np.delete(sents_en_out, drop_train1, axis=0)"
      ],
      "metadata": {
        "id": "sjoQFYPtJxWC"
      },
      "execution_count": null,
      "outputs": []
    },
    {
      "cell_type": "code",
      "source": [
        "xk =np.delete(xk ,drop_train1, axis=0)\n",
        "xe =np.delete(xe ,drop_train1, axis=0)\n",
        "len(xk)"
      ],
      "metadata": {
        "colab": {
          "base_uri": "https://localhost:8080/"
        },
        "id": "6UvI2JDQbb8v",
        "outputId": "fb1de22f-96e6-46f6-88ed-890268f368dd"
      },
      "execution_count": null,
      "outputs": [
        {
          "output_type": "execute_result",
          "data": {
            "text/plain": [
              "193866"
            ]
          },
          "metadata": {},
          "execution_count": 13
        }
      ]
    },
    {
      "cell_type": "code",
      "source": [
        "num_samples = len(sents_kr_in)\n",
        "num_samples"
      ],
      "metadata": {
        "colab": {
          "base_uri": "https://localhost:8080/"
        },
        "id": "FagbKbh03DwI",
        "outputId": "a4af3e6b-03d9-423d-f072-9d04304d4517"
      },
      "execution_count": null,
      "outputs": [
        {
          "output_type": "execute_result",
          "data": {
            "text/plain": [
              "193866"
            ]
          },
          "metadata": {},
          "execution_count": 14
        }
      ]
    },
    {
      "cell_type": "code",
      "source": [
        "### Tokenizer + Seq + Padding + etc"
      ],
      "metadata": {
        "id": "1X4_Dw_iZGnR"
      },
      "execution_count": null,
      "outputs": []
    },
    {
      "cell_type": "code",
      "execution_count": null,
      "metadata": {
        "id": "9X1vRIDur5tX"
      },
      "outputs": [],
      "source": [
        "\n",
        "\n",
        "tokenizer_enc = Tokenizer(filters=\"\",oov_token=\"<OOV>\")\n",
        "tokenizer_enc.fit_on_texts(sents_kr_in)\n",
        "encoder_input = tokenizer_enc.texts_to_sequences(sents_kr_in)\n",
        "                    "
      ]
    },
    {
      "cell_type": "code",
      "execution_count": null,
      "metadata": {
        "id": "Zz01BjYXsjyw"
      },
      "outputs": [],
      "source": [
        "tokenizer_dec = Tokenizer(filters=\"\", lower=False,oov_token=\"<OOV>\")\n",
        "tokenizer_dec.fit_on_texts(sents_en_in)\n",
        "tokenizer_dec.fit_on_texts(sents_en_out)\n",
        "decoder_input = tokenizer_dec.texts_to_sequences(sents_en_in)\n",
        "decoder_target = tokenizer_dec.texts_to_sequences(sents_en_out)\n"
      ]
    },
    {
      "cell_type": "code",
      "execution_count": null,
      "metadata": {
        "colab": {
          "base_uri": "https://localhost:8080/"
        },
        "id": "oRtZNu-utiV5",
        "outputId": "e15c6f14-7044-4fa2-cbc1-7bcc1e69d559"
      },
      "outputs": [
        {
          "output_type": "execute_result",
          "data": {
            "text/plain": [
              "(67370, 40879)"
            ]
          },
          "metadata": {},
          "execution_count": 17
        }
      ],
      "source": [
        "SRC_VOCAB_SIZE = len(tokenizer_enc.word_index) + 1\n",
        "TAR_VOCAB_SIZE = len(tokenizer_dec.word_index) + 1\n",
        "SRC_VOCAB_SIZE, TAR_VOCAB_SIZE"
      ]
    },
    {
      "cell_type": "code",
      "execution_count": null,
      "metadata": {
        "id": "JyCQXTHJuIpH"
      },
      "outputs": [],
      "source": [
        "encoder_input = pad_sequences(encoder_input, padding='post')\n",
        "decoder_input = pad_sequences(decoder_input, padding='post')\n",
        "decoder_target = pad_sequences(decoder_target, padding='post')"
      ]
    },
    {
      "cell_type": "code",
      "execution_count": null,
      "metadata": {
        "colab": {
          "base_uri": "https://localhost:8080/"
        },
        "id": "2OaSKhcTuWvg",
        "outputId": "ddd76dae-e247-42fb-e9f9-e597ec5a3396"
      },
      "outputs": [
        {
          "output_type": "execute_result",
          "data": {
            "text/plain": [
              "((193866, 25), (193866, 25), (193866, 25))"
            ]
          },
          "metadata": {},
          "execution_count": 16
        }
      ],
      "source": [
        "encoder_input.shape, decoder_input.shape, decoder_target.shape"
      ]
    },
    {
      "cell_type": "code",
      "execution_count": null,
      "metadata": {
        "id": "_mhxegqzX3JG"
      },
      "outputs": [],
      "source": [
        "MAX_ENC_LEN, MAX_DEC_LEN = encoder_input.shape[1], decoder_input.shape[1]"
      ]
    },
    {
      "cell_type": "code",
      "execution_count": null,
      "metadata": {
        "id": "OtRUnA69urhg"
      },
      "outputs": [],
      "source": [
        "src2idx = tokenizer_enc.word_index\n",
        "idx2src = tokenizer_enc.index_word\n",
        "tar2idx = tokenizer_dec.word_index\n",
        "idx2tar = tokenizer_dec.index_word"
      ]
    },
    {
      "cell_type": "code",
      "execution_count": null,
      "metadata": {
        "colab": {
          "base_uri": "https://localhost:8080/"
        },
        "id": "MGCN3k1bvb_W",
        "outputId": "963a02dd-6209-4dc8-aafe-f78772487023"
      },
      "outputs": [
        {
          "output_type": "stream",
          "name": "stdout",
          "text": [
            "랜덤 시퀀스 : [ 61914  82201  42651 ...  71207 172159  78043]\n"
          ]
        }
      ],
      "source": [
        "indices = np.arange(encoder_input.shape[0])\n",
        "np.random.shuffle(indices)\n",
        "print('랜덤 시퀀스 :',indices)\n",
        "\n",
        "encoder_input = encoder_input[indices]\n",
        "decoder_input = decoder_input[indices]\n",
        "decoder_target = decoder_target[indices]\n"
      ]
    },
    {
      "cell_type": "code",
      "execution_count": null,
      "metadata": {
        "id": "aFAcVG9SwMBu"
      },
      "outputs": [],
      "source": [
        "n_of_val = int(num_samples*0.1)\n",
        "encoder_input_train = encoder_input[:-n_of_val]\n",
        "encoder_input_test = encoder_input[-n_of_val:]\n",
        "\n",
        "decoder_input_train = decoder_input[:-n_of_val]\n",
        "decoder_input_test = decoder_input[-n_of_val:]\n",
        "\n",
        "decoder_target_train = decoder_target[:-n_of_val]\n",
        "decoder_target_test = decoder_target[-n_of_val:]"
      ]
    },
    {
      "cell_type": "markdown",
      "source": [
        "## Train Model\n"
      ],
      "metadata": {
        "id": "p9De8AzbNced"
      }
    },
    {
      "cell_type": "code",
      "execution_count": null,
      "metadata": {
        "id": "_bVFXqw82zFX"
      },
      "outputs": [],
      "source": [
        "emb_dim= 1000\n",
        "hid_dim=256\n",
        "bi_hid_dim=int(hid_dim/2)"
      ]
    },
    {
      "cell_type": "code",
      "source": [
        "# 1 Bidirectional+lstm -> 1 lstm  +attention"
      ],
      "metadata": {
        "id": "nt82bE2mOoPJ"
      },
      "execution_count": null,
      "outputs": []
    },
    {
      "cell_type": "code",
      "execution_count": null,
      "metadata": {
        "id": "wrUCSHrPDxHV"
      },
      "outputs": [],
      "source": [
        "# attention- decoder -embed,lstm 다음  dense dense"
      ]
    },
    {
      "cell_type": "code",
      "source": [],
      "metadata": {
        "id": "oo_CYj6SOhf5"
      },
      "execution_count": null,
      "outputs": []
    },
    {
      "cell_type": "code",
      "execution_count": null,
      "metadata": {
        "id": "-E39ko4W6KqP"
      },
      "outputs": [],
      "source": [
        "from tensorflow.keras.layers import Input, Bidirectional, Concatenate\n",
        "from tensorflow.keras import Model,layers"
      ]
    },
    {
      "cell_type": "code",
      "source": [
        "enc_emb_layer = Embedding(SRC_VOCAB_SIZE, emb_dim)\n",
        "encoder_bilstm = Bidirectional(LSTM(bi_hid_dim,dropout=0.2, return_sequences=True,return_state=True)) \n",
        "\n",
        "\n",
        "encoder_inputs= Input(shape=(None,))\n",
        "encoder_emb= enc_emb_layer(encoder_inputs)\n",
        "encoder_outputs, forward_h, forward_c, backward_h, backward_c  = encoder_bilstm(encoder_emb)\n",
        "state_h = Concatenate()([forward_h, backward_h])\n",
        "state_c = Concatenate()([forward_c, backward_c])\n",
        "encoder_states = [state_h,state_c]"
      ],
      "metadata": {
        "id": "08V92g9yjQld"
      },
      "execution_count": null,
      "outputs": []
    },
    {
      "cell_type": "code",
      "source": [
        "dec_emb_layer = Embedding(TAR_VOCAB_SIZE, hid_dim)\n",
        "decoder_lstm = LSTM(hid_dim, dropout=0.2,return_sequences=True, return_state=True)\n",
        "decoder_dense1 = Dense(hid_dim,activation='tanh')\n",
        "decoder_dense2 = Dense(TAR_VOCAB_SIZE, activation='softmax')\n",
        "\n",
        "decoder_inputs = Input(shape=(None,))\n",
        "dec_emb = dec_emb_layer(decoder_inputs)\n",
        "decoder_outputs, _, _ = decoder_lstm(dec_emb, initial_state = encoder_states)\n",
        "attention = layers.Attention()([decoder_outputs,encoder_outputs])\n",
        "concat = Concatenate()([decoder_outputs,attention])\n",
        "dense1 = decoder_dense1(concat)\n",
        "decoder_outputs = decoder_dense2(dense1)\n"
      ],
      "metadata": {
        "id": "jm_fKkhFjk31"
      },
      "execution_count": null,
      "outputs": []
    },
    {
      "cell_type": "code",
      "execution_count": null,
      "metadata": {
        "id": "StxdNfB9_s_u"
      },
      "outputs": [],
      "source": [
        "model = Model([encoder_inputs,decoder_inputs],decoder_outputs)\n"
      ]
    },
    {
      "cell_type": "code",
      "source": [
        "model.summary()"
      ],
      "metadata": {
        "id": "FWWZVU7THrP8",
        "outputId": "32512344-f8c5-466c-fef6-40a8cfd0ea36",
        "colab": {
          "base_uri": "https://localhost:8080/"
        }
      },
      "execution_count": null,
      "outputs": [
        {
          "output_type": "stream",
          "name": "stdout",
          "text": [
            "Model: \"model\"\n",
            "__________________________________________________________________________________________________\n",
            " Layer (type)                   Output Shape         Param #     Connected to                     \n",
            "==================================================================================================\n",
            " input_1 (InputLayer)           [(None, None)]       0           []                               \n",
            "                                                                                                  \n",
            " embedding (Embedding)          (None, None, 1000)   67370000    ['input_1[0][0]']                \n",
            "                                                                                                  \n",
            " input_2 (InputLayer)           [(None, None)]       0           []                               \n",
            "                                                                                                  \n",
            " bidirectional (Bidirectional)  [(None, None, 256),  1156096     ['embedding[0][0]']              \n",
            "                                 (None, 128),                                                     \n",
            "                                 (None, 128),                                                     \n",
            "                                 (None, 128),                                                     \n",
            "                                 (None, 128)]                                                     \n",
            "                                                                                                  \n",
            " embedding_1 (Embedding)        (None, None, 256)    10465024    ['input_2[0][0]']                \n",
            "                                                                                                  \n",
            " concatenate (Concatenate)      (None, 256)          0           ['bidirectional[0][1]',          \n",
            "                                                                  'bidirectional[0][3]']          \n",
            "                                                                                                  \n",
            " concatenate_1 (Concatenate)    (None, 256)          0           ['bidirectional[0][2]',          \n",
            "                                                                  'bidirectional[0][4]']          \n",
            "                                                                                                  \n",
            " lstm_1 (LSTM)                  [(None, None, 256),  525312      ['embedding_1[0][0]',            \n",
            "                                 (None, 256),                     'concatenate[0][0]',            \n",
            "                                 (None, 256)]                     'concatenate_1[0][0]']          \n",
            "                                                                                                  \n",
            " attention (Attention)          (None, None, 256)    0           ['lstm_1[0][0]',                 \n",
            "                                                                  'bidirectional[0][0]']          \n",
            "                                                                                                  \n",
            " concatenate_2 (Concatenate)    (None, None, 512)    0           ['lstm_1[0][0]',                 \n",
            "                                                                  'attention[0][0]']              \n",
            "                                                                                                  \n",
            " dense (Dense)                  (None, None, 256)    131328      ['concatenate_2[0][0]']          \n",
            "                                                                                                  \n",
            " dense_1 (Dense)                (None, None, 40879)  10505903    ['dense[0][0]']                  \n",
            "                                                                                                  \n",
            "==================================================================================================\n",
            "Total params: 90,153,663\n",
            "Trainable params: 90,153,663\n",
            "Non-trainable params: 0\n",
            "__________________________________________________________________________________________________\n"
          ]
        }
      ]
    },
    {
      "cell_type": "markdown",
      "source": [
        "![image.png](data:image/png;base64,iVBORw0KGgoAAAANSUhEUgAAAx4AAANHCAYAAAC4u4sBAAAgAElEQVR4nOzdeViVdf7/8dcBjhxAWVQUN9xLUbNxGU3FciuryVJCcMlystBy1DaXMnMqS7Nccmm0xUmbn4JaltVUWllZZlqWprmWC5qBiqjgcoDP74+G8xUFBOTmBnw+rutcl97b533u+8O579e5l+MwxhgBAAAAgIW87C4AAAAAQPlH8AAAAABgOYIHAAAAAMsRPAAAAABYzsfuAq4U69at07Rp0+wuAyhWS5cutbsEAABQRnDGo4QcOHBAy5Yts7uMMmfZsmVKTEy0uwxcIDExkf4MAAAKhTMeJYxviAvH4XDooYceUt++fe0uBedJSEhQTEyM3WUAAIAyhDMeAAAAACxH8AAAAABgOYIHAAAAAMsRPAAAAABYjuABAAAAwHIEDwAAAACWI3gAAAAAsBzBAwAAAIDlCB4AAAAALEfwAAAAAGA5ggcAAAAAyxE8AAAAAFiO4AEAAADAcgQPAAAAAJYjeJRiH374oYKCgrRy5Uq7SymSrKwsTZ8+XR06dCiR9r799ls1bdpUXl5ecjgcql69up599tkSaTs/y5cvV4MGDeRwOORwOBQWFqaBAwfaXRYAAECJ8rG7AOTNGGN3CUW2a9cuDR48WF9//bVatmxZIm22b99ev/zyi3r27KmPP/5YO3bsUHBwcIm0nZ+oqChFRUWpUaNGOnLkiA4fPmx3SQAAACWOMx6l2K233qrU1FTddttttrR/+vTpIp2t+OmnnzR27FgNGzZM1157rQWVlW5FXW8AAADlGcEDeXr99deVlJRU6Platmyp5cuXa8CAAfL19bWgstKtqOsNAACgPCN4lFJr165VeHi4HA6HZs+eLUmaO3euAgIC5O/vr3fffVc333yzAgMDVbt2bS1evFiS9PLLL8vlcqlatWoaOnSoatSoIZfLpQ4dOmj9+vWSpBEjRqhChQoKCwvztPfggw8qICBADodDR44c0ahRo/TII49oz549cjgcatSoUcmvhGJS1tbbV199pYiICAUFBcnlcqlFixb6+OOPJUlDhgzx3CvSsGFDbdq0SZI0ePBg+fv7KygoSO+9954yMzM1YcIEhYeHy8/PT9dcc43i4+MlSS+88IL8/f1VqVIlJSUl6ZFHHlGtWrW0Y8eOy1rPAAAA+TIoEfHx8aawq/vAgQNGkpk1a5Zn2BNPPGEkmU8//dSkpqaapKQkExkZaQICAsy5c+eMMcbExcWZgIAAs23bNnPmzBmzdetW07ZtW1OpUiWzf/9+Y4wxAwYMMNWrV8/R3tSpU40kk5ycbIwxJioqyjRs2PBy3rZp166dadmyZZHnl2Ti4+MLNc9NN91kJJmUlBTPsNKw3ho2bGiCgoIuWf/SpUvNxIkTzbFjx8zRo0dN+/btTZUqVTzjo6KijLe3tzl48GCO+fr372/ee+89Y4wxjz76qPH19TXLli0zKSkp5vHHHzdeXl5mw4YNOdbHyJEjzaxZs0yfPn3ML7/8csnashWlPwMAgCsbZzzKqA4dOigwMFChoaGKjY1VWlqa9u/f7xnv4+Ojpk2bytfXVxEREZo7d65OnjypBQsW2Fi1/crCervzzjv11FNPKSQkRJUrV1avXr109OhRJScnS5KGDRumzMzMHDWdOHFCGzZs0C233KIzZ85o7ty56t27t6KiohQcHKzx48fL6XRe9D4mT56s4cOHa/ny5WrSpEmJvUcAAHDlIXiUAxUqVJAkud3uPKdp06aN/P39tX379pIqq9QrK+vN6XRKkjIzMyVJXbt21VVXXaU33njD8+SzJUuWKDY2Vt7e3tqxY4fS09PVvHlzzzL8/PwUFhbG9gcAALYheFxBfH19Pd+ao+BKer198MEHuuGGGxQaGipfX1+NHj06x3iHw6GhQ4fq119/1aeffipJWrhwoe69915JUlpamiRp/PjxnvtBHA6H9u3bp/T09BJ7HwAAAOcjeFwh3G63jh8/rtq1a9tdSplSUuvtyy+/1PTp07V//3717t1bYWFhWr9+vVJTUzVlypSLpr/nnnvkcrn02muvaceOHQoMDFTdunUlSaGhoZKk6dOnyxiT47Vu3TpL3wcAAEBe+AHBK8SaNWtkjFH79u0l/XkvQ36XGOFPJbXevv/+ewUEBGjLli1yu9164IEH1KBBA0l/nuG4UEhIiGJiYrRkyRJVqlRJ9913n2dcnTp15HK59OOPPxZ7nQAAAEXFGY9yKisrSykpKcrIyNDmzZs1atQohYeH65577pEkNWrUSMeOHdOKFSvkdruVnJysffv25VhG5cqVdejQIe3du1cnT568IoJKSa83t9utP/74Q2vWrFFAQIDCw8MlSatXr9aZM2e0a9cuz+N8LzRs2DCdPXtW77//fo4fmXS5XBo8eLAWL16suXPn6sSJE8rMzFRiYqJ+//33y11FAAAARWPjE7WuKIV9/OisWbNMWFiYkWT8/f1Nr169zJw5c4y/v7+RZBo3bmz27Nlj5s+fbwIDA40kU7duXbNz504TFxdnnE6nqVWrlvHx8TGBgYHmjjvuMHv27PEs/+jRo6ZLly7G5XKZ+vXrm3/84x/mscceM5JMo0aNzP79+80PP/xg6tata/z8/EynTp3M4cOHC1T7unXrTMeOHU2NGjWMJCPJhIWFmQ4dOpgvvviiUOtNhXic7rfffmuaNWtmvLy8PG1OmjTJ9vX2yiuvmIYNG3rWRV6vt99+2xhjzJgxY0zlypVNcHCwiY6ONrNnzzaSTMOGDT2P9c32l7/8xYwbN+6idXH27FkzZswYEx4ebnx8fExoaKiJiooyW7duNVOmTDF+fn5GkqlTp45ZtGhRobaJMTxOFwAAFJ7DmP89FgeWSkhIUExMjEpidQ8dOlRLly7V0aNHLW/Lag6HQ/Hx8erbt6/lbZXF9Xbrrbdq9uzZql+/fom2W5L9GQAAlA9calVOZT96FYVT2tfb+Zdtbd68WS6Xq8RDBwAAQFEQPFAg27dvz/Fo1rxesbGxdpdaro0ZM0a7du3Szp07NXjwYD3zzDN2lwQAAFAgBI9y5vHHH9eCBQuUmpqq+vXra9myZcWy3CZNmlz0aNbcXkuWLCmW9kqaVeutuPn7+6tJkybq3r27Jk6cqIiICLtLAgAAKBDu8SghXBNfNCV5jwcKjv4MAAAKizMeAAAAACxH8AAAAABgOYIHAAAAAMsRPAAAAABYjuABAAAAwHIEDwAAAACWI3gAAAAAsBzBAwAAAIDlCB4AAAAALEfwAAAAAGA5ggcAAAAAyxE8AAAAAFiO4AEAAADAcj52F3CliY6OtruEMmf69OlaunSp3WXgPImJiXaXAAAAyhiHMcbYXcSVYN26dZo2bZrdZZR7ycnJ+uWXX9S5c2e7S7kiEAgBAEBBETxQriQkJCgmJkZ0awAAgNKFezwAAAAAWI7gAQAAAMByBA8AAAAAliN4AAAAALAcwQMAAACA5QgeAAAAACxH8AAAAABgOYIHAAAAAMsRPAAAAABYjuABAAAAwHIEDwAAAACWI3gAAAAAsBzBAwAAAIDlCB4AAAAALEfwAAAAAGA5ggcAAAAAyxE8AAAAAFiO4AEAAADAcgQPAAAAAJYjeAAAAACwHMEDAAAAgOUIHgAAAAAsR/AAAAAAYDmCBwAAAADLETwAAAAAWI7gAQAAAMByBA8AAAAAliN4AAAAALAcwQMAAACA5QgeAAAAACxH8AAAAABgOYIHAAAAAMsRPAAAAABYzsfuAoCiSkxM1N13363MzEzPsCNHjsjHx0c33HBDjmmvvvpqzZs3r6RLBAAAwP8QPFBm1a5dW3v37tWvv/560bgvvvgix/8jIyNLqiwAAADkgkutUKYNGjRITqfzktPFxsaWQDUAAADIi8MYY+wuAiiq3bt3q3HjxvlOExERoa1bt5ZQRQAAAMgNZzxQpjVq1EjXXHONHA5HruOdTqfuvvvuEq4KAAAAFyJ4oMwbNGiQvL29cx2XkZGhvn37lnBFAAAAuBCXWqHMO3TokOrUqaOsrKwcwx0Oh9q1a6d169bZVBkAAACyccYDZV7NmjXVoUMHeXnl7M7e3t4aNGiQTVUBAADgfAQPlAt33XXXRcOMMYqKirKhGgAAAFyI4IFyITo6OscZD29vb3Xv3l3VqlWzsSoAAABkI3igXAgJCdGNN97oucncGKOBAwfaXBUAAACyETxQbgwcONBzg7mPj4969eplc0UAAADIRvBAudGrVy/5+vp6/h0YGGhzRQAAAMjmY3cBpUViYqK++eYbu8vAZWrVqpW++eYb1a9fXwkJCXaXg8vEb7AAAFB+8Dse/5OQkKCYmBi7ywBwHj6eAAAoP7jU6gLGGF5l+HXu3DmNHj06z/GSFB8fb3udvPJ/xcfH2/xJAAAAihvBA+WK0+nUxIkT7S4DAAAAFyB4oNzx8/OzuwQAAABcgOABAAAAwHIEDwAAAACWI3gAAAAAsBzBAwAAAIDlCB4AAAAALEfwAAAAAGA5ggcAAAAAyxE8AAAAAFiO4AEAAADAcgQPAAAAAJYjeAAAAACwHMEDAAAAgOUIHqVQ27Zt5e3trWuvvbZYlztkyBBVqlRJDodDP/74Y4Gn+fDDDxUUFKSVK1cWaz2FlZWVpenTp6tDhw4l0t7y5cvVoEEDORyOPF/16tW77HbY3gAA4EpA8CiFNmzYoC5duhT7cl977TW9+uqrhZ7GGFPstRTWrl271LlzZz388MNKT08vkTajoqL066+/qmHDhgoKCpIxRsYYZWRkKD09XX/88Yf8/f0vux22NwAAuBL42F0A8uZwOOwuQZJ06623KjU11bb2f/rpJz399NMaNmyY0tLSbD8w9vb2lp+fn/z8/HTVVVcV23LZ3gAAoDzjjEcp5nQ6i32ZBTm4tfIA2BijpUuXav78+QWep2XLllq+fLkGDBggX19fy2orihUrVhTbstjeAACgPCN4XIbMzExNmDBB4eHh8vPz0zXXXKP4+HhJ0owZMxQQECAvLy+1bt1a1atXl9PpVEBAgFq1aqXIyEjVqVNHLpdLwcHBGj169EXL3717t5o0aaKAgAD5+fkpMjJSa9euLVD70p8HfVOnTtXVV18tX19fBQUF6bHHHsvRxqWmWbt2rcLDw+VwODR79mxJ0ty5cxUQECB/f3+9++67uvnmmxUYGKjatWtr8eLFOep77rnndPXVV8vPz09Vq1ZV/fr19dxzz6lv377FsxFKCbb3lbW9AQBAERgYY4yJj483hV0djz76qPH19TXLli0zKSkp5vHHHzdeXl5mw4YNxhhjnnrqKSPJrF+/3qSlpZkjR46Ynj17Gknmgw8+MMnJySYtLc2MGDHCSDI//vijZ9ndunUzDRo0ML/99ptxu93m559/Nu3atTMul8vs3LmzQO0/8cQTxuFwmJdeesmkpKSY9PR0M2fOHCPJbNq0qcDTHDhwwEgys2bN8tT3xBNPGEnm008/NampqSYpKclERkaagIAAc+7cOWOMMZMmTTLe3t7m3XffNenp6eb777831atXNzfccEMRt5Ix7dq1My1btizy/JJMfHx8oeZp2LChCQoKyjFs5MiRZsuWLTmGsb2Lb3sX5e8RAACUbuzZ/6ewBzqnT582/v7+JjY21jMsPT3d+Pr6mgceeMAY838HoidPnvRM8+abbxpJOQ5av/vuOyPJLFmyxDOsW7duFx1gb9682Ugyjz766CXbT09PN/7+/qZHjx45lrF48WLPQWZBpjEm/wPR06dPe4ZlH8Du3r3bGGNM27ZtzV//+tccy77//vuNl5eXOXv2bH6rN092BQ9JF73yCh5s7/9T1O1N8AAAoPzhUqsi2rFjh9LT09W8eXPPMD8/P4WFhWn79u15zlehQgVJUkZGhmdY9rX9brc73zZbtGihoKAgbd68+ZLt7969W+np6erWrVueyyvINIWR/d6y38eZM2cuuhE8MzNTTqdT3t7exdJmSTn/qVbGGI0cObJA87G9y+b2BgAAxY/gUURpaWmSpPHjx+f4XYd9+/ZZ+rhXp9Mpt9t9yfYTExMlSaGhoXkuqyDTXI5bbrlF33//vd59912dPn1aGzdu1IoVK/S3v/2tzB+IzpgxI0cIsArbGwAAlBcEjyLKPnibPn16jm/CjTFat26dJW1mZGTo2LFjCg8Pv2T7LpdLknT27Nk8l1eQaS7HxIkT1bVrV91zzz0KDAxUnz591Ldv30v+tgT+xPYGAADlCcGjiLKfUJTXL0Jb4fPPP1dWVpZatWp1yfabN28uLy8vffHFF3kuryDTXI6tW7dqz549Sk5Oltvt1v79+zV37lyFhIRY0p4dfv/9dw0ePNiSZbO9AQBAeULwKCKXy6XBgwdr8eLFmjt3rk6cOKHMzEwlJibq999/L5Y2zp07p9TUVGVkZOiHH37QiBEjVLduXd1zzz2XbD80NFRRUVFatmyZXn/9dZ04cUKbN2/O8XsKBZnmcgwfPlzh4eE6depUsSyvNDHG6PTp01q+fLkCAwOLZZlsbwAAUK6V9N3spVVRnqJz9uxZM2bMGBMeHm58fHxMaGioiYqKMlu3bjUzZsww/v7+RpKpV6+e+eqrr8zkyZNNUFCQkWSqV69u/vOf/5glS5aY6tWrG0kmJCTELF682BhjzIIFC0yXLl1MtWrVjI+Pj6lSpYrp16+f2bdvX4HaN8aYkydPmiFDhpgqVaqYihUrmk6dOpkJEyYYSaZ27drmp59+uuQ09913nwkLCzOSjL+/v+nVq5eZM2eO5701btzY7Nmzx8yfP98EBgYaSaZu3bpm586d5rPPPjNVqlTJ8SQop9NpmjZtapYvX17g9bxu3TrTsWNHU6NGDc9ywsLCTIcOHcwXX3xRqG2mQjzV6u23387ziVbnv8aPH8/2LsbtbQxPtQIAoDxyGHPBY2iuUAkJCYqJibnoqTwourlz52rXrl2aPn26Z9i5c+c0duxYzZ07VykpKfLz8yvRmhwOh+Lj4/lBOwsU5/bm7xEAgPLHx+4CUD4dPnxYI0aMuOiehAoVKig8PFxut1tut7vEgweswfYGAACXwj0esISfn5+cTqdef/11/fHHH3K73Tp06JBee+01TZgwQddee62CgoJyPBo2t1dsbKzdbwUFcKntHRsbW2z3wgAAgLKJMx6wRFBQkD755BM9/fTTuuqqq5SWlqaKFSuqWbNmmjx5su6//375+ND9youCbG8AAHBl48gPlomMjNSqVavsLgMlhO0NAADyw6VWAAAAACxH8AAAAABgOYIHAAAAAMsRPAAAAABYjuABAAAAwHIEDwAAAACWI3gAAAAAsBzBAwAAAIDlCB4AAAAALEfwAAAAAGA5ggcAAAAAyxE8AAAAAFiO4AEAAADAcj52F1DaJCQk2F0CLLZu3Tq7S8AlsI0AACh/HMYYY3cRpUFCQoJiYmLsLgPAefh4AgCg/CB4oFzJDpB0awAAgNKFezwAAAAAWI7gAQAAAMByBA8AAAAAliN4AAAAALAcwQMAAACA5QgeAAAAACxH8AAAAABgOYIHAAAAAMsRPAAAAABYjuABAAAAwHIEDwAAAACWI3gAAAAAsBzBAwAAAIDlCB4AAAAALEfwAAAAAGA5ggcAAAAAyxE8AAAAAFiO4AEAAADAcgQPAAAAAJYjeAAAAACwHMEDAAAAgOUIHgAAAAAsR/AAAAAAYDmCBwAAAADLETwAAAAAWI7gAQAAAMByBA8AAAAAliN4AAAAALAcwQMAAACA5QgeAAAAACxH8AAAAABgOYIHAAAAAMsRPAAAAABYzsfuAoCiSk5O1jvvvJNj2MaNGyVJ8+fPzzG8YsWK6t+/f4nVBgAAgJwcxhhjdxFAUZw9e1ahoaFKS0uTt7e3JMkYI2OMvLz+72Se2+3WoEGD9Oabb9pVKgAAwBWPS61QZvn6+io6Olo+Pj5yu91yu93KyMhQZmam5/9ut1uSONsBAABgM854oEz79NNP1b1793ynCQ4OVnJysnx8uLIQAADALpzxQJnWpUsXhYaG5jne6XRq4MCBhA4AAACbETxQpnl5eal///6qUKFCruPdbrf69etXwlUBAADgQlxqhTJv/fr1at++fa7jatSooYMHD8rhcJRwVQAAADgfZzxQ5rVr105169a9aLjT6dTdd99N6AAAACgFCB4oF+666y45nc4cw7jMCgAAoPTgUiuUC9u3b1fTpk1zDGvUqJF27dplU0UAAAA4H2c8UC40adJEERERnsuqnE6nBg8ebHNVAAAAyEbwQLkxaNAgzy+Yu91u9e3b1+aKAAAAkI1LrVBu7Nu3T/Xr15cxRq1bt9bGjRvtLgkAAAD/wxkPlBt169ZV27ZtJf159gMAAAClx0VnPBISEhQTE2NXPQBwxeNENFD68Gh2lDfx8fElflm6T14j4uPjS7IO4LJNnz5dbrdbWVlZGjt2rN3lAIW2bt06zZgxw+4yAORh1KhRuu666+wuo8yYPn26JOmhhx6yuRJcyK6TDHkGD27MRVmzdOlSSdJzzz2nxo0b21wNUDQED6D0uu666zg+KoTs/TLrrPSxK3hwjwfKHUIHAABA6UPwAAAAAGA5ggcAAAAAyxE8AAAAAFiO4AEAAADAcgQPAAAAAJYjeAAAAACwHMEDAAAAgOUIHgAAAAAsR/AAAAAAYDmCBwAAAADLETwAAAAAWI7gAQAAAMByBA8AAAAAlrvs4NG2bVt5e3vr2muvzXe6Dz/8UEFBQVq5cmWe0wwZMkSVKlWSw+HQjz/+WOD5rGRX+y+++KKqVasmh8Ohf/3rX7lOs3r1ao0bN65A05YmWVlZmj59ujp06JBj+HvvvacpU6YoMzOzROpYvny5GjRoIIfDkePl4+OjqlWrqnv37nr77bdzzEM/LpzC9OMLt0dYWJgGDhyY7/J/+uknxcbGqn79+vL19VXVqlXVsmVLPfvss5Kk2NjYi7ZvXq/BgwfnaP/JJ5/Mt+1p06bJ4XDIy8tLTZo00ZdfflnifRhA6WX3535RPf3004qIiFBgYKB8fX3VqFEjjR49WqdOnbK87W+//VZNmzaVl5eXHA6Hqlev7vk8t1NR9k/I3WUHjw0bNqhLly6XnM4Yc8lpXnvtNb366quFns9KdrX/6KOP6ptvvslz/FNPPaWXX35Zjz/++CWnLU127dqlzp076+GHH1Z6enqOcb169ZLL5VK3bt10/Phxy2uJiorSr7/+qoYNGyooKEjGGBljlJycrPj4eB08eFBRUVGKj4/3zEM/LpzC9OMLt8fhw4f11ltv5Tnvli1b1KFDB4WFhenzzz9XamqqvvnmG/Xs2VNr1qzxTPfJJ5/o+PHjcrvd+v333yX92dfOnTuntLQ0JSUl6b777svRvvTndnS73bm2nZmZqZdfflmS1LVrV23fvl2dO3cu8T4MoPSy+3O/qD777DMNHz5ce/fu1ZEjR/Tcc89pxowZio6Otrzt9u3b65dfftGNN94oSdqxY4fGjx9vebuXUtj9E/JWbJdaORyOfMffeuutSk1N1W233Vao5RZ1vqI4ffr0Rd/Cl2T7BTV58mQtWbJECQkJqlSpUpGWkdt7tdpPP/2ksWPHatiwYXmeIRs5cqRatmypW265RRkZGSVaX7aQkBB169ZNM2fOlCQlJCR4xtGPi8/l9uMXX3xRwcHBmjFjhurVqyeXy6WrrrpKzzzzjPz8/CT9+bnUsWNHBQUFycfHxzOvw+GQ0+mUv7+/QkND1bp16xzLbt26tQ4fPqwVK1bk2vby5ctVq1atXMeVhj4MwH52f+4WdT9fsWJFxcXFqXLlyqpUqZL69u2r3r1766OPPtKBAwcsqLT0seMY6UpRbMHD6XQWy3IuFWCs9PrrryspKcm29gti9+7devLJJ/XPf/5TLperyMux4722bNlSy5cv14ABA+Tr65vndBMnTtSPP/6oGTNmlGB1F6tXr54kFemba/px/oqjHx89elSpqak6duxYjuEVKlTwXNqwePFi+fv7X3JZcXFx+tvf/ub5/wMPPCBJeuWVV3Kdftq0aXrkkUfyXF5p6cMArlxF3Re8//778vb2zjGsatWqknTRlQrlVVnYj5ZVxRY8du/erSZNmiggIEB+fn6KjIzU2rVrJUlr165VeHi4HA6HZs+e7ZnHGKOpU6fq6quvlq+vr4KCgvTYY495xuc23wsvvCB/f39VqlRJSUlJeuSRR1SrVi3t2LFDmZmZmjBhgsLDw+Xn56drrrkmx2UykrRo0SK1adNGLpdLAQEBqlevnp555hmNGjVKjzzyiPbs2SOHw6FGjRrlW/e0adPUtGlT+fr6KiQkRHfccYe2b98uSZo7d64CAgLk7++vd999VzfffLMCAwNVu3ZtLV682LOcr776ShEREQoKCpLL5VKLFi308ccf57ueX375ZRlj1KtXr0tuky+++EJ//etf5e/vr8DAQLVo0UInTpzI9b3OmDFDAQEB8vLyUuvWrVW9enU5nU4FBASoVatWioyMVJ06deRyuRQcHKzRo0dfsv2iCgkJ0fXXX68ZM2bYeqp68+bNkqTrr79eEv3Yrn6cl7Zt2yotLU1du3bV119/XeTl5KZr165q2rSpPv/8c+3YsSPHuK+//lrp6emeSwFyU1r6MAB75Pa5W5DP1Jdfflkul0vVqlXT0KFDVaNGDblcLnXo0EHr16+XJI0YMUIVKlRQWFiYp70HH3xQAQEBcjgcOnLkSK77gstx8OBB+fn5qX79+pe1nKIqa+suv/3ikCFDPPeKNGzYUJs2bZIkDR48WP7+/goKCtJ7772X77FAfscQpZ65QHx8vMllcL66detmGjRoYH777TfjdrvNzz//bNq1a2dcLpfZuXOnMcaYAwcOGElm1qxZnvmeeOIJ43A4zEsvvWRSUlJMenq6mTNnjpFkNm3alO98kszIkSPNrFmzTJ8+fcwvv/xiHn30UePr631l86kAACAASURBVGuWLVtmUlJSzOOPP268vLzMhg0bjDHGTJ8+3Ugyzz//vDl69Kg5duyYmTdvnhkwYIAxxpioqCjTsGHDHO8tt/YnTJhgKlSoYBYtWmSOHz9uNm/ebFq1amWqVq1qDh8+nKPGTz/91KSmppqkpCQTGRlpAgICzLlz54wxxixdutRMnDjRHDt2zBw9etS0b9/eVKlSxdPOrl27jCTzyiuveIY1aNDAREREXLQNLpz21KlTJjAw0EyZMsWcPn3aHD582PTp08ckJyfn+V6feuopI8msX7/epKWlmSNHjpiePXsaSeaDDz4wycnJJi0tzYwYMcJIMj/++OOlO0ce2rVrZ1q2bJnn+HHjxuXoBwVx5513mjvvvLPQtTRs2NAEBQV5/p+enm7++9//mrp165obb7zRnDp1yjOOfmxtP85te+QlPT3dtGnTxkgykkxERISZMmWKOXr0aJ7z/P7770aSuf322/OcpmHDhua3334zM2fONJLMqFGjcozv3bu3WbBggTl58qSRZLp165brcorSh4vy+QugZEgy8fHxBZ4+v8/9/D5T4+LiTEBAgNm2bZs5c+aM2bp1q2nbtq2pVKmS2b9/vzHGmAEDBpjq1avnaG/q1KlGUr77+aJIS0szlSpVMiNGjCj0vEXdL990001GkklJSfEMKw3rrqD7p0vtF6Oiooy3t7c5ePBgjvn69+9v3nvvPWOMueSxQF7HEAVV2P5cXIrtjEelSpVUr149+fj4qFmzZnr11Vd15swZzZ8/P9fpT58+renTp6t79+56+OGHFRwcLD8/P1WuXLnAbU6ePFnDhw/X8uXLVa9ePc2dO1e9e/dWVFSUgoODNX78eDmdTi1YsEBut1v//Oc/1aVLF40dO1aVK1dWSEiI7r33XrVt27bAbZ4+fVrTpk1Tnz59NHDgQAUFBalFixb617/+pSNHjlz0fjt06KDAwECFhoYqNjZWaWlp2r9/vyTpzjvv1FNPPaWQkBBVrlxZvXr10tGjR5WcnJxr22lpafrtt988N7/mZ+/evTpx4oSaNWsml8ul6tWra/ny5Z7TpfmJiIiQv7+/qlSpon79+kmSwsPDVbVqVfn7+3ue5JD9zbgVGjduLOnPG4hLQmpqqucbCH9/f8+3KQMGDMj3MkL6sbX9OD9+fn765ptvNHPmTDVp0kTbtm3TmDFj1LRpU33xxReXtWxJuvvuuxUQEKA333xTp0+fliT9+uuv2rBhg/r373/J+Uu6DwMoO/L7TJUkHx8fz9noiIgIzZ07VydPntSCBQtKvNbnnntONWrUKBVPl5LKxrq71H5x2LBhyszMzFHTiRMntGHDBt1yyy06c+ZMvscC5zv/GKJJkyYl9h6LyrLf8WjRooWCgoI8l6tcaPfu3UpPT1e3bt2Kpb0dO3YoPT1dzZs39wzz8/NTWFiYtm/frs2bN+v48eO66aabcszn7e2tkSNHFridrVu36tSpU2rTpk2O4W3btlWFChU8p/NyU6FCBUnK80k52Qe4eT2KMykpScaYAl2z3qBBA1WrVk0DBw7UxIkTtXfv3kvOk1/N598km11nXu+jOGS/xz/++MOyNs53/lOt3G63EhMT9dBDD2nEiBG65pprdOTIkVznox9frDj78aU4nU6NGDFCv/zyi7799lvdcccdSkpKUnR0tFJSUi5r2UFBQerfv79SUlK0ZMkSSdL06dP1wAMPeNZBfkq6DwMomy71mSpJbdq0kb+/v6Vf+OXm7bffVkJCgj7++OMiP8zGSqV53Z3vwv1i165dddVVV+mNN97wXI67ZMkSxcbGytvb+5LHAmWZpT8g6HQ68+wMiYmJkqTQ0NBiaSstLU2SNH78+BzP5t+3b5/S09N14sQJSVJwcPBltZN9o3HFihUvGhccHKyTJ08WeFkffPCBbrjhBoWGhsrX1/eS902cOXNGkvK9MTubn5+fPvvsM3Xq1EmTJk1SgwYNFBsb6/nmtrTLfipR9nsuST4+PqpVq5YGDx6sF198UTt27NDzzz+f67T0Y2v7cWG0a9dO77zzjoYNG6bk5GR9/vnnl73M7JvM//Wvf+n48eNaunSphg4dWqB57ezDAMofX1/fPM8kW2HJkiWaPHmy1qxZ43nYSllV0uvuUvtFh8OhoUOH6tdff9Wnn34qSVq4cKHuvfdeSZc+FijLLAseGRkZOnbsmMLDw3Mdn/0km7NnzxZLe9kHftOnT/d8c539WrdunWrWrClJeX5zXVDZB3y5HZgdP35ctWvXLtBy9u/fr969eyssLEzr169XamqqpkyZku882QcyBf1xsmbNmmnlypU6dOiQxowZo/j4eL344osFmtdu586dk/R/79kuLVq0kCRt27Yt1/H0Y+v78fm+/PJLTZ8+XdKfz1XP7XG1d911l6TiefrKtddeq/bt2+u7775TXFycoqOjFRISUqB5S0sfBlD2ud3uQn02X65Zs2bprbfe0meffebZ75RVJbXusvdPBd0v3nPPPXK5XHrttde0Y8cOBQYGqm7dupIufSxQllkWPD7//HNlZWWpVatWuY5v3ry5vLy8iuVabEmeJy5l/1L0herVq6fKlSvrk08+uax2mjdvrooVK2rjxo05hq9fv17nzp276PcA8rJlyxa53W498MADatCggVwu1yUfwZr9C9CpqamXXP6hQ4c8B8uhoaF6/vnn1apVqzwPoEub7PdYvXp1W+v4/vvvJUlXX311ruPpx9b24wt9//33CggIkPRn2MutP2c/1eOaa64p9PJzk33WY9myZXrooYcKPF9p6cMAyr41a9bIGKP27dtL+vPMvBWXOxtjNGbMGG3ZskUrVqzI9ax4WVNS6y57/1TQ/WJISIhiYmK0YsUKvfjii7rvvvs84y51LFCWFVvwOHfunFJTU5WRkaEffvhBI0aMUN26dXXPPffkOn1oaKiioqK0bNkyvf766zpx4oQ2b96c583ol+JyuTR48GAtXrxYc+fO1YkTJ5SZmanExET9/vvv8vX11eOPP64vv/xSI0aM0MGDB5WVlaWTJ096Dl4qV66sQ4cOae/evTp58mSuHdPlcumRRx7R22+/rbfeeksnTpzQli1bNGzYMNWoUUNxcXEFqjf7TNDq1at15swZ7dq1K9/r6qU/rxlv0KCB5/Ke/Bw6dEhDhw7V9u3bde7cOW3atEn79u3z/OEV5L3aKfs9Zp9xKAmnT59WVlaWjDE6dOiQFixYoPHjx6tq1ap5HnDSj63tx9ncbrf++OMPrVmzxhM8JKl3795KSEjQ8ePHlZqaqnfffVdjx47V7bffXmzBo2/fvqpatap69+6tBg0aFHg+O/owgPIhKytLKSkpysjI0ObNmzVq1CiFh4d7jqkaNWqkY8eOacWKFXK73UpOTta+fftyLKMo+/lt27bphRde0Kuvviqn05njMh+Hw1Emrpoo6XV34f6pMPvFYcOG6ezZs3r//fdz/NDkpY4FyrQLH3NVlMc5LliwwHTp0sVUq1bN+Pj4mCpVqph+/fqZffv2GWOMmTVrlgkLCzOSjL+/v+nVq5cxxpiTJ0+aIUOGmCpVqpiKFSuaTp06mQkTJhhJpnbt2ua+++67aL4pU6YYPz8/I8nUqVPHLFq0yFPH2bNnzZgxY0x4eLjx8fExoaGhJioqymzdutUzzezZs02LFi2My+UyLpfL/OUvfzFz5swxxhjzww8/mLp16xo/Pz/TqVMnM378+FzrzsrKMlOnTjWNGzc2TqfThISEmN69e5sdO3YYY4yZM2eO8ff3N5JM48aNzZ49e8z8+fNNYGCgkWTq1q1rdu7cacaMGWMqV65sgoODTXR0tJk9e7aRZBo2bGhGjRplqlevbiSZgIAA06dPH2OMMSNGjDBOp9Okp6d73tNLL7100bR79+41HTp0MCEhIcbb29vUrFnTPPHEEyYjIyPX9zpu3DhPzfXq1TNfffWVmTx5sgkKCjKSTPXq1c1//vMfs2TJEk9bISEhZvHixQXuJ+vWrTMdO3Y0NWrU8DwCNSwszHTo0MF88cUXOaa99dZbTa1atUxWVlaBl1/Yx/a9/fbbpmHDhp5azn/5+vqaxo0bmwceeMDzCD76sbX9OL/tcf7r7bffNsYY88knn5iYmBjTsGFD4+vraypUqGCuvvpqM3HiRHPmzJkc2/rEiROmc+fOpnLlykaS8fLyMo0aNTKTJk3Ktf2qVaua4cOHe8aNHj3afPPNN57/n79Ovby8TEREhPnqq69ytFmUPszjdIHSS4V4/Ghu+4uCfqbGxcUZp9NpatWqZXx8fExgYKC54447zJ49ezzLP3r0qOnSpYtxuVymfv365h//+Id57LHHjCTTqFEjs3///ov2BdmPSc/Pli1b8v38nTp1aqHWWWH3y99++61p1qyZ8fLy8hwjTJo0yfZ198orrxRq/5TffjH7mCLbX/7yFzNu3LiL1kV+xwL5HUMUVGH6c3EqluCBkrNr1y7j4+NTpE5WVhw5csS4XC7z4osvFmq+oj4vHCWvvPfjovZhPn+B0qukDtTi4uJM5cqVLW+nJJT0frksrrtbbrnF/PrrryXerl3Bw9KnWqH4NWrUSE8//bSefvppnTp1yu5yLDFx4kRde+21GjFihN2lwCLlvR/ThwFcjqI8fAN/Ku3r7vzLtjZv3iyXy2XbL8LbgeBRBo0bN07R0dGKjY0t0g26xWn79u0XXQOa2ys2NrZAy5s2bZp+/PFHffjhh/n+cB/KvtLUj4sTfRhAaVPc+2oU3ZgxY7Rr1y7t3LlTgwcP1jPPPGN3SSWK4FFGTZo0SSNGjMjz9yVKSpMmTS561Ftur+wfYMvPu+++q7Nnz2rNmjUFfmQpyrbS0o+LC30YwOV4/PHHtWDBAqWmpqp+/fpatmxZsSy3OPfVpZVV6664+fv7q0mTJurevbsmTpyoiIgIu0sqUQ5j/veTif+TkJCgmJgYXTAYKPWio6MlSUuXLrW5EqBo+PwFSi+Hw6H4+Hj17dvX7lLKDPbLpZdd/ZkzHgAAAAAsR/AAAAAAYDmCBwAAAADLETwAAAAAWI7gAQAAAMByBA8AAAAAliN4AAAAALAcwQMAAACA5QgeAAAAACxH8AAAAABgOYIHAAAAAMsRPAAAAABYjuABAAAAwHI+eY1wOBwlWQdQbOi7AAArxMTEKCYmxu4yyhz2y8h2UfDo0KGD4uPj7agFefj5558VHx+vnTt3qlWrVhoxYoT8/PzsLqtUWrdunWbMmHFF9eE1a9boww8/1L59+1SjRg117txZ119/vapUqWJ3aQBQblxJ+xU7xcTEaNSoUbruuuvsLqXc69ChQ4m36TDGmBJvFQXy9ddf66mnntKnn36qjh07atKkSbr++uvtLqtUS0hIUExMjK7Ebr1161YtWrRICxYs0JEjR3Tddddp0KBBGjBggAICAuwuDwCAS3I4HIqPj1ffvn3tLgUW4B6PUujbb7/Vbbfdpk6dOunMmTP67LPPtHbtWkIH8tWsWTNNnjxZBw4c0IoVK1SzZk0NHz5ctWrV0qBBg7R69eorMpABAIDSgeBRimzevFk333yzrrvuOqWmpmrNmjVau3atunTpYndpKEMqVKig2267TQkJCdq/f7/++c9/asuWLerRo4ciIiI0ceJE7d+/3+4yAQDAFYbgUQokJSUpLi5OrVq10rFjx7Rq1Sp9+eWXnOHAZQsLC9PIkSO1adMmbdy4UTfeeKPmzJmj+vXrq0ePHlq4cKFOnz5td5kAAOAKQPCwkdvt1syZM3XVVVfp/fff19y5c7Vu3Tp1797d7tJQDrVu3VozZ85UYmKilixZIpfLpXvvvVc1a9ZUXFyc1q5da3eJAACgHCN42GT16tW69tprNW7cOA0dOlTbt2/X/fffLy8vNgms5evrq+joaK1cuVL79u3T2LFj9fnnnysyMlLNmjXTlClTlJSUZHeZAACgnOEot4Rt375dt956q3r06KEGDRpo69atmjx5sipVqmR3abgC1axZU2PGjNHOnTu1ceNGde/eXS+88IJq1qypHj16aOnSpXK73XaXCQAAygGCRwk5deqURo4cqebNmyspKUlr167VypUrVb9+fbtLAyT936VYBw8e1OLFi+VyudSvXz+FhYUpLi5OmzZtsrtEAABQhhE8SsDHH3+sFi1a6K233tL8+fO1fv16dezY0e6ygFy5XC7PpVh79+7V6NGj9emnn6pVq1aeS7GOHDlid5kAAKCMIXhY6Pjx44qLi9PNN9+s5s2ba/Pmzfr73//OfRwoM2rXrq0xY8Zo9+7d2rhxozp16qRnn31WtWvX1m233aalS5cqIyPD7jIBAEAZwBGwRVauXKnmzZvrvffe09KlS7Vy5UrVqlXL7rKAImvdurXmzZunpKQkLVq0SGfOnFFMTIzCw8M1cuRIbd682e4SAQBAKUbwKGaHDx9WdHS0br/9dnXt2lU///yzoqKi7C4LKDZ+fn6Kjo7WqlWrtHfvXo0cOVIrV65Uy5Yt1aZNG82cOVNHjx61u0wAAFDKEDyK0b///W81bdpUmzZt0urVq7Vw4UJVqVLF7rIAy4SHh3suxfrqq6/UunVrPfHEE6pdu7b69u2rlStXKjMz0+4yAQBAKUDwKAYpKSnq27ev7r33Xv3973/X5s2b1bVrV7vLAkqMl5eXOnXqpHnz5ungwYOaN2+eUlJSdPvtt6tu3boaO3asdu/ebXeZAADARgSPy7Ru3Tq1bt1aX375pT744AO99NJL8vf3t7sswDZBQUEaNGiQVq1apW3btmnIkCFavHixGjdurDZt2mj+/Pk6deqU3WUCAIASRvAooszMTE2YMEGRkZFq2bKltm7dqp49e9pdFlCqNGnSRBMnTtRvv/2mVatWKSIiQqNGjVK1atXUt29frV69WsYYu8sEAAAlgOBRBElJSerZs6emTp2q2bNn65133uFeDiAfXl5e6t69uxYuXKhDhw5pxowZOnTokHr06OG5FOu3336zu0wAAGAhgkchbdiwQX/961+1c+dOrVmzRkOHDrW7JKBMCQ4O1v3336+1a9dq69at6t+/vxYsWKBGjRqpU6dOmj9/vtLS0uwuEwAAFDOCRyHMnj1bHTt2VIsWLfTjjz+qXbt2dpcElGkRERGaPHmyDh06pI8//lg1a9bU8OHDVbNmTQ0aNIhLsQAAKEcIHgVw7tw5xcXFaeTIkZowYYLee+89hYSE2F0WUG54e3ure/fuSkhI0OHDhzV16lRt2bJFPXr0UNOmTTVx4kTt27fP7jIBAMBlIHhcwtGjR9WzZ0/9v//3/7Rs2TKNHz9eDofD7rKAcqty5cq6//77tWnTJv3888+64447NGfOHDVo0EA9evTQwoULlZ6ebneZAACgkAge+di2bZvatm2rvXv36ptvvlHv3r3tLgm4ojRr1kyTJ09WYmKiVqxYoZCQEN17772qVauW4uLitHbtWrtLBAAABUTwyMPatWsVGRmpmjVr6rvvvlOLFi3sLgm4Yvn6+uq2225TQkKC9u3bp4kTJ+rbb79VZGSkIiIiNGXKFP3xxx92lwkAAPJB8MjFihUrdOONNyoyMlKrVq1S1apV7S4JwP/UrFlTI0eO1E8//aSNGzeqR48eeuGFF1SrVi316NFDS5culdvttrtMAABwAYLHBebOnas777xTgwcP1vLly+Xn52d3SQDy0Lp1a82cOVMHDx7U4sWL5XK51K9fP1WvXl1xcXHatGmT3SUCAID/IXic54UXXtDw4cP19NNPa86cOfL29ra7JAAF4HK5FB0drZUrV2rfvn0aM2aMPvvsM7Vq1UrNmjXTlClTlJycbHeZAABc0Qge/zNlyhSNHTtW06ZN0+OPP253OQCKqFatWhozZox27dqljRs3qlOnTnr22WdVp04d3XbbbVyKBQCATQgekiZMmKBx48Zp1qxZGjVqlN3lACgmrVu31rx585SUlKRFixbpzJkziomJUd26dT33iQAAgJJxxQePsWPH6rnnntPChQv14IMP2l0OAAv4+fkpOjpaq1at0r59+zRy5EitXLlS1157rdq0aaOZM2fq6NGjdpcJAEC5dkUHj0mTJumFF17QvHnzNHDgQLvLAVAC6tSpozFjxmj37t366quv1Lp1az3xxBOqVauW+vbtq5UrVyojI8PuMgEAKHeu2OAxZ84cjR8/Xi+99JLuvfdeu8sBUMK8vLzUqVMnzZs3TwcPHtT8+fOVkpKi22+/XfXq1dPYsWO1e/duu8sEAKDcuCKDx8KFC/WPf/xDU6ZM0UMPPWR3OQBsFhQUpEGDBmnVqlX65ZdfNGTIEC1ZskSNGzdWmzZtNH/+fJ08edLuMgEAKNOuuOCxevVqDRkyRGPHjtXo0aPtLgdAKXP11Vdr4sSJ+vXXX7Vq1SpFRETooYceUrVq1dS3b1+tXr1axhi7ywQAoMzxsbuAkrRt2zZFR0erT58+mjRpkt3l4DK53W6dOnUqx7C0tDRJUkpKSo7hDodDwcHBJVYbyj4vLy91795d3bt318svv6yEhAQtXLhQPXr0UJ06ddS/f3/df//9atCggd2lAkCZdPz48Vy/yElLS7toP16xYkU5nc6SKg0WcZgr5Ku733//Xe3bt1fdunW1atUq+fr62l0SLtPhw4dVu3ZtZWZmXnLaG264QZ9//nkJVIXybtu2bVq4cKH+/e9/Kzk5Wdddd50GDRqkAQMGKCAgwO7yAKDM6NKli9asWXPJ6by9vZWYmKiwsLASqApWuiIutTpz5ox69eolf39/rVixgtBRToSFhalz587y8sq/GzscDvXr16+EqkJ5FxERocmTJ+vgwYP6+OOPVbNmTQ0fPlw1a9bUoEGDuBQLAAqoX79+cjgc+U7j5eWlzp07EzrKiSsieAwfPlw7duzQO++8o8qVK9tdDorRXXfdVaAPraioqBKqCFcKb29vde/eXQkJCfrjjz80depU/fzzz+rRo4eaNGmiiRMnau/evXaXCQClVnR0tLy9vfOdxuFwaNCgQSVUEaxW7i+1mjdvnoYNG6Zly5apT58+dpeDYnbixAmFhobq3LlzuY739vZWz5499f7775dwZbhSbd26VYsWLdIbb7yho0ePqmvXrrrrrrt05513yt/fv1DLOnz4MN/yASjXbr31Vn388cd5XjbtdDqVlJTEfZrlRLk+4/Hdd99p5MiRevLJJwkd5VRgYKB69uwpH5/cn5NgjOHHIVGimjVrpsmTJ+vAgQNasWKFQkJCdO+996pmzZqKi4vT2rVrC7QcY4w6d+6s559/3uKKAcA+AwcOVFZWVq7jfHx8dMsttxA6ypFye8bjxIkTatmypZo0aaIPPvjgkvcBoOxaunSpYmJicr2u3uVyKTk5WRUrVrShMuBPv//+uxISEvTGG29o8+bNatq0qe6++27dc889ql69eq7zrF27VpGRkXI4HOrfv79ef/117k8DUO6kp6erSpUqOnPmzEXjvLy8FB8frzvvvNOGymCFcns0/uCDDyotLU0LFiwgdJRzt912W66XsPj4+Kh3796EDtiuRo0aGjlypH766Sdt3LhRPXr00NSpU1WrVi316NFDS5cuvehywTfeeENOp1PGGMXHx6tTp076448/bHoHAGANf39/3XHHHbk+KtfX11e33nqrDVXBKuXyiHz58uX6z3/+ozfeeIPro68ALpdLffr0uehDKyMjQwMGDLCpKiB3rVu31syZM5WYmKjFixfL5XKpf//+CgsLU1xcnH744QelpaVpyZIlcrvdkv7syz/99JNatmypTZs22fwOAKB4DRgwwPN5l83pdCo6Olp+fn42VQUrlLtLrQ4cOKBrrrlG/fv315w5c+wuByXko48+0s0335xjWGBgoJKTk1WhQgWbqgIKZv/+/XrzzTf15ptvas+ePWrZsqW2bNly0XXPPj4+8vHxUXx8vHr16mVTtQBQvNxut6pWraoTJ07kGP7RRx/ppptusqkqWKHcnfEYOnSowsLC9OKLL9pdCkpQ9+7dczwq2el0KjY2ltCBMiE8PFxPPvmkdu3apS+++EJnz57N9THRGRkZOnv2rHr37q0pU6bYUCkAFD+n06l+/frl2GcHBwerW7duNlYFK5Sr4BEfH6///ve/mjt3LqfmrjA+Pj6KjY31XG7ldrvVv39/m6sCCsfhcCg8PFw7duzI89GSxhhlZWVp3Lhx+vvf/57no6QBoCzp16+f5/PM6XRqwIABeT6xEmVXuQkeqampevjhhzVkyBB16dLF7nJgg379+nmuEa1evboiIyNtrggovH//+98F2tkaY7Ro0SJ17txZycnJJVAZAFgnMjLS85Q/t9ut2NhYmyuCFcpN8Bg9erQyMzO5/OAK1rFjR9WsWVPSn79oztPMUNYYY/T6669fdJNlXjIyMvT999+rTZs22r59u8XVAYB1vLy8PL+7VaNGDXXs2NHmimCFcnEO6/vvv9drr72mRYsWKSQkpEDzrFu3TtOmTbO4MpS0SpUqSZI2bdqk6Ohom6tBcVu6dKklyy0tnwfJyclKTEzMd5rz7/1wOBzKzMzU/v371aJFC1133XV5/i4IUBo8/PDDuu666yxZNp/5ZV9KSoqkPx8O07dvX5urweXK7e+9XASPhx9+WO3atVO/fv0KPM+BAwe0bNkyfpSmnAkPD9ehQ4fyDKDLli1T+/btVbt27RKuDJcjMTFR3377rWXLLy2fB8HBwerRo4fnaVbZZz6ysrKUkZEhScrMzPTc/5GRkSFjjIwxcrvdOnLkiIKDg8v1Dw1m94P27dvbXAkKa9myZYqOjrYsePD5XvaFhIQoMDBQ4eHhuY7n77/syOvvvcwHj7fffltfffWV1q5dm+tTYC7Fqm9QYZ+EhIQ8vylxOBx66KGH+CaljElISFBMTIzl7fB5UPplf6vNtip7R5QeYAAAIABJREFUirKPLiw+38u+/Pbh/P2XHXn9vZfpi+AzMjI0duxY9evXTx06dLC7HJQS7HQAACib2IeXb2X6jMfixYv122+/6aOPPrK7FAAAAAD5KLNnPLKysjRlypT/z959R0V17W8Df4bepCgKGit2bIjGgoBRwRJNjFEQWzRqYrmJGjX4s8SYGGOJ3cQYSxK7oFiuJjYEERQbKBbEjqhEAZGO1P3+kde5IYJSZ88Mz2ct1tKZM2c/M+ecmfnO2XsfDB06FHZ2drLjEBERERHRa2jsGQ8/Pz/cuHEDe/bskR2FiIiIiIjeQGPPeKxZswb9+/dHs2bNZEchIiIiIqI30MgzHjdu3EBISAiOHj0qOwoRERERERWDRp7x+Pnnn9GwYUO4ubnJjkJERERERMWgcYVHXl4efHx8MHr0aJXMCU5ERERERGWncYVHcHAw4uLi8OGHH8qOQkRERERExaRxhce+ffvQsmVLNG3aVHYUIiIiIiIqJo0rPPz9/dGvXz/ZMYiIiIiIqAQ0qvBISEjAjRs34OLiIjsKERERERGVgEYVHmfOnIFCoUCnTp1kRyEiIiIiohLQqMLj2rVrqF+/PqpWrSo7ChERERERlYBGFR63b99G48aNZccgSfLz87FixQo4OTmpvO2bN2/i888/R4sWLVClShXo6enBwsICTZo0Qd++fREaGqryTERUMjyOSRXefvtt6OrqwsHBoVzXO3bsWFSpUgUKhQKXL18u9jJ//vknLCwscPDgwXLNU1zffvst7O3tYW5uDkNDQzRq1Aje3t5IS0ur8Lb9/PxgZ2cHhUJR5F/9+vXL3A63efFpVOFx9+5dNGrUSHYMkuD27dtwdXXF1KlTkZGRodK2N23ahFatWuHKlStYvnw5Hj58iPT0dFy6dAnz589HUlISrl69qtJMRFQyPI5JVS5cuIBu3bqV+3o3btyIDRs2lHgZIUS5ZymJgIAAfPbZZ4iOjkZCQgK+//57rFy5Eh4eHhXe9sCBA3Hv3j00bNgQFhYWEEJACIHc3FxkZGTg6dOnMDExKXM73ObFpyc7QEkkJCSgevXqsmOovczMTPTo0QNnzpzRinYjIiLw7bffYsKECUhPT1fpAXX27FmMGzcOXbt2xdGjR6Gn979Dxs7ODnZ2drC0tMTt27dVlqk4tG0foNLjvsDjWFPa1TbqcpHjvn37Ijk5WVr7ZmZmGDduHHR1dQEAnp6e8PPzg6+vLx4+fIg6deqoPJOuri6MjY1hbGyMJk2alNt6uc3fTKMKj5SUFJibm8uOofY2bdqEuLg4rWm3TZs28PPzAwCsWbMGL168KPc2ivLdd98hLy8PCxcuLPBl5Z969eqFXr16qSxTcWjbPkClx32Bx7GmtKtt9PX1y32dxfliW5FffoUQ2LNnD54/f45PP/20WI85dOjQK7dZW1sDgMp7MBRm//795bYubvPirVBjWFpaivXr15fLunx8fERpnv6WLVtEu3bthKGhoTAxMRH16tUT3377rRBCiPz8fLFs2TLRrFkzYWBgICwtLUX//v3FjRs3hBBC/PTTT8LExEQYGxuL/fv3i969e4sqVaqIt956S+zYsaPY7Zw6dUo0b95cmJubC0NDQ9GyZUtx5MgRIYQQkydPFgYGBgKAACAaNmwohBAiNzdXfPXVV6JOnTrCyMhItGrVSuzatatEucq73dLo2LGjaNOmTakfD0D4+PgUa9msrCxhZGQkqlWrVuz1cx+omH2gtMdrRa+f7weq3xcGDRokBg0aVOzleRyrz7YryftvaZR0/a97TitWrBAmJiZCoVAIR0dHUaNGDaGnpydMTExE27ZthbOzs6hdu7YwNDQUFhYW4ssvvyyw7h49eggrKyvRtGlTYWJiIoyMjISzs7MIDg4uVvtC/L0fLlmyRDRp0kQYGBgIc3NzUadOHQFAXLp0qVjLBAcHK/+/Zs0aIUTx95Pc3FyxYMEC0aRJE+UxVK9ePeHg4CCeP39e8g30D/379xfGxsYiKyurRI8r6fH/UsOGDYWFhcVrl+E2L99tXtTxqFGFR/Xq1cVPP/1ULusqzReNFStWCABi4cKF4tmzZyIxMVH88ssvYtiwYUIIIebOnSsMDAzE1q1bRVJSkrhy5YpwdHQU1tbW4smTJ0IIIWbPni0AiBMnTojk5GQRFxcnXFxchKmpqcjOzi5WO7t37xbz5s0TiYmJ4tmzZ6JTp04FPlQHDhyo/LB4afr06cLQ0FDs2bNHPH/+XMyaNUvo6OiICxcuFDtXRbRbUqosPG7duiUAiE6dOhV7/dwHKmYfUMfCg+8HcvaFkn7x4HGsPttO3QqPNz2nr7/+WgAQ586dE+np6SIhIUH07t1bABB//PGHiI+PF+np6WLSpEkCgLh8+bJy3T169BB2dnbi/v37IicnR1y7dk107NhRGBkZiVu3bhWr/dmzZwuFQiGWLVsmnj9/LjIyMsRPP/1U4EtocZZ5+PBhgS+hLx/3pv1kwYIFQldXVxw4cEBkZGSIsLAwYWNjI955550ybCUh0tPTRZUqVcSkSZNK/NjyLDwmT54srl69WuA2bvPy2+ZaUXjUqVNHLFu2rFzWVdIvGtnZ2cLS0lJ069atwO25ubli5cqVIiMjQ5iZmQkvL68C958/f14AUP7C9XLDZ2ZmKpd5ucPcuXPnje0U5vvvvxcARFxcnBDi1Q+NzMxMYWJiUiBbRkaGMDQ0FBMnTixWropqt6RUWXhcvHhRABBubm7FWp77QMXtA+pWePD9oGLaLY6SfvHgcaw+206dCo/iPKeXX0JTU1OVy2zevFkAKPCF9eW+8c9frnv06PHKZ9WVK1cEADF9+vQ3tp+RkSFMTEyEu7t7gXXs3LlT+QWzOMsI8fovoa/bT95++23RoUOHAuv+9NNPhY6OTonPVPzT7NmzRZMmTURKSkqJH1uWwuPlWbx//hVVeHCb/09pt3lRx6NGzWpVpUoVpKSkSGn7ypUrSEpKeqUPsK6uLiZPnozr168jLS0N7du3L3D/22+/DQMDA5w7d67IdRsYGAAAcnJy3thOYV72KczLyyv0/ps3byIjIwMtW7ZU3mZsbAxbW1tERUUVK5cq21UXZmZmAIrfB5X7QPm1q+74fqC6dsuKx7HmbruKVNbXMjc3V3nby9evqNf3pVatWsHCwgJXrlx5Y/t37txBRkYGevToUeT6irNMSfx7P3nx4sUrk7nk5eVBX19fOVC8pPbu3QtfX18cPXoUVapUKVvgEvrnrFZCiCKPw3/jNi/bNv83jSo8atWqhdjYWCltvyx4LC0tC70/KSkJwP8+5P7J0tISqamp5dIOAPzxxx945513UL16dRgaGsLb2/u160xPTwcAzJkzp8Dc1Q8ePCjRwC5Z7cpSv359GBkZ4datW8VanvtAxbWrbvh+oDn7Ao9j9WlXnch6Tvr6+sjJyXlj+48ePQKA187kWZxlyuLdd99FWFgYDhw4gMzMTFy8eBH79+9Hv379SvUldNeuXVi0aBFOnjxZLtfOKKuVK1cWKAIqSmXe5oXRuMLj8ePH0toG/p7StzAvP1wK+1BKSkpC7dq1y6WdmJgYDBgwALa2tjh37hySk5OxePHi167z5Q66YsWKAtW+EKLYF8yS1a5MhoaG6NWrFxISEnD69Okil0tMTMTYsWO5D1RQu+qI7weasy/wOFaPdtWNjOeUm5uLxMRE1K1b943tGxkZAQCysrKKXF9xlimLefPmoXv37hg1ahTMzc3x4YcfwtPT843XlSjMmjVrsG3bNgQEBCiPjcqgMm/zomhU4dGgQQPcvXtXStv169dH1apVcezYsULvb9myJczMzHDx4sUCt587dw7Z2dlo165dubRz9epV5OTkYOLEibCzs4ORkdEbp1GrU6cOjIyMirzqZXHIale2efPmwdDQEFOnTkVmZmahy1y7dg16enrcByqoXXXE9wPN2hd4HMtvV93IeE6BgYHIz8+Ho6PjG9tv2bIldHR0EBQUVOT6irNMWVy/fh13795FfHw8cnJyEBMTg7Vr18LKyqrY6xBCYMaMGbh69Sr2799f6JlE2f766y98/PHHFbLuyrjN30SjCo+WLVvizp07RX5wVCRDQ0PMmjULp06dwqRJk/D48WPk5+cjNTUVkZGRMDIywrRp07B3715s27YNKSkpuHr1KiZMmICaNWti3Lhx5dJO3bp1AQD+/v548eIFbt++/Uqf46pVqyI2NhbR0dFITU2Frq4uPv74Y+zcuRNr165FSkoK8vLy8OjRI/z111/FyiWrXdkcHBywfft2XLt2DS4uLvjzzz+RnJyMnJwc3L9/Hxs2bMCYMWOgr6/PfaCC2lVHfD/QrH2Bx/H/aNq2qyhGRkYV/pyys7ORnJyM3NxchIeHY9KkSahXrx5GjRr1xvarV6+OgQMHYs+ePdi0aRNSUlJw5coVrF+/Xrn+4ixTFp999hnq1q2LtLS0Uq8jMjISS5YswYYNG6Cvr1+gi5FCocDSpUvLJWtpCCGQmZkJPz+/crtGHLd5MZRoiLpkUVFRAoC4ePFimddV2llyfvzxR9GqVSthZGQkjIyMRNu2bZVT/Obn54sffvhBNG7cWOjr6wsrKysxYMAAcfPmTSHE/+ZRBiAaN24s7t69K9avXy/Mzc0FAFGvXj3llGuva2fGjBmiatWqwtLSUnh4eIgff/xROd96TEyMCA8PF/Xq1RPGxsbC2dlZPHnyRGRlZYkZM2aIunXrCj09PVG9enUxcOBAcf369WLnKu92iys0NFR06dJF1KxZUzkTha2trXBychJBQUEl2n4o5awqMTExYvr06aJVq1bCzMxM6OrqCktLS9G2bVsxZswYcfr0aSEE94GK2gfUbVarl/h+oPp9obSz2gjB41j2tivt+29Frf91z2nlypXK17J+/foiODhYLFq0SFhYWAgAwsbGRmzfvl3s2rVL2NjYCADCyspK7Ny5UwghxG+//Sa6deumvBZEtWrVxJAhQ8SDBw+K1b4QQqSmpoqxY8eKatWqCTMzM+Hs7Czmzp0rAIjatWuLiIiINy7zySefCFtbWwFAmJiYiPfff7/Y+0lAQICoVq1agVmg9PX1RfPmzYWfn1+xXuOrV68WOpvUy78ffvihBFu45Mf/3r17i5zR6p9/c+bM4TYvp23+UlHHo0YVHnl5ecLKykqsWrWqzOuq6C8ypJ4q+oOPKoa6Fh6kemUpPEgudSs86PV++uknMWXKlAK3ZWVliS+++EIYGhqKjIwMlWfi8V+xynObF3U8alRXKx0dHbi6uuLkyZOyoxARERFppSdPnmDSpEkYM2ZMgdsNDAxQt25d5OTkvHEqWdIsqtrmGlV4AMA777yDoKAg5Ofny45CZRAVFfVKX8/C/ry8vGRHJSIiqlSMjY2hr6+PTZs24enTp8jJyUFsbCw2btyIuXPnwsHBARYWFvwM1yJv2uZeXl7lMhZGIwuPxMREXLlyRXYUKoNmzZq9Mp1cYX+7du2SHZWIiKhSsbCwwLFjx3Dt2jU0adIExsbGsLe3x2+//YZFixbh3Llz/AzXMm/a5ps3by6XdvTKZS0q1Lp1a1hbW+PkyZNwcHCQHYeIiIhI67i4uOD48eOyY5AKqWKba9wZj5fjPAICAmRHISIiIiKiYtK4wgMAevfujRMnTiAjI0N2FCIiIiIiKgaNLDz69++PrKwsHDlyRHYUIiIiIiIqBo0sPGrUqAEnJyfs27dPdhQiIiIiIioGjSw8AGDAgAE4dOgQsrOzZUchIiIiIqI30OjCIzk5mRcTJCIiIiLSABpbeNSvXx8ODg7sbkVEREREpAE0tvAAgA8//BD79+9HXl6e7ChERERERPQaGl14DBkyBE+ePGF3KyIiIiIiNafRhUfDhg3h6OgIHx8f2VGIiIiIiOg1NLrwAIDBgwdjz549nN2KiIiIiEiNaXzh4eXlhaSkJJw4cUJ2FCIiIiIiKoLGFx5169ZFp06d2N2KiIiIiEiN6ckOUB4GDx6MuXPnYt26dTAyMirRYz08PCooFamrFStWYPfu3eW+XiEEcnJyYGBgUO7rruwePXqkknb4flByWVlZMDQ0VFl7Z8+eBcBtRYWrqPf31NRUxMfHw8TEBLa2tuW+fioeHv+aTyGEELJDlFVsbCzq1KmDPXv2YMCAAcV6TGhoKJYvX17ByagyuXnzJu7evYuOHTuiWrVqsuNopYr4QgHw/aA0srOzceHCBbx48QI9evSQHYc0xNSpU9G5c+cKWXd5fhlNS0tDfHy88i8zMxN6enpo2rQpmjdvXm7tEGmzwo53rSg8AMDd3R1mZma8oCBJk5ycjDFjxuDAgQOYPXs25s6dCx0dje/NSPSKixcvwtPTEzk5Odi1axe6dOkiOxJRmfz1118ICQmBv78/jh8/jvv378PExARt27aFs7Mz3Nzc4OrqyjPaRGWkNYXHtm3bMHr0aDx+/BjVq1eXHYcqKSEEVq9ejS+//BK9e/fG77//jqpVq8qORVRu1q9fj88//xwuLi7Yvn07bGxsZEciKrGnT5/i1KlT8Pf3R0hICCIjI6Gnp4c2bdrAzc0Nbm5ucHFxUWk3QqLKQGsKj4yMDNja2mLBggX4/PPPZcehSu78+fPw9PSEEAK7du2qsK4FRKqSkpKCsWPHYu/evZgzZw7P6JFGiY+Px9mzZ3H69Gn4+/sjPDwcurq6BQoNZ2fnEo8TJaKS0ZrCAwBGjx6NK1eu4OLFi7KjECEhIQEjRoyAv78/vvvuO3h7e0OhUMiORVRi4eHh8PT0RGpqKrZv3w43NzfZkYheKzU1FefOnYO/v7+y0NDR0YGDgwPc3NzQpUsXdO3aFebm5rKjElUqWlV4BAUF4Z133kFERARat24tOw6RsuvV9OnT0a9fP/z222+wtLSUHYuo2LZs2YLx48ejU6dO2LFjB2f0IbWUlpaGs2fPKguNS5cuAQCaNWumHKPh7u7O918iybSq8BBCoHHjxhgwYAB++OEH2XGIlIKCgjBkyBAYGBjA19cXHTp0kB2J6LVSU1Px6aefwsfHB97e3liwYAF0dXVlxyIC8Hf36jNnziAkJASnT59GUFAQcnJyYGdnp+w61aNHD46xI1IzWlV4AMC8efOwbt06PHr0CHp6WnGZEtIS8fHxGD58OIKCgrB48WJMnjxZdiSiQkVGRsLDwwPx8fHYtm0bevbsKTsSVXKZmZkICwtTjtEIDg5GVlZWgUKjW7dusLa2lh2ViF5D6wqP6Oho2NnZ4dChQ3j33XdlxyEqQAiBJUuWYPbs2ejfvz9+/fVXWFhYyI5FpLRlyxZMmDABb7/9Nnbs2IFatWrJjkSVUG5uLiIiIpRdp0JCQvDixQvY2dmhS5cucHZ2Rp8+fVCnTh3ZUYmoBLSu8AAAV1dX1KxZEz4+PrKjEBUqMDAQQ4cOhbm5OXbv3s0xSSRdWloaxo8fjx07duDzzz/H0qVLoa+vLzsWVRJ5eXm4fPmyssgICgpCamoqatasqRyj0atXL9SrV092VCIqA60sPH799Vf85z//wePHj9m/k9RWXFwchg0bhpCQECxatIhdr0iaqKgoeHh44MmTJ9iyZQv69OkjOxJpuZeFxssxGseOHUNycjJsbW3h4uKi7D5lZ2cnOyoRlSOtLDzS0tJQu3ZtzJo1C97e3rLjEBUpLy8P8+fPx/z58zFs2DD8/PPPMDU1lR2LKpEtW7Zg4sSJaNGiBXx8fFC/fn3ZkUhL3bt3T9l1yt/fH8+fP0eNGjXQtWtXZfepdu3ayY5JRBVIKwsPAJg6dSr8/Pxw9+5dDjIntXfixAkMGzYMVlZW8PX1RatWrWRHIi334sULTJ48GRs2bGDXKqoQ/yw0AgIC8OzZM1hbW6NTp07K7lOOjo68vhFRJaK1hUd0dDQaNWoEHx8fDBw4UHYcojd69OgRvLy8EB4ejtWrV2Ps2LGyI5GWunnzJjw9PfHgwQNs2rSJ75FULl4WGiEhIQgICMDjx49hZmaGTp06KbtOtW3blle8J6rEtLbwAID+/fsjOTkZJ0+elB2FqFhyc3Px3XffKbterVu3DiYmJrJjkRbZvn07xo8fj2bNmsHX1xcNGjSQHYk01L1795RjNI4cOYKYmBiYmpqic+fOyquDd+zYkWfSiEhJqwsPf39/uLu74+LFi+w3Shrl4MGDGDVqFGxsbLB79260aNFCdiTScC9evMCMGTOwevVqfPrpp1izZg0MDAxkxyIN8tdffyEkJAT+/v44duwYoqOjYWJiAicnJ+UYDVdXV+5XRFQkrS48AKBNmzZo3749Nm3aJDsKUYnExMRg8ODBuH79On755RcMGTJEdiTSULdv34anpyfu3buHjRs3wsPDQ3Yk0gBPnz7FqVOnlN2nIiMjoaenhzZt2ii7Trm4uMDQ0FB2VCLSEFpfePzyyy+YPHkyYmJiUKNGDdlxiEokNzcXc+bMwZIlSzB8+HD88ssvMDY2lh2LNMj+/fvx8ccfw87ODr6+vmjYsKHsSKSm4uLiEBQUpOw+FR4eDl1d3QKFhrOzM4yMjGRHJSINpfWFR0ZGBurWrYupU6di1qxZsuMQlcrLL48NGjSAr68vGjVqJDsSqbmsrCx4e3tj9erVGDFiBItWekVqairOnTunnHkqPDwcOjo6cHBwUI7R6Nq1K8zNzWVHJSItofWFBwB4e3tj+/btiI6O5iA30lgPHjyAp6cnoqKisGHDBnh6esqORGrqn9301q9fDy8vL9mRSA2kpaXh7NmzykLj0qVLUCgUaNq0qXJ6W3d3d1haWsqOSkRaqlIUHi+n1t22bRs/gEmj/fNXbA4QpsL897//xahRo1CzZk3s3r0b9vb2siORJOnp6QgNDVWO0Th//jxycnJgZ2en7DrVo0cPVK1aVXZUIqokKkXhAQBeXl6IiopS/sJDpMn27t2L0aNHo1GjRvD19YWdnZ3sSCTZv8cDcSrmyicjIwPh4eE4ffo0/P39cerUKWRnZxcoNLp3745q1arJjkpElVSlKTyuX7+O1q1bY9++fXj//fdlxyEqs1u3bsHDwwMPHjzAxo0bMWjQINmRSJKHDx/Cy8sLV65cwbp16zBs2DDZkUgFcnNzERERoew6FRwcjKysLNjZ2Smnt3333XdRu3Zt2VGJiABUosIDAD744AM8fPgQFy9e5FkP0govr82wZs0afP755/jhhx/Y9aqSOXToEEaOHIkaNWpg9+7daNmypexIVEH+XWicPn0amZmZqFmzpnKMRq9evVCvXj3ZUYmIClWpCo/w8HC0b98eR44cQc+ePWXHISo3W7duxYQJE2Bvbw9fX1/Ur19fdiSqYP++yv3PP/8MU1NT2bGoHOXl5eHy5cvK6W2PHTuG5ORk2NrawsXFRTkYnFefJyJNUakKDwDo3bs3UlNTcfr0adlRiMpVVFQUPD09ERsbiy1btuDdd9+VHYkqyOPHj+Hl5YWLFy9i1apV+PTTT2VHonKQn5+PGzduKMdo+Pv74/nz57CxsYGrq6tyitsWLVrIjkpEVCqVrvAIDQ2Fk5MTTp48ia5du8qOQ1SuMjMzMWnSJGzatAmff/45li5dyimktUxAQACGDRsGCwsL+Pr6onXr1rIjURncu3dPWWScOHECiYmJqF69Ojp27KjsPuXo6MjuwUSkFSpd4QEA77zzDgwMDHDs2DHZUYgqxJYtWzBhwgS0b98eO3fuRK1atWRHojLKy8vD/PnzMX/+fAwZMgTr1q2DmZmZ7FhUQi8LjZCQEAQEBODx48eoUqUKOnbsqJx5qm3bttDR0ZEdlYio3FXKwsPf3x/u7u44ffo0nJycZMchqhA3btzAoEGDEB8fj61bt6JXr16yI1EpxcXFYfjw4QgODsaiRYswefJk2ZGomO7du6cco3H48GE8fPgQpqam6Ny5MwsNIqp0KmXhAQDOzs6wsrLCwYMHZUchqjCpqakYN24cdu3aBW9vbyxYsAC6urqyY1EJnDx5EkOHDoWZmRl8fX3h4OAgOxK9RmxsrHKMxrFjxxAdHQ0TExM4OTkpp7h1dXXl7HNEVClV2sLjjz/+wHvvvYcLFy6gXbt2suMQVagtW7Zg/Pjx6NixI3bs2IGaNWvKjkRvIITAkiVLMHv2bLz33nv47bffYGlpKTsW/cuTJ08QHBys7D4VGRkJY2NjODo6KsdouLi4wNDQUHZUIiLpKm3hIYRA586dYW5uzrEeVClcunQJnp6eSElJwbZt2+Du7i47EhUhISEBI0aMQGBgIBYvXsyuVWokLi4OQUFByu5T4eHh0NXVRZs2bZRdp5ydnWFkZCQ7KhGR2qm0hQcABAcHw9XVFcePH4ebm5vsOEQVLiUlBZ988gn8/PwwZ84czJ07l33L1cypU6cwZMgQ6OnpwcfHB506dZIdqVJLTU3FuXPnlDNPhYeHQ0dHBw4ODsrpbbt27Qpzc3PZUYmI1F6lLjwAoG/fvnj8+LHyw4SoMli/fj0+//xzODs7Y8eOHbCxsZEdqdITQmD16tX48ssv0adPH/z++++wsrKSHavSSUtLw9mzZ5WFxqVLl6BQKODg4KAco9GzZ09YWFjIjkpEpHEqfeFx9epVODg4YPv27fDy8pIdh0hlwsLC4OnpiezsbOzcuRPOzs6yI1Vaz549w0cffYRjx47hu+++g7e3N6/boCLp6ekIDQ1VjtE4f/48cnJyYGdnp+w65ebmxiKQiKgcVPrCAwA++ugjhISEICoqijONUKWSnJyMsWPHYv/+/Zg9eza7Xklw4cIFDB48GLm5udi1axen+K5gGRkZOHPmjHKMxqlTp5CdnV2g0OjevTuqVasmOyoRkdZh4QHgwYMHaNq0KZYtW4b//Oc/suMQqdTLLj7e3t7o2bMnNm/ejKpVqxa67OnTp9G2bVuYmJioOKVmOn78eJGD+Et4T2oZAAAgAElEQVTyulPp5ebmIiIiQtl1Kjg4GFlZWcpCo0uXLujevTtq164tOyoRkdZj4fH/TZ06Fdu2bcPdu3dRpUoV2XGIVO7ChQvw9PREXl5eob+8P3r0CG3atMGIESOwcuVKSSk1x+nTp+Hq6orff/8dI0aMKHBfSkoKxowZwzNNFeDfhUZISAhevHiBmjVrKqe37d27N+rWrSs7KhFRpcPC4/9LSEhAo0aN8MUXX+Drr7+WHYdIiqLGGuTm5sLFxQXnz5+HEAKnTp3imJDXyMzMRIsWLRAdHQ1DQ0OEh4ejefPmAP43tiYrKwu7du3i61hGeXl5uHz5srLIOHXqFFJSUgoUGu7u7mjQoIHsqERElR4Lj39YsGABFi1ahDt37nCWH6q0CptdaeHChVi+fDny8vKgq6uLWrVq4caNGzA1NZUdVy1NnToVa9asQW5uLvT09GBnZ4dLly5h27ZtytnEtm/fDltbW9lRNU5eXh6ioqKUVwc/fvw4kpKSYGNjA1dXV2X3qRYtWsiOSkRE/8LC4x/S09PRuHFjfPDBB1i7dq3sOERSBQUFYejQobCzs8Pp06fxz7cKPT09fPbZZ1ixYoXEhOopNDQUzs7OyM/PV96mp6eHDh064Ny5c/jmm28wc+ZMdq0qgXv37im7Tp04cQKJiYmoXr06OnbsqDyr4ejoyJnAiIjUHAuPf/n9998xZswYnDt3Du3bt5cdh0iqS5cu4Z133kFaWlqBL9IAoFAoEBQUBBcXF0np1M/LLlYxMTHIy8srcJ9CocDcuXMxb948Sek0xz8LjcDAQCQkJKBKlSro2LGjcuYpFhpERJqHhce/CCHg5OQEXV1dBAcH84ONKq2cnBw4Ozvj0qVLyMnJeeV+drl61T+7WBVGX18f58+fh4ODg4qTqbd79+4pp7c9fPgwHj58CDMzM3Tq1ElZaLRt25ZniYiINBwLj0KEhYWhQ4cO2LZtG4YMGSI7DpEUU6ZMwY8//vjKL/f/pKenh0mTJmHZsmUqTKaeCuti9W96enqoXbs2IiIiYG5ursJ06iU2NlY5RuPo0aN48OABTE1N0blzZ+XVwbt27Qp9fX3ZUYmIqByx8CjC2LFjceTIEURFRcHMzEx2HCKV2rdvHwYOHIjivD0oFAqEhIRU6gvfZWZmomXLloiJiSnybMc/eXl5YefOnSpIVjr5+fnlenbhyZMnCA4OVg4Gv3//PoyNjeHo6Kgco+Hq6soLuBIRaTk92QHU1ffffw8/Pz8sXLgQCxYskB2HSKX++usvtG7dGhEREdDT00N+fn6Rv+Tr6OhgxIgRuHbtGoyNjVWcVD189dVXbyw69PX1kZOTA2tra1StWhVJSUmwtLRUYco3y83NxbJly5CQkIAffvih1OuJi4tDUFCQsvtUWFgY9PT00KZNG3h6esLNzQ3Ozs4wMjIqx/RERKTueMbjNVauXIkZM2bg6tWraNKkiew4RCoXExODI0eOYO/evfD391fe/u/uV3p6epg8eTKWLl2q6ojSnT17Fl26dCm0MHtZbNSsWRMeHh7w8PCAk5OTWo5VuHLlCoYPH658v7t582axHxsfH4+zZ88qu0+Fh4dDR0cHDg4OyjEaXbp0qbSFKRER/Y2Fx2vk5ubC0dERDRo0wIEDB2THIZLq2bNn+OOPP7Br1y4cP34ceXl50NHRURYhCoWi0l1YMCsrC61atcK9e/eQl5cHhUIBPT095OTkoFGjRhg4cCD69euHLl26qO1EFTk5OVi4cCHmz58PhUKBnJwcKBQKPHnyBDVq1Cj0MWlpaTh79qxy5qlLly5BoVDAwcFBOUajZ8+esLCwUPGzISIidcbC4w0CAgLQo0cP/PHHH3j33Xdlx6FK6tGjRzhz5ozsGErp6ekIDw/HuXPncPnyZeTm5kIIgRo1amDZsmWVpq/+1q1bcejQIeX/69evDycnJ3To0AE1a9aUmKygOnXqoHPnzq/cfvXqVQwfPhzXr18vcBZLR0cHO3fuhKenJ4C/t3doaKjy6uDnz59HXl4emjVrphyj4ebmBisrK5U9JyIi0jwsPIph0KBBuHbtGiIiImBoaCg7DlVCvr6+GDx4sOwYpKEGDRqE3bt3K/+fk5OD5cuXY86cOQDwytgUfX199OnTB82bN8fJkycRFhaGvLw8tGzZEt26dUO3bt3g6uqKqlWrqvR5EBGRZuPg8mJYtmwZWrRogUWLFuHrr7+WHYcqMXX/nSA7OxtBQUFwdXVVaZH+sjBT5etz6tQp2Nvbw9raWmVtloaHh0eB/78cyxEZGVnkVMk5OTk4ceIErl27Bjc3N0ycOBE9evTAW2+9pYrIRESkpVh4FEO9evXwzTffYNasWfDw8IC9vb3sSERqycDAAO7u7rJjqISrq6vsCCXy77Mcr7s+C/B396pTp06x2CAionKjflOrqKkpU6agVatWGDNmzGsvEEZEpG6Sk5Ph6OiI2bNnIzc3t1jXGtHR0UFQUJAK0hERUWXBwqOYdHV1sWnTJoSFhWHDhg2y4xARvVFWVhauXbsGf39/XLt2rUQ/mujq6iIgIKAC0xERUWXDrlYl0KZNG0yePBne3t7o168fuyAQkVq7e/cuzMzMYG9vDzc3N8THx+Phw4d48uQJEhISkJSUVGBcjI6ODvT09KBQKJCdnY2jR49KTE9ERNqGhUcJffPNN9i3bx+mTJlSYJYYIiJ1Y29vj/r16wP4+4Ko/5aXl4f4+HjEx8fj6dOnePr06Sv/VscrrBMRkWZi4VFCJiYmWL9+Pdzc3LB//3588MEHsiMREZWKrq4ubG1tYWtri1atWsmOQ0REWo5jPEqhe/fuGDZsGCZOnIjk5GTZcYiIiIiI1B4Lj1JauXIlcnNzlVNTEhERERFR0Vh4lFK1atWwdOlSrF27FqdOnZIdh4iIiIhIrbHwKIOPPvoI/fv3x6hRo5Camio7DhERERGR2mLhUUbr1q1Deno6vL29ZUchIiIiIlJbLDzKqEaNGli1ahV++eUXHD58WHYcIiIiIiK1xMKjHHh5ecHDwwNjx47F8+fPZcchIiIiIlI7LDzKydq1a5Gfn48pU6bIjkJEREREpHZYeJSTatWqYf369diyZQv8/Pxkx6FKbunSpahRowYUCgXWrVsnO06Rvv32W9jb28Pc3ByGhoZo1KgRvL29kZaWVqHt+vn5wc7ODgqFAgqFAra2thg+fPhrHxMREQEvLy80aNAAhoaGsLa2Rps2bfDdd98B+PvM58v1venv448/LtD+V1999dq2ly9fDoVCAR0dHTRr1owz6RERkUZi4VGO3nvvPYwaNQoTJkxAXFyc7DhUiU2fPh1nzpyRHeONAgIC8NlnnyE6OhoJCQn4/vvvsXLlSnh4eFRouwMHDsS9e/fQsGFDWFhY4MmTJ9i2bVuRy1+9ehVOTk6wtbVFYGAgkpOTcebMGfTu3RsnT55ULnfs2DEkJSUhJycHf/31FwDg/fffR3Z2NtLT0xEXF4dPPvmkQPsAsHHjRuTk5BTadl5eHlavXg3g74uXRkVFwdXVtbxeCiIiIpVh4VHOVq5cCWNjY4wbN052FKISyczMhJOTk0rbNDMzw7hx41C1alVUqVIFnp6eGDBgAI4cOYKHDx+qNMvrLF26FJaWlli5ciXq168PIyMjNGnSBPPnz4exsTEAQKFQoEuXLrCwsICenp7ysQqFAvr6+jAxMUH16tXRrl27Autu164dnjx5gv379xfatp+fH956662Ke3JEREQqwsKjnFlYWGDjxo04cOAAtm7dKjsOUbFt2rRJ5WfqDh06BF1d3QK3WVtbAwAyMjJUmuV1nj17huTkZCQmJha43cDAAAcPHgQA7Ny5EyYmJm9c17hx49CvXz/l/ydOnAgA+Pnnnwtdfvny5Zg2bVppoxMREakNFh4VwN3dHZMmTcLEiRNx69Yt2XGIlIKCgtChQweYmJjA3NwcrVq1QkpKCqZMmYJp06bh7t27UCgUaNSoEVauXAlTU1Po6OigXbt2sLGxgb6+PkxNTeHo6AgXFxfUqVMHRkZGsLS0LLdr2Tx+/BjGxsZo0KBBuayvPLz99ttIT09H9+7dcfr06XJdd/fu3dG8eXMEBgbi5s2bBe47ffo0MjIy0LNnz3Jtk4iISAYWHhVk8eLFaNy4MYYNG4bs7GzZcYiQnp6O999/H4MGDUJiYiJu376NJk2aIDs7GytXrsR7772Hhg0bQgiBO3fuYMqUKfjyyy8hhMDPP/+M+/fv48mTJ3B1dcWlS5cwc+ZMXLp0CYmJiRg5ciR++OEHRERElCljRkYGAgIC8Mknn8DAwKCcnnnZeXt7o3379oiIiICzszNatGiBJUuWvHIGpLTGjx8PAK9MBLBs2TJMnTq1XNogIiKSjYVHBTE0NISPjw+ioqIwb9482XGIEB0djZSUFLRo0QJGRkawsbGBn5+fsmvT69jb28PExATVqlXDkCFDAAB169aFtbU1TExMlDNCRUVFlSnj999/j5o1aypnilIXxsbGOHPmDFatWoVmzZohMjISM2bMQPPmzREUFFTm9Y8cORKmpqbYvHkzMjMzAQD37t3DhQsXMHTo0DKvn4iISB2w8KhAjRs3xvLly7F48WKcOHFCdhyq5Ozs7FCjRg0MHz4c8+bNQ3R0dKnW8/JMRG5urvI2fX19AChyZqbi2Lt3L3x9fXH06FFUqVKl1OupKPr6+pg0aRJu3LiBs2fP4oMPPkBcXBw8PDzKfOFQCwsLDB06FM+fP8euXbsAACtWrMDEiRPV6swPERFRWbDwqGCffPIJPD09MXLkSCQkJMiOQ5WYsbExAgIC4OzsjAULFsDOzg5eXl7KX9hl2rVrFxYtWoSTJ0+ifv36suO8UceOHbFv3z5MmDAB8fHxCAwMLPM6Xw4yX7duHZKSkrB7925lFywiIiJtwMJDBX7++Wfo6elh5MiREELIjkOVWIsWLXDw4EHExsZixowZ8PHxwdKlS6VmWrNmDbZt24aAgADUqlVLapZ/OnXqFFasWAHg7+t+/PMMz0sjRowAUD4zcDk4OKBTp044f/48xo0bBw8PD1hZWZV5vUREROqChYcKWFpaYtu2bTh69GiRU2YSVbTY2FhERkYCAKpXr46FCxfC0dFReZuqCSEwY8YMXL16Ffv374eZmZmUHEUJCwuDqakpACArK6vQ1+nlLFStW7culzZfnvXYs2cPvvjii3JZJxERkbpg4aEizs7OmDVrFqZNm1bmmX+ISiM2Nhbjx49HVFQUsrOzcenSJTx48ACdOnUCAFStWhWxsbGIjo5GampqmcZrFEdkZCSWLFmCDRs2QF9fHwqFosCfrDMxOTk5ePr0KU6ePKksPABgwIAB8PX1RVJSEpKTk3HgwAH83//9H/r3719uhYenpyesra0xYMAA2NnZlcs6iYiI1IYglcnJyRFdunQR9vb2IjU1VXYc0iA+Pj6iJIfrsmXLhI2NjQAgTE1NxYcffiiio6OFk5OTsLKyErq6uqJWrVpi9uzZIjc3VwghRHh4uKhXr54wNjYWzs7OYubMmcLExEQAEPXr1xfBwcFi0aJFwsLCQgAQNjY2Yvv27WLXrl3KtqysrMTOnTuLlfHq1asCQJF/P/zwQ4W9Pnv37hUNGzZ8bfsAxN69e4UQQhw7dkwMHjxYNGzYUBgaGgoDAwPRtGlTMW/ePPHixYsC605JSRGurq6iatWqAoDQ0dERjRo1EgsWLCi0fWtra/HZZ58p7/P29hZnzpxR/n/OnDnC1tZWuS57e3sRHBxc7Oc6aNAgMWjQoGIvT0REVFEUQnDQgSo9evQIjo6O6NGjB3bu3Ck7DmkIX19fDB48mGOEisDXp2geHh4AgN27d0tOQkRElR27WqlY7dq1sXPnTuzevfuVi4UREREREWkrFh4S9OjRA7Nnz8aUKVMQFhYmOw5RuYqKinplvEZhf15eXrKjEhERkQrpyQ5QWX399dc4e/YsBg4ciLCwMFSrVk12JKJy0axZM3Z5IiIiolfwjIckOjo62Lp1K3JzczFq1Ch+USMiIiIircbCQ6IaNWpgz549OHbsGJYtWyY7DhERERFRhWHhIVmnTp2wYMECzJw5E8HBwbLjEBERERFVCBYeamDatGno27cvhgwZgqdPn8qOQ0RERERU7lh4qAGFQoHff/8dxsbG8PT0rPArRhMRERERqRoLDzVhaWmJgwcP4vLly/jiiy9kxyEiIiIiKlcsPNRIs2bNsHnzZqxduxYbN26UHYeIiIiIqNyw8FAzH3zwAWbOnInPPvsM586dkx2HiIiIiKhcsPBQQ/Pnz4ebmxsGDBiA2NhY2XGIiIiIiMqMhYca0tHRwY4dO2BpaYlBgwYhOztbdiQiIiIiojJh4aGmzM3NsXfvXkRGRmLKlCmy4xARERERlQkLDzXWrFkz/Prrr1i3bh0HmxMRERGRRmPhoeY+/PBDzJ49G//5z394ZXMiIiIi0lgsPDTAt99+iwEDBmDAgAG4c+eO7DhERERERCWmJzsAvZlCocBvv/2Grl274r333kNoaCgsLS1lxyIJfH19ZUdQS6GhoQD4+hTm0aNHqF27tuwYREREUAghhOwQVDyxsbHo2LEj7O3t8ccff0BPj3VjZeHr64vBgwfLjkEaatCgQdi9e7fsGEREVMmx8NAw4eHhcHV1xZgxY7Bq1SrZcYhw48YNeHh44MmTJ9i+fTt69epV4W2mp6ejSpUq2L9/P95///0Kb4+IiIjKjmM8NIyjoyM2b96MNWvWYO3atbLjUCW3bds2dOjQAcbGxrhw4YJKig4AuHnzJoQQaNq0qUraIyIiorJj4aGBBg4ciHnz5mHy5Mnw9/eXHYcqoRcvXmDy5Mn46KOPMHr0aJw+fRoNGjRQWfs3b96Enp4e7OzsVNYmERERlQ0HCWior776ClFRUfD09MSZM2fQrFkz2ZGokrh9+zY8PDxw//59+Pj4wMPDQ+UZbt26BTs7O+jr66u8bSIiIiodnvHQUAqFAr/++iuaNm2Kvn37Ii4uTnYkqgT27duHDh06QFdXF+Hh4VKKDuDvMx7sZkVERKRZWHhoMCMjIxw8eBC6urro27cv0tPTZUciLZWVlYXJkyfjww8/VJ5la9iwobQ8N2/eRJMmTaS1T0RERCXHwkPDWVtb4/Dhw4iJicHgwYORl5cnOxJpmQcPHqBr16747bffsGvXLvzyyy8wNDSUlkcIgdu3b/OMBxERkYZh4aEFGjZsiIMHDyIwMBD/+c9/ZMchLXLgwAG0bdsWWVlZCA8PV4tricTGxiI1NZWFBxERkYZh4aElOnTogM2bN2PDhg1Yvny57Dik4XJzc/F///d/GDBgAPr164fTp0+jUaNGsmMB+LubFQB2tSIiItIwnNVKiwwaNAhLlizB9OnTYWtri6FDh8qORBro4cOHGDx4MK5evYpt27ap3X508+ZNWFhYwNbWVnYUIiIiKgEWHlpm2rRpiImJwZgxY1CvXj106dJFdiTSIIcOHcLIkSNhY2OD0NBQtGzZUnakV0RGRsLe3l52DCIiIiohdrXSQsuXL0evXr3Qv39/ZbcUotfJzc3FvHnz0L9/f/Tt2xcXLlxQy6IDYOFBRESkqVh4aCFdXV3s2LEDjRs3Ru/evREbGys7EqmxR48eoVu3bli8eDHWrVuHLVu2wNTUVHasIl2/fp2FBxERkQZi4aGlTExMcOjQIZiYmKBnz55ITEyUHYnUUEBAANq3b4/4+HicP38en3zyiexIr/Xs2TM8ffoULVq0kB2FiIiISoiFhxarVq0ajh07hrS0NF5gkArIy8vDvHnz4O7uDnd3d1y8eBGtWrWSHeuNIiMjAYBnPIiIiDQQCw8t99Zbb+HPP//ErVu34OXlhdzcXNmRSLK4uDj06dMHixcvxvLly7F161aYmZnJjlUskZGRMDMzQ+3atWVHISIiohJi4VEJ2Nvb4/DhwwgMDMTo0aMhhJAdiSQ5efIkHBwcEB0djbNnz2Ly5MmyI5VIZGQkWrRoAYVCITsKERERlRALj0qiQ4cO8PHxwc6dOzFnzhzZcUjFhBBYvHgx3Nzc0KlTJ5w/fx5t2rSRHavEXhYeREREpHl4HY9KpG/fvti4cSM+/vhj2NjYYNKkSbIjkQrEx8djxIgROHnyJJYtW6ZxZzn+KTIyEr1795Ydg4iIiEqBhUclM3LkSMTFxeGLL76ApaUlPvroI9mRqAKdOnUKQ4YMgb6+PoKCgtCxY0fZkUotKSkJsbGxHFhORESkoVh4VEJffvklEhMTMXr0aBgbG8PDw0N2JCpnQgisXr0aX375Jfr06YPff/8dVlZWsmOVyfXr1wFwRisiIiJNxcKjklq4cCGysrIwfPhwmJmZoU+fPrIjUTlJSEjARx99hOPHj+O7776Dt7e3VgzGjoiIgKWlJerWrSs7ChEREZUCC49KbNmyZUhOTsagQYNw5MgRuLi4yI5EZXThwgV4enoiLy8PQUFBcHJykh2p3ERERKBNmzZaUUQRERFVRpzVqhJTKBRYv3493n33Xbz33nsIDw+XHYlKSQiBVatWwdnZGS1btsTly5e1qugA/i48WrduLTsGERERlRILj0pOV1cX27dvR+fOndG7d2/cuHFDdiQqoeTkZHh6emL69OmYOXMmDhw4gKpVq8qOVa7y8/Nx/fp1jZwCmIiIiP7GwoNgYGCA3bt3o1GjRujVqxcePHggOxIVU1hYGBwdHXH27FkEBgZi3rx50NHRvsP6zp07SEtLY+FBRESkwbTvGwqVipmZGf744w9Uq1YN3bt3x8OHD2VHojdYv349nJycUL9+fVy8eBHOzs6yI1WYiIgI6OrqckYrIiIiDcbCg5SsrKxw/PhxmJqawsXFhWc+1FRKSgoGDx6MiRMnYubMmTh+/DhsbGxkx6pQV65cQePGjWFiYiI7ChEREZUSCw8qwNraGidOnECVKlXg7u6Ox48fy45E/3Dp0iW0a9cOJ0+exOHDh7W2a9W/vZzRioiIiDSX9n9joRKrXr06Tpw4AQMDA3Tr1g2xsbGyIxGALVu2oEuXLqhduzYuX74Md3d32ZFUhoUHERGR5mPhQYWqUaMGAgICoK+vj27duuGvv/6SHanSSk1NxdChQzFq1ChMmjQJ/v7+qFmzpuxYKpOUlISHDx9yKl0iIiINx8KDivSy+NDV1WXxIUlkZCQ6deoEf39/HD58GIsWLYKurq7sWCoVEREBIQTPeBAREWk4Fh70WjY2NggICIBCoUD37t3x5MkT2ZEqjS1btuDtt9+GtbU1Ll++jF69esmOJEVERASqVq2K2rVry45CREREZcDCg97I1tYWx48fR05ODnr16oWEhATZkbRaZmYmPvnkE4waNQpjx46Fv78/atWqJTuWNBcvXkT79u1lxyAiIqIyYuFBxVK7dm0EBgYiLS0Nbm5uePbsWaHLXb16FUIIFafTHlFRUejQoQP27duHQ4cOYdWqVdDX15cdS6qwsDC0a9dOdgwiIiIqIxYeVGx16tRBYGAgUlJSCi0+Lly4gC5duuC///2vpITqLTk5+bX3b926Fe3bt4exsTEuXryId999V0XJ1FdaWhpu3rzJwoOIiEgLsPCgEqlbty4CAwORlJQEd3d3JCYmAvi7H76bmxvS0tIwe/ZsnvX4F19fX/Tr1w+5ubmv3PfixQtMnjwZI0eOxJgxYxASEoL69etLSKl+wsPDkZeXx65WREREWoCFB5VYvXr1cPLkSSQmJsLd3R0XL15Ejx49kJGRASEEIiMjsW/fPtkx1UZcXBzGjRuHkJAQzJkzp8B9t27dQseOHbF582b4+vpi1apVMDAwkJRU/YSFhcHa2hr16tWTHYWIiIjKiIUHlUq9evVw/PhxPHr0CD169EBycrLy13yFQoGZM2ciPz9fckr1MGHCBKSnpwMAlixZggMHDgAA9u7diw4dOkBfXx/h4eEYNGiQzJhqKSwsjGc7iIiItAQLDyo1Y2Nj6OnpITMzs0AXovz8fNy+fRt+fn4S06kHHx8f7N27Fzk5OQD+LspGjBiBcePGYdCgQRg1ahTOnDkDOzs7yUnVE2e0IiIi0h4Kwc74VApxcXFwcnJCTEyM8kv1P+no6KBhw4aIioqCjk7lrG8TEhLQpEkTJCUlFRjzoq+vj7p16+L777+Hp6enxITqLSUlBVZWVvDz88MHH3wgOw4RERGVUeX8RkhlEh8fDxcXlyKLDuDvsx537tyBj4+PitOpj/HjxyMtLe2VgfY5OTl48OABzp49KymZZggLC0N+fj7PeBAREWkJFh5UYrNnz8atW7feOHOVQqHAV199hby8PBUlUx8HDhyAn59fkYVZbm4uVq5cib1796o4meYICwuDjY0Nr1hORESkJVh4UImtX78ewcHBcHNzg0KhKPICd/n5+bh//z527typ4oRyxcfHY/To0cXqYjZy5Ejcv39fBak0DweWExERaRcWHlQqzs7OOHz4MG7evInx48fDwMCg0AJECIE5c+YUev0KbTVx4kSkpqa+dlYvhUIBXV1dpKWlYeHChSpMpzk4sJyIiEi7sPCgMmncuDFWr16NmJgYzJo1C+bm5tDT01PeL4TAw4cPsW3bNokpVefAgQPYs2dPoV2sXhYbCoUCrVq1wuzZs3Hz5k2sX79eQlL1lpiYiLt377LwICIi0iKc1YrKVUpKCjZs2IClS5ciLi4OCoUC+fn5qF27Nu7evVtktyxtkJCQgGbNmuH58+fKsx26urrKsTAdOnSAl5cXPDw8UKtWLZlR1d6hQ4fw/vvvIy4uDtbW1rLjEBERUTngGQ8qV+bm5pg2bRpiYmLw+++/o2nTpsqzHlu2bJEdr0JNnDgRz549g0KhUI596dWrF3799VfEx8cjNDQUkydPZtFRDKGhoWjatCmLDiIiIi3CM2GqqxwAACAASURBVB4q5uvri8GDB8uOQVQmFf220a1bN9jZ2WHTpk0V2g4RERGpjt6bF6GKUBmvbxEdHQ1DQ0PUrFmz3Nc9ePBgTJkyBZ07dy73db9JTk4O9uzZg6ZNm6JVq1Za3Z0sNDQUK1eurNA2cnNzcfHiRQwbNqxC2yEiIiLVYuEhCa9YXb4GDx6Mzp07S3tdK9OX5IouPC5fvoy0tDQ4OTlVaDtERESkWhzjQURq5cyZM7C0tESzZs1kRyEiIqJyxMKDiNRKaGgonJycinUBRiIiItIc/GQnIrVy5swZKWN1iIiIqGKx8CAitREbG4uYmBiO7yAiItJCLDyISG2EhIRAV1cXHTp0kB2FiIiIyhkLDyJSG6GhoWjTpg3MzMxkRyEiIqJyxsKDiNTGmTNn2M2KiIhIS7HwICK1kJ6ejkuXLnFgORERkZZi4UFEaiEkJAQ5OTno2rWr7ChERERUAVh4EJFaCAwMRLNmzfDWW2/JjkJEREQVgIUHEamFwMBAdOvWTXYMIiIiqiAsPIhIutTUVISHh7PwICIi0mIsPIhIuqCgIOTl5cHV1VV2FCIiIqogLDyISLrAwEC0aNECNjY2sqMQERFRBWHhQWX2559/wsLCAgcPHpQdpdR27NgBhUKh1teQ0IbXuSgc30FERKT9WHhQmQkhZEcosx07dqBhw4YIDQ3FnTt3ZMcplDa8zoVJSkrClStXWHgQERFpORYeWiAzM/OVX+oLu62i2urbty+Sk5Px3nvvlXt7qvDs2TNERkbim2++AQBs2bKl0OX4OleMkydPQggBFxcX2VGIiIioArHw0AKbNm1CXFzcG2+rqLY0na+vL/r27Yv3338fRkZG2Lp1a6FnF/g6V4zAwEC0adMG1tbWsqMQERFRBWLhoQGCg4Nhb28PCwsLGBkZoVWrVjh69CgAYMqUKZg2bRru3r0LhUKBRo0aFXobAOTl5WHu3LmoW7cujI2N0bp1a/j4+AAA1q5dC1NTU5iYmODAgQPo06cPzM3NUbt2bezcubPItkJCQlC3bl0oFAr8+OOPysxCCCxfvhzNmzeHoaEhrKys8MEHHyAqKqrY7anKjh078OGHH6JKlSro2bMnoqOjERwcXGAZvs4Vh+M7iIiIKglBKuXj4yNK+rLv3r1bzJs3TyQmJopnz56JTp06iWrVqinvHzhwoGjYsGGBxxR22/Tp04WhoaHYs2ePeP78uZg1a5bQ0dERFy5cEEIIMXv2bAFAnDhxQiQnJ4u4uDjh4uIiTE1NRXZ2dpHrffjwoQAg1qxZo7xt7ty5wsDAQGzdulUkJSWJK1euCEdHR2FtbS2ePHlS7PaKC4Dw8fEp0WOEEOLBgweievXqIjc3VwghxNatWwUAMWbMmFeW5etcuv33deLi4oRCoRAHDx4st3USERGReuIZj//X3r2HVVUmehz/ba6b2xYv5CXUQjFLQDPtIGo5UzM+lDo5gGhqo6nHtDnNyUp8RvN07FSn7IjnTHJKM58ZKwO00o55SZ08M4m3vCGOeEtNUfGSooCC8J4/PDqRoKCsvdjw/TzP/sO1Fu/7a7np2T/Xu9b2AImJifqXf/kXNW7cWE2aNNGAAQN0+vRpnTx5stpjXLx4UWlpaRo4cKASEhIUGhqqKVOmyNfXV/PmzatwbFxcnFwul8LCwjR48GAVFhbq8OHD1Z6ruLhYM2bM0K9//WsNGzZMjRo1UnR0tN59912dOnVKs2fPrtX5bsfHH3+sfv36ydvbW5I0YMAA+fv7KzMzU8XFxTUej/NcM3/+85/l7e3N/R0AADQAFA8P5OvrK+nKkp7qys3NVVFRkaKioq5tCwgIUIsWLa4ty6mMn5+fJKm0tLTac+Xk5OjChQvq1q1bhe3du3eXn5+fNmzYUKvz3Y6ry6yucrlc+uUvf6mCggItXry4xuNxnmvmyy+/VGxsrBo1amRrDgAAYD2KhwdYunSp+vTpo7CwMPn7+2vixIk1HqOwsFCSNGXKFDkcjmuvQ4cOqaioqFbznj17VpIUHBx83b7Q0FCdP3++Vue7VTt37lR2drb69+9f4Zxc/Z6Mqp5udSOc5+orLy/X8uXL9dhjj9kdBQAAuAHFo447fPiwBg4cqBYtWmjDhg06d+6c3nzzzRqPExYWJklKTU2VMabCKysrq1Yzh4aGSlKlH3zPnj2r8PDwWp3vVn300UcaMmTIdefjzJkzCggI0MqVK3X8+PEajcl5rr5vv/1WJ06coHgAANBAUDzquOzsbJWWlmr8+PGKiIiQ0+mUw+Go8TitW7eW0+nUtm3bLEhZUVRUlIKDg7V58+YK2zds2KCSkhI98MADlme4GWOMPvnkEz377LPX7WvcuLGSkpJUVlamjz/+uEbjcp6r78svv1TLli0VExNjdxQAAOAGFI86rk2bNpKkVatW6eLFi9q7d+91a/ebNGmivLw8HTx4UOfPn1dpael127y9vTVy5EgtWLBAaWlpKigoUFlZmY4cOaJjx45VO09lc/2U0+nUCy+8oE8//VQffvihCgoKlJ2drXHjxqlly5YaO3bs7Z2UWrBu3Tq5XC717Nmz0v3jxo2TVHG5Fee5di1btkz9+vW7pSINAAA8kC3P0mrAbuVxpCkpKaZJkyYmNDTUJCUlmXfeecdIMu3atTOHDx82W7ZsMW3btjUBAQGmV69e5vjx45Vuu3TpkklJSTFt2rQxPj4+JiwszCQkJJicnBwza9YsExgYaCSZyMhIs3//fjN79mzjcrmMJNO2bVuzZ8+e68adMmWKadGihZFkAgMDzYABA4wxxpSXl5vp06ebyMhI4+vraxo3bmwGDhxocnNzjTGm2vNVl2rwON1Ro0aZoKAg4+PjYzp37my2bNlSYf+rr75qWrZsaSQZSebOO+80s2bN4jyb2nuc7smTJ42Xl5f59NNPb3ssAADgGRzGVPIVzbBMRkaGkpOTK/1mbNw6h8Oh9PR0DRo0yO4o9VptvX/nz5+v0aNH69SpUwoJCamldAAAoC5jqRUAt1u2bJl69+5N6QAAoAGheABwq7KyMq1cuZKnWQEA0MBQPAC41fr163X69GmKBwAADQzFA4BbLVu2THfffbc6duxodxQAAOBGFA8AbrV06VI9/vjjdscAAABuRvEA4DZHjx7V9u3bFR8fb3cUAADgZhQPAG6TmZmp4OBg/fznP7c7CgAAcDOKBwC3yczM1BNPPCGn02l3FAAA4GYUDwBucfToUa1fv15JSUl2RwEAADageABwi4ULFyooKEi/+MUv7I4CAABsQPEA4BaZmZn61a9+xTIrAAAaKIoHAMsdO3ZMWVlZLLMCAKABo3gAsFxGRoaCgoL0y1/+0u4oAADAJhQPAJZjmRUAAKB4ALAUy6wAAIBE8QBgMZZZAQAAieIBwGKZmZkaMGAAy6wAAGjgfOwO0FA5HA67I9Q7ycnJSk5OtjsGfuTqMquXXnrJ7igAAMBmFA83i4uLU3p6ut0xUAljjCZOnKjmzZvrxRdftDtOvfDxxx8rJCREffv2tTsKAACwGcXDzcLDwzVo0CC7Y6AKzZs3189//nOVlZVpyJAhdsfxeB988IGGDBnCMisAACCHMcbYHQKoS5599lmlp6crJydHzZs3tzuOx/rmm2/Uq1cvbdq0Sd26dbM7DgAAsBnFA/iJwsJCde7cWZ06ddLixYvtjuOxnn76aW3evFk7duywOwoAAKgDeKoV8BNBQUGaM2eOvvjiC2VkZNgdxyNduHBBCxcu1JgxY+yOAgAA6giKB1CJn/3sZ/rHf/xHPfvss8rPz7c7jsdZsGCBSkpKuE8GAABcw1IroAoFBQWKjo5Wjx499Mknn9gdx6PExsaqXbt2+uijj+yOAgAA6giueABVcLlc+uCDD5SRkaFFixbZHcdj7Ny5Uxs2bNCoUaPsjgIAAOoQrngANzF69GgtWbJEOTk5CgsLsztOnff8889r8eLF2rdvn7y8+LcNAABwBZ8KgJuYMWOGnE6nnn/+ebuj1HnFxcWaP3++Ro0aRekAAAAV8MkAuAmXy6W5c+fq448/1meffWZ3nDpt/vz5unDhAsusAADAdVhqBVTTiBEjtHLlSu3cuVNNmjSxO06dFBMTo+7du2vu3Ll2RwEAAHUMVzyAavrP//xPeXt7s+SqCitWrFB2draee+45u6MAAIA6iCseQA0sXbpU/fr102effaYnnnjC7jh1Snx8vEpLS7Vq1Sq7owAAgDqI4gHU0PDhw7V69Wrl5OSocePGdsepE3Jzc3Xfffdp8eLF6tevn91xAABAHUTxAGro7NmzioqKUt++fbmX4f8988wzWrNmjXbv3s3TrAAAQKX4hADUUGhoqP77v/9b8+bN07Jly+yOY7szZ87oww8/1O9+9ztKBwAAqBKfEoBb0L9/fyUnJ2vMmDE6e/as3XFs9e6778rX11e/+c1v7I4CAADqMIoHcIveeecdXb58WRMnTrQ7im1KSkqUlpam0aNHKzg42O44AACgDqN4ALeoadOmeu+99/T+++9rxYoVdsexxZ/+9CedPHmSR+gCAICb4uZy4DYNGjRIGzduVHZ2tkJCQuyO4zZlZWW699571adPH82ePdvuOAAAoI7jigdwm9LS0lRcXKyUlBS7o7jVggULdODAAb300kt2RwEAAB6AKx5ALfjkk0/05JNPasWKFfrFL35hdxzLGWMUExOjLl26aP78+XbHAQAAHoDiAdSSxMREffvtt9qxY0e9X3K1aNEiJSUlaceOHYqKirI7DgAA8AAUD6CWnDx5Up06dVJycrL+8Ic/2B3HUt27d1fbtm21cOFCu6MAAAAPwT0eQC0JCwtTamqq0tLStHbtWrvjWGbZsmXavHmzJk2aZHcUAADgQbjiAdSyX//619q2bZt27NhRL7/bonfv3goJCdGXX35pdxQAAOBBuOIB1LJZs2bp3Llzevnll+2OUuu+/vpr/fWvf9XkyZPtjgIAADwMVzwAC/zxj3/U008/ra+//lq9e/e2O06t6d27t/z9/bVq1Sq7owAAAA9D8QAs8sQTT+hvf/ubtm3bpoCAALvj3Lbly5crPj5e69atU48ePeyOAwAAPAzFA7BIXl6eoqKiNGrUKE2fPt3uOLctNjZWYWFh+uKLL+yOAgAAPJCP3QGA+qpVq1Z6++23NWbMGP3qV79Sr1697I50yz777DNt3LhR3377rd1RAACAh+KKB2Cx+Ph4fffdd9q6datHLrkqLy9X165dFRkZqczMTLvjAAAAD8VTrQCLvf/++zpx4oT+9V//1e4oN2SM0dGjR6/bnp6eruzsbE2dOtWGVAAAoL6geAAWu/POO/Xmm2/q7bff1saNGyvsu3jxoqZMmaJLly7ZlO7vDh8+rMjISL388su6cOGCJKmsrEzTpk3T0KFDFR0dbXNCAADgyVhqBbiBMUbx8fE6dOiQtm7dKqfTqfXr12v48OHat2+fvv76az388MO2Zly6dKn69esnHx8fuVwuvf766/L29ta4ceO0c+dO3XPPPbbmAwAAno2bywE3cDgceu+99xQdHa1XXnlFZWVlmjFjhry8vOTr61snikd2drb8/PxUUlKiM2fOaPz48WratKkee+wxSgcAALhtLLUC3KRt27Z69tlnNXfuXM2cOVPl5eW6fPmyLl++rJUrV9odTzt37lRZWdm1P5eXl+v06dNasmSJHn74YW3ZssXGdAAAwNNRPAA3KC4u1qRJk/TWW2/phx9+0OXLl6/tM8Zo06ZNKi4utjGhtHXr1grFQ7pSPiRp3bp16tatm4YNG6bvv//ejngAAMDDUTwAi/3lL3/Rvffeq//4j/9QeXn5dR/uJam0tFRZWVk2pLuirKxM+/btq3L/1aL0ySefaPXq1e6KBQAA6hGKB2Ch7777Tv3799ehQ4cqXOX4KT8/P/35z392Y7KK9u3bp5KSkir3e3t7y8/PT59//rlGjBjhxmQAAKC+oHgAFrr77ru1adMmRUVFycen6mc5lJSU6KuvvnJjsop27twph8NR6T4fHx8FBQVp9erV6tevn5uTAQCA+oLiAVgsMjJSmzZt0rhx4ySpyg/43377rQoLC90Z7ZqcnBz5+fldt93X11ctWrTQxo0b1bNnTxuSAQCA+oLiAbiB0+nUf/3Xf2n+/Pny9/ev9OrH5cuXtW7dOhvSXbniUVpaWmGbr6+vIiMjtWHDBh6nCwAAbhvFA3CjYcOGaevWrWrXrt115cPO+zy2bNly7QlW0pXlVT179lRWVpZatWplSyYAAFC/UDwAN+vYsaO2bt2q4cOHV9hu130eJSUlOnjw4LU/e3l5afDgwVq5cqVcLpfb8wAAgPqJ4gHYICAgQB988IH++Mc/Vlh6tXXrVp0/f96tWXJzcys84nfSpEn605/+JF9fX7fmAAAA9RvFA7DRU089paysLN15553y8vJSWVmZ/vrXv7o1Q3Z2tqQrVzpmzZql1157rcob4AEAAG6Vwxhj7A4B95oxY4atX1aH65WWlmrTpk3Ky8vTPffco+joaLfNnZOTo9zcXP3DP/yD7rzzTrfNi+rr0aOHJkyYYHcMAABuC1c8GqCsrCytX7/e7hj4EV9fX8XFxalz5846depUrY9/5MgRLVy4sNJ9xcXFeuihhygdddT69ev5hwIAQL1Q9TeaoV6LjY1VZmam3TFQiU2bNqlr167y9vautTEzMjKUnJxc6d/56dOn1bRp01qbC7UrKSnJ7ggAANQKigdQx3Tv3t2t81E6AACAO7DUCgAAAIDlKB4AAAAALEfxAAAAAGA5igcAAAAAy1E8AAAAAFiO4gEAAADAchQPAAAAAJajeAAAAACwHMUDAAAAgOUoHgAAAAAsR/EAAAAAYDmKBwAAAADLUTwAAAAAWI7iAdRh06ZN03333SeXyyV/f3+1b99eEydO1IULF9yWITc3V//0T/+kTp06KSQkRD4+PmrUqJE6dOigxx9/XFlZWW7LAgAAPBfFA6jD1qxZo9/+9rc6ePCgTp06pddff10zZ85UUlKSW+afO3euoqOjtWPHDs2YMUPff/+9CgsLtXXrVr366qs6e/assrOz3ZIFAAB4NooH6pXi4mLFxcXVm3mDg4M1duxYNWnSRCEhIRo0aJAGDhyo5cuX6/vvv6/1+X5s/fr1Gjt2rHr37q3Vq1erb9++Cg0Nlb+/vyIiIpScnKypU6eqpKTE0hw1Vd/eAwAA1Bc+dgcAatPcuXOVn59fb+b9n//5n+u2NWvWTJJUVFRU6/P92L/927+prKxMb7zxhnx8Kv9fRd++fdW3b19Lc9RUfXsPAABQX3DFA9U2f/58devWTU6nU0FBQbrrrrv06quvSpKMMZoxY4buvfde+fv7q3HjxnriiSe0e/duSVJaWpqCgoIUGBioxYsXKz4+Xi6XS+Hh4VqwYEG15/nLX/6i++67T40aNZLT6VR0dLRWrFghSfrnf/5nvfDCC9q/f78cDofat28vSSorK9PUqVPVpk0bBQQEKCYmRunp6TXKVdvz3o6jR48qICBAd999922PVZWSkhKtXr1aTZs21YMPPlitn+E94L73AAAAHsmgwUlMTDSJiYk1+pnU1FQjybzxxhvm9OnT5syZM+a9994zQ4cONcYYM3XqVOPn52fmz59vzp49a3bs2GG6du1qmjVrZo4fP26MMWby5MlGklm9erU5d+6cyc/PN7179zZBQUGmpKSkWvNkZmaaV155xZw5c8acPn3axMbGmqZNm17LmZCQYNq1a1ch+4svvmj8/f3NwoULzQ8//GB+//vfGy8vL7Np06Zq57Ji3ltRWFhoQkJCzHPPPVejn0tPTzc1+XXfs2ePkWRiY2Or/TO8B6x5D9zK7ysAAHURxaMBqukHmZKSEhMaGmp+9rOfVdh++fJlM3PmTFNUVGSCg4PN4MGDK+zfuHGjkWSmTZtmjPn7h7vi4uJrx8yaNctIMvv27bvpPJV5/fXXjSSTn59vjLn+w19xcbEJDAyskK2oqMj4+/ub8ePHVyuXVfPeismTJ5sOHTqYgoKCGv1cTYvH5s2bjSTz6KOPVut43gPWvQcoHgCA+oKlVripHTt26OzZs9et5ff29tbvfvc75eTk6MKFC+rWrVuF/d27d5efn582bNhQ5dh+fn6SpNLS0pvOUxlfX19JV5a0VCY3N1dFRUWKioq6ti0gIEAtWrS4tgToZrncOe+NfPrpp8rIyNCKFSsUEhJyS2NUV3BwsKTq30fCe6D25gUAoL6ieOCmCgoKJEmhoaGV7j979qykv39Y/bHQ0FCdP3++VuaRpKVLl6pPnz4KCwuTv7+/Jk6ceMMxCwsLJUlTpkyRw+G49jp06FCNbs62a96rPvnkE/37v/+7vv76a9111101/vmauuuuu+R0OrVnz55qHc97wLp5AQCoLygeuKlWrVpJkk6dOlXp/qsfEiv7cHn27FmFh4fXyjyHDx/WwIED1aJFC23YsEHnzp3Tm2++ecMxw8LCJEmpqakyV5YWXntV94vv7Jr3qj/84Q/68MMPtWbNmmvnyGr+/v7q27evTp06pW+++abK486cOaPRo0fzHrBoXgAA6hOKB27qrrvuUpMmTbRy5cpK90dFRSk4OFibN2+usH3Dhg0qKSnRAw88UCvzZGdnq7S0VOPHj1dERIScTqccDscNx2zdurWcTqe2bdtWrQx1aV5jjFJSUpSdna3PP/+80qsJVnrllVfk7++vCRMmqLi4uNJjdu7cKR8fH94DFs0LAEB9QvHATfn7++v3v/+9/vd//1fPPfecjh49qvLycp0/f167du2S0+nUCy+8oE8//VQffvihCgoKlJ2drXHjxqlly5YaO3ZsrczTpk0bSdKqVat08eJF7d2797p7B5o0aaK8vDwdPHhQ58+fl7e3t0aOHKkFCxYoLS1NBQUFKisr05EjR3Ts2LFq5bJr3l27dumtt97SnDlz5OvrW2G5jsPh0Ntvv12tcW5Vly5d9NFHH2nnzp3q3bu3vvzyS507d06lpaX67rvvNGfOHI0aNUq+vr68ByyaFwCAesXtt7PDdrf6lJx33nnHREdHG6fTaZxOp7n//vvNrFmzjDHGlJeXm+nTp5vIyEjj6+trGjdubAYOHGhyc3ONMVeeEBQYGGgkmcjISLN//34ze/Zs43K5jCTTtm1bs2fPnpvOk5KSYpo0aWJCQ0NNUlKSeeedd4wk065dO3P48GGzZcsW07ZtWxMQEGB69epljh8/bi5dumRSUlJMmzZtjI+PjwkLCzMJCQkmJyen2rlqe97qyM7ONpKqfE2fPr3af3c1farVjx0+fNi8+OKLJjo62gQHBxtvb28TGhpq7r//fjNq1CjzzTffGGN4D1jxHjCGp1oBAOoPhzHGuLfqwG5JSUmSpMzMTJuTwF0yMjKUnJwsft09D7+vAID6gqVWAAAAACxH8QDcbPfu3dfdr1HZa/DgwXZHBQAAqDU+dgcAGpqOHTuy5AkAADQ4XPEAAAAAYDmKBwAAAADLUTwAAAAAWI7iAQAAAMByFA8AAAAAlqN4AAAAALAcxQMAAACA5SgeAAAAACxH8QAAAABgOYoHAAAAAMtRPAAAAABYjuIBAAAAwHIUDwAAAACWo3gAAAAAsJyP3QFgj/Xr1yspKcnuGHCTI0eOSBJ/5x5o/fr1io2NtTsGAAC3jeLRAPXo0cPuCLDA3/72N0nSvffee92+8PBwJSYmujsSakFsbCy/swCAesFhjDF2hwBw+wYNGiRJysjIsDkJAADA9bjHAwAAAIDlKB4AAAAALEfxAAAAAGA5igcAAAAAy1E8AAAAAFiO4gEAAADAchQPAAAAAJajeAAAAACwHMUDAAAAgOUoHgAAAAAsR/EAAAAAYDmKBwAAAADLUTwAAAAAWI7iAQAAAMByFA8AAAAAlqN4AAAAALAcxQMAAACA5SgeAAAAACxH8QAAAABgOYoHAAAAAMtRPAAAAABYjuIBAAAAwHIUDwAAAACWo3gAAAAAsBzFAwAAAIDlKB4AAAAALEfxAAAAAGA5igcAAAAAy1E8AAAAAFiO4gEAAADAchQPAAAAAJajeAAAAACwHMUDAAAAgOUcxhhjdwgANfPRRx9p7ty5Ki8vv7YtNzdXknTPPfdc2+bl5aVRo0Zp6NChbs8IAADwYxQPwANt375dXbp0qdax27ZtU+fOnS1OBAAAcGMUD8BDdezY8dpVjqq0b99ee/fudVMiAACAqnGPB+Chhg8fLl9f3yr3+/r6auTIkW5MBAAAUDWueAAe6sCBA2rfvr1u9Cu8d+9etW/f3o2pAAAAKscVD8BDRURE6P7775fD4bhun8Ph0AMPPEDpAAAAdQbFA/BgTz31lLy9va/b7u3traeeesqGRAAAAJVjqRXgwfLz89WyZcsKj9WVrjxG9+jRo2rRooVNyQAAACriigfgwe644w499NBDFa56eHt76+GHH6Z0AACAOoXiAXi44cOHV2sbAACAnVhqBXi4goICNWvWTKWlpZKuPEY3Pz9foaGhNicDAAD4O654AB7O5XIpPj5ePj4+8vHx0WOPPUbpAAAAdQ7FA6gHhg0bprKyMpWVlWno0KF2xwEAALiOj90BgNpw5MgRrVu3zu4YtiktLZWfn5+MMbp06ZIyMjLsjmSbuLg4hYeH2x0DAAD8BPd4oF7IyMhQcnKy3TFQB6Snp2vQoEF2xwAAAD/BFQ/UKw2xRyclJUmSRo0aJYfDob59+9qcyD6VfYs7AACoGygeQD3x6KOP2h0BAACgShQPoJ7w8eHXGQAA1F081QoAAACA5SgeAAAAACxH8QAAAABgOYoHAAAAAMtRPAAAAABYjuIBAAAAwHIUDwAAAACWo3gAAAAAsBzFAwAAAIDlKB4AAAAALEfxAAAAAGA5igcAAAAAy1E8gP83evRohYSEyOFwL83hZwAAD1ZJREFUaNu2bXbHscyiRYsUEREhh8NR4eXn56c77rhDffr00fTp0/XDDz/YHRUAANQjFA/g/73//vuaM2eO3TEsl5CQoAMHDqhdu3Zq1KiRjDEqLy9Xfn6+MjIydPfddyslJUWdOnXS5s2b7Y4LAADqCYoHADkcDoWGhqpPnz6aN2+eMjIydOLECT3++OM6d+6c3fEAAEA9QPEAfsThcNgdoU5ITEzUiBEjlJ+fr3fffdfuOAAAoB6geKDBMsZo+vTpuueee+Tv769GjRrppZdeqnBMWVmZpk6dqjZt2iggIEAxMTFKT0+XJKWlpSkoKEiBgYFavHix4uPj5XK5FB4ergULFlwbY+3atXrwwQcVGBgol8ul6OhoFRQU3HR8u40YMUKStGzZMkkN+1wAAIDbR/FAg/Xyyy8rJSVFY8eO1YkTJ3T8+HFNmjSpwjGTJk3SW2+9pdTUVB07dkz9+/fXk08+qc2bN2v8+PF6/vnnVVxcrJCQEKWnp2v//v2KiIjQmDFjVFpaqsLCQg0YMECJiYk6c+aM9u7dqw4dOqikpOSm49utS5cukqQDBw5IatjnAgAA3D6KBxqk4uJipaam6tFHH9WECRMUGhqqgIAANWnS5NoxFy9eVFpamgYOHKiEhASFhoZqypQp8vX11bx58yqMFxcXJ5fLpbCwMA0ePFiFhYU6fPiwDh48qIKCAnXq1ElOp1PNmzfXokWL1KxZsxqNb4erT/g6f/58gz8XAADg9lE80CDt27dPRUVFeuSRR6o8Jjc3V0VFRYqKirq2LSAgQC1atNDu3bur/Dk/Pz9JUmlpqSIiInTHHXdo2LBheuWVV3Tw4MHbHt9dCgsLZYyRy+Vq8OcCAADcPooHGqQjR45IksLCwqo8prCwUJI0ZcqUCt93cejQIRUVFVVrnoCAAK1Zs0a9evXSa6+9poiICA0ePFjFxcW1Mr6V9uzZI0nq2LFjgz8XAADg9lE80CA5nU5J0qVLl6o85mopSU1NlTGmwisrK6vac3Xq1ElffPGF8vLylJKSovT0dL399tu1Nr5Vli9fLkmKj49v8OcCAADcPooHGqSoqCh5eXlp7dq1VR7TunVrOZ3O2/oW87y8PO3atUvSlSLzxhtvqGvXrtq1a1etjG+V48ePKzU1VeHh4Xr66acb9LkAAAC1g+KBBiksLEwJCQlauHCh5s6dq4KCAu3YsUOzZ8++dozT6dTIkSO1YMECpaWlqaCgQGVlZTpy5IiOHTtWrXny8vL0zDPPaPfu3SopKdHWrVt16NAhxcbG1sr4t8sYowsXLqi8vFzGGJ08eVLp6enq2bOnvL299fnnn8vlcjWIcwEAACxmgHogPT3d1PTtfP78eTN69GjTtGlTExwcbHr16mWmTp1qJJnw8HCzfft2c+nSJZOSkmLatGljfHx8TFhYmElISDA5OTlm1qxZJjAw0EgykZGRZv/+/Wb27NnG5XIZSaZt27bmq6++MnFxcaZx48bG29vbtGrVykyePNlcvnzZGGNuOH51JSYmmsTExGofv2TJEhMTE2MCAwONn5+f8fLyMpKMw+EwoaGh5sEHHzTTpk0zp0+frvBznnAuJJn09PRqHw8AANzHYYwx9tUeoHZkZGQoOTlZDfHtnJSUJEnKzMy0OYn9HA6H0tPTNWjQILujAACAn2CpFQAAAADLUTwAAAAAWI7iAQAAAMByFA8AAAAAlqN4AAAAALAcxQMAAACA5SgeAAAAACxH8QAAAABgOYoHAAAAAMtRPAAAAABYjuIBAAAAwHIUDwAAAACWo3gAAAAAsBzFAwAAAIDlKB4AAAAALEfxAAAAAGA5igcAAAAAy/nYHQCoTRkZGXZHcLsjR45Iapj/7QAAwHNQPFCvJCcn2x3BNg35vx0AANR9DmOMsTsEgNs3aNAgSVz5AAAAdRP3eAAAAACwHMUDAAAAgOUoHgAAAAAsR/EAAAAAYDmKBwAAAADLUTwAAAAAWI7iAQAAAMByFA8AAAAAlqN4AAAAALAcxQMAAACA5SgeAAAAACxH8QAAAABgOYoHAAAAAMtRPAAAAABYjuIBAAAAwHIUDwAAAACWo3gAAAAAsBzFAwAAAIDlKB4AAAAALEfxAAAAAGA5igcAAAAAy1E8AAAAAFiO4gEAAADAchQPAAAAAJajeAAAAACwHMUDAAAAgOUoHgAAAAAsR/EAAAAAYDmKBwAAAADLUTwAAAAAWI7iAQAAAMByFA8AAAAAlqN4AAAAALCcj90BANTchg0btH379grbDhw4IEmaPXt2he0xMTGKjY11WzYAAIDKUDwAD5Sfn6+xY8fK29tbXl5XLlwaYyRJv/3tbyVJ5eXlKisr05IlS2zLCQAAcJXDXP20AsBjlJaWqlmzZiooKLjhcSEhITp16pT8/PzclAwAAKBy3OMBeCBfX18NHjz4hoXC19dXQ4YMoXQAAIA6geIBeKghQ4aopKSkyv2lpaV68skn3ZgIAACgaiy1AjxUeXm5WrVqpRMnTlS6PywsTMePH792DwgAAICd+EQCeCgvLy8NGzas0qVUfn5++s1vfkPpAAAAdQafSgAPVtVyq5KSEg0ZMsSGRAAAAJVjqRXg4dq3b6/9+/dX2Na2bVsdPHjQpkQAAADX44oH4OGGDRsmX1/fa3/28/PTyJEjbUwEAABwPa54AB5u3759ioyMrLAtNzdXHTp0sCkRAADA9bjiAXi49u3bKyYmRg6HQw6HQzExMZQOAABQ51A8gHrgqaeekre3t7y9vfXUU0/ZHQcAAOA6LLUC6oG8vDy1bt1axhgdPnxY4eHhdkcCAACogOKBOi8pKUkLFy60OwbqkcTERGVmZtodAwCABsXH7gBAdcTGxur555+3O0adtmrVKjkcDj3yyCPX7cvKytLMmTOVnp5uQ7K6JTU11e4IAAA0SBQPeITw8HANGjTI7hh12tXC0bRp00r3z5w5k3MocaUDAACbUDyAeqKqwgEAAFAX8FQrAAAAAJajeAAAAACwHMUDAAAAgOUoHgAAAAAsR/EAAAAAYDmKBwAAAADLUTwAAAAAWI7iAQAAAMByFA8AAAAAlqN4AAAAALAcxQMAAACA5SgeAAAAACxH8QAAAABgOYoHGoTRo0crJCREDodD27ZtsztOjZWXlys1NVVxcXFumW/RokWKiIiQw+Go8PLz89Mdd9yhPn36aPr06frhhx/ckgcAAHg+igcahPfff19z5syxO8Yt2bt3rx566CFNmDBBRUVFbpkzISFBBw4cULt27dSoUSMZY1ReXq78/HxlZGTo7rvvVkpKijp16qTNmze7JRMAAPBsFA+gDtu+fbsmTZqkcePGqUuXLrZmcTgcCg0NVZ8+fTRv3jxlZGToxIkTevzxx3Xu3DlbswEAgLqP4oEGw+Fw2B2hxjp37qxFixZp6NCh8vf3tztOBYmJiRoxYoTy8/P17rvv2h0HAADUcRQP1EvGGE2fPl333HOP/P391ahRI7300ksVjikrK9PUqVPVpk0bBQQEKCYmRunp6ZKktLQ0BQUFKTAwUIsXL1Z8fLxcLpfCw8O1YMGCa2OsXbtWDz74oAIDA+VyuRQdHa2CgoKbjl9fjBgxQpK0bNkySZxTAABQNYoH6qWXX35ZKSkpGjt2rE6cOKHjx49r0qRJFY6ZNGmS3nrrLaWmpurYsWPq37+/nnzySW3evFnjx4/X888/r+LiYoWEhCg9PV379+9XRESExowZo9LSUhUWFmrAgAFKTEzUmTNntHfvXnXo0EElJSU3Hb++uLr868CBA5I4pwAAoGoUD9Q7xcXFSk1N1aOPPqoJEyYoNDRUAQEBatKkybVjLl68qLS0NA0cOFAJCQkKDQ3VlClT5Ovrq3nz5lUYLy4uTi6XS2FhYRo8eLAKCwt1+PBhHTx4UAUFBerUqZOcTqeaN2+uRYsWqVmzZjUa35NdfVLY+fPnOacAAOCGKB6od/bt26eioiI98sgjVR6Tm5uroqIiRUVFXdsWEBCgFi1aaPfu3VX+nJ+fnySptLRUERERuuOOOzRs2DC98sorOnjw4G2P72kKCwtljJHL5eKcAgCAG6J4oN45cuSIJCksLKzKYwoLCyVJU6ZMqfA9FYcOHar2I2sDAgK0Zs0a9erVS6+99poiIiI0ePBgFRcX18r4nmDPnj2SpI4dO3JOAQDADVE8UO84nU5J0qVLl6o85mopSU1NlTGmwisrK6vac3Xq1ElffPGF8vLylJKSovT0dL399tu1Nn5dt3z5cklSfHw85xQAANwQxQP1TlRUlLy8vLR27doqj2ndurWcTudtfYt5Xl6edu3aJelKkXnjjTfUtWtX7dq1q1bGr+uOHz+u1NRUhYeH6+mnn+acAgCAG6J4oN4JCwtTQkKCFi5cqLlz56qgoEA7duzQ7Nmzrx3jdDo1cuRILViwQGlpaSooKFBZWZmOHDmiY8eOVWuevLw8PfPMM9q9e7dKSkq0detWHTp0SLGxsbUyfl1hjNGFCxdUXl4uY4xOnjyp9PR09ezZU97e3vr888/lcrk4pwAA4MYMUMclJiaaxMTEGv3M+fPnzejRo03Tpk1NcHCw6dWrl5k6daqRZMLDw8327dvNpUuXTEpKimnTpo3x8fExYWFhJiEhweTk5JhZs2aZwMBAI8lERkaa/fv3m9mzZxuXy2UkmbZt25qvvvrKxMXFmcaNGxtvb2/TqlUrM3nyZHP58mVjjLnh+NWVlZVlevbsaVq2bGkkGUmmRYsWJi4uzqxdu7ba46Snp5ua/LovWbLExMTEmMDAQOPn52e8vLyMJONwOExoaKh58MEHzbRp08zp06cr/JwnnNNbeT8BAIDb5zDGGNtaD1ANSUlJkqTMzEybk3iujIwMJScni1933k8AANiFpVYAAAAALEfxANxs9+7dFR4HW9Vr8ODBdkcFAACoNT52BwAamo4dO7LkCQAANDhc8QAAAABgOYoHAAAAAMtRPAAAAABYjuIBAAAAwHIUDwAAAACWo3gAAAAAsBzFAwAAAIDlKB4AAAAALEfxAAAAAGA5igcAAAAAy1E8AAAAAFiO4gEAAADAchQPAAAAAJajeAAAAACwnI/dAYDqWLhwoRwOh90xPB7n8IrExES7IwAA0OA4jDHG7hDAjWRlZen777+3OwbqkdatW6tHjx52xwAAoEGheAAAAACwHPd4AAAAALAcxQMAAACA5SgeAAAAACznIynT7hAAAAAA6rf/A0Eu+UC15sOFAAAAAElFTkSuQmCC)"
      ],
      "metadata": {
        "id": "GxeuoYL5PS25"
      }
    },
    {
      "cell_type": "code",
      "execution_count": null,
      "metadata": {
        "id": "Lo-gV7bLATFX"
      },
      "outputs": [],
      "source": [
        "model.compile(optimizer=tf.keras.optimizers.Adam(), loss='sparse_categorical_crossentropy', metrics=['acc'])\n",
        "# model.compile(optimizer=\"sgd\", loss='sparse_categorical_crossentropy', metrics=['acc'])\n"
      ]
    },
    {
      "cell_type": "code",
      "execution_count": null,
      "metadata": {
        "id": "aEOsqaP1QJ-1"
      },
      "outputs": [],
      "source": [
        "# def scheduler(epoch, lr):\n",
        "#    if epoch < 8:\n",
        "#      return lr\n",
        "#    else:\n",
        "#      return lr * 0.5\n",
        "# lr_schedule = tf.keras.callbacks.LearningRateScheduler(scheduler, verbose=0)\n",
        "\n",
        "earlystopping = tf.keras.callbacks.EarlyStopping(monitor='val_loss', restore_best_weights=True, patience=3)\n",
        "reduce_lr = tf.keras.callbacks.ReduceLROnPlateau(monitor='val_loss', factor=0.2,\n",
        "                              patience=1, min_lr=0)\n",
        "checkpoint_path = \"training/cp-{epoch:04d}.ckpt\"\n",
        "checkpoint_dir = os.path.dirname(checkpoint_path)\n",
        "cp_callback = tf.keras.callbacks.ModelCheckpoint(\n",
        "    filepath=checkpoint_path,\n",
        "    monitor='val_loss', \n",
        "    save_best_only=True,\n",
        "    save_weights_only=True,\n",
        "    # period=5,\n",
        "    save_freq='epoch'\n",
        "    )"
      ]
    },
    {
      "cell_type": "code",
      "source": [
        "history = model.fit(x = [encoder_input_train, decoder_input_train], \n",
        "          y = decoder_target_train, \n",
        "          validation_data = ([encoder_input_test, decoder_input_test], decoder_target_test),\n",
        "          batch_size = 128, \n",
        "          callbacks = [earlystopping,reduce_lr,cp_callback],\n",
        "          epochs = 100)"
      ],
      "metadata": {
        "colab": {
          "base_uri": "https://localhost:8080/"
        },
        "id": "49dA0nfOhz7U",
        "outputId": "961d6e93-4ffe-448a-c09d-f0fd67c1875e"
      },
      "execution_count": null,
      "outputs": [
        {
          "output_type": "stream",
          "name": "stdout",
          "text": [
            "Epoch 1/100\n",
            "1364/1364 [==============================] - 297s 208ms/step - loss: 2.5925 - acc: 0.6254 - val_loss: 2.1026 - val_acc: 0.6651 - lr: 0.0010\n",
            "Epoch 2/100\n",
            "1364/1364 [==============================] - 258s 189ms/step - loss: 1.8191 - acc: 0.6992 - val_loss: 1.6314 - val_acc: 0.7272 - lr: 0.0010\n",
            "Epoch 3/100\n",
            "1364/1364 [==============================] - 257s 188ms/step - loss: 1.4070 - acc: 0.7495 - val_loss: 1.4322 - val_acc: 0.7525 - lr: 0.0010\n",
            "Epoch 4/100\n",
            "1364/1364 [==============================] - 256s 187ms/step - loss: 1.1586 - acc: 0.7777 - val_loss: 1.3622 - val_acc: 0.7610 - lr: 0.0010\n",
            "Epoch 5/100\n",
            "1364/1364 [==============================] - 256s 187ms/step - loss: 0.9893 - acc: 0.7980 - val_loss: 1.3408 - val_acc: 0.7651 - lr: 0.0010\n",
            "Epoch 6/100\n",
            "1364/1364 [==============================] - 245s 179ms/step - loss: 0.8632 - acc: 0.8145 - val_loss: 1.3449 - val_acc: 0.7665 - lr: 0.0010\n",
            "Epoch 7/100\n",
            "1364/1364 [==============================] - 257s 188ms/step - loss: 0.6988 - acc: 0.8431 - val_loss: 1.3365 - val_acc: 0.7698 - lr: 2.0000e-04\n",
            "Epoch 8/100\n",
            "1364/1364 [==============================] - 250s 184ms/step - loss: 0.6543 - acc: 0.8518 - val_loss: 1.3472 - val_acc: 0.7696 - lr: 2.0000e-04\n",
            "Epoch 9/100\n",
            "1364/1364 [==============================] - 250s 183ms/step - loss: 0.6118 - acc: 0.8607 - val_loss: 1.3516 - val_acc: 0.7698 - lr: 4.0000e-05\n",
            "Epoch 10/100\n",
            "1364/1364 [==============================] - 251s 184ms/step - loss: 0.6021 - acc: 0.8627 - val_loss: 1.3523 - val_acc: 0.7699 - lr: 8.0000e-06\n"
          ]
        }
      ]
    },
    {
      "cell_type": "markdown",
      "source": [
        "##Inference"
      ],
      "metadata": {
        "id": "B3SR9vDBMpKr"
      }
    },
    {
      "cell_type": "code",
      "source": [],
      "metadata": {
        "id": "qJLklyfSM44Z"
      },
      "execution_count": null,
      "outputs": []
    },
    {
      "cell_type": "code",
      "source": [
        "encoder_model = Model(encoder_inputs, [encoder_states,encoder_outputs])"
      ],
      "metadata": {
        "id": "dMiai7x6sq7z"
      },
      "execution_count": null,
      "outputs": []
    },
    {
      "cell_type": "code",
      "source": [
        "decoder_input_h = Input(shape=(hid_dim,))\n",
        "decoder_input_c = Input(shape=(hid_dim,))\n",
        "decoder_encoder_outputs =Input(shape=(MAX_ENC_LEN,hid_dim,))\n",
        "\n",
        "decoder_states_inputs = [decoder_input_h,decoder_input_c]\n",
        "\n",
        "x= dec_emb_layer(decoder_inputs)\n",
        "\n",
        "x, state_h2, state_c2 = decoder_lstm(x, initial_state=decoder_states_inputs)\n",
        "\n",
        "decoder_states2 = [state_h2, state_c2]\n",
        "\n",
        "attention = layers.Attention()([x,decoder_encoder_outputs])\n",
        "concat = layers.Concatenate()([x,attention])\n",
        "dense1 = decoder_dense1(concat)\n",
        "x = decoder_dense2(dense1)\n",
        "\n",
        "\n",
        "decoder_model = Model([decoder_inputs]+decoder_states_inputs+[decoder_encoder_outputs], [x]+decoder_states2)"
      ],
      "metadata": {
        "id": "Q18GLi9ysu3h"
      },
      "execution_count": null,
      "outputs": []
    },
    {
      "cell_type": "code",
      "source": [
        "def translate(sentence):\n",
        "    sentence = preprocesskr(sentence)\n",
        "    enc_input = tokenizer_enc.texts_to_sequences([sentence])\n",
        "    enc_input = pad_sequences(enc_input, maxlen=MAX_ENC_LEN, padding='post')\n",
        "    states_value, output_value = encoder_model.predict(enc_input)\n",
        "    target_seq = np.zeros((1,1))\n",
        "    target_seq[0,0] = tar2idx['<sos>']\n",
        "\n",
        "    stop_condition = False\n",
        "    decoded_sentence = ''\n",
        "\n",
        "    for t in range(MAX_DEC_LEN):\n",
        "        output_tokens, h, c = decoder_model.predict([target_seq]+ states_value+[output_value], verbose=0)\n",
        "        result_token_index = np.argmax(output_tokens[0,-1,:])\n",
        "        result_word = idx2tar[result_token_index]\n",
        "        decoded_sentence += ' '+result_word\n",
        "        target_seq = np.zeros((1,1))\n",
        "        target_seq[0,0] = result_token_index\n",
        "        states_value = [h,c]\n",
        "        if result_word == '<eos>':\n",
        "            break\n",
        "\n",
        "    return decoded_sentence.strip(' <eos>')\n"
      ],
      "metadata": {
        "id": "5zCrxH5Ouj7N"
      },
      "execution_count": null,
      "outputs": []
    },
    {
      "cell_type": "markdown",
      "source": [
        "## Results"
      ],
      "metadata": {
        "id": "urstwt7PM0rc"
      }
    },
    {
      "cell_type": "code",
      "execution_count": null,
      "metadata": {
        "id": "nvSuSxh5aGFb"
      },
      "outputs": [],
      "source": [
        "!gdown 1s2oLAqeG0XSC97NEcBgaTwIHp9G_nxc7"
      ]
    },
    {
      "cell_type": "code",
      "execution_count": null,
      "metadata": {
        "id": "iddo7tlbQCht"
      },
      "outputs": [],
      "source": [
        "testdf = pd.read_csv('한영번역_타켓문장.csv')\n",
        "testdf"
      ]
    },
    {
      "cell_type": "code",
      "execution_count": null,
      "metadata": {
        "id": "eq6v5pN9Qpnl"
      },
      "outputs": [],
      "source": [
        "testsent = testdf.한글"
      ]
    },
    {
      "cell_type": "code",
      "source": [
        "transsent=[]\n",
        "for sent in testsent:\n",
        "    print(sent)\n",
        "    ts = translate(sent)\n",
        "    transsent.append(ts)\n",
        "    print(ts)\n",
        "\n",
        "import pickle\n",
        "\n",
        "with open(folder_path+'translated.pkl','wb') as f:\n",
        "  pickle.dump(transsent,f)"
      ],
      "metadata": {
        "colab": {
          "base_uri": "https://localhost:8080/"
        },
        "id": "XCMkE-BVuZcD",
        "outputId": "e58a155f-225a-4bf1-f279-c7ca48cc0467"
      },
      "execution_count": null,
      "outputs": [
        {
          "output_type": "stream",
          "name": "stdout",
          "text": [
            "정리가 필요하겠네요.\n",
            "1/1 [==============================] - 0s 23ms/step\n",
            "We need to make it up .\n",
            "처음 만났을 때를 떠올려 보세요\n",
            "1/1 [==============================] - 0s 23ms/step\n",
            "Think about when we think of the first time .\n",
            "구썸남 인스타에 좋아요 누름.\n",
            "1/1 [==============================] - 0s 19ms/step\n",
            "When you look at a calm and gentlemen it s good .\n",
            "있었던 일을 차분히 생각해봐요.\n",
            "1/1 [==============================] - 0s 20ms/step\n",
            "Think about what happened and try .\n",
            "많이 찍다보면 조금씩 실력이 늘거예요.\n",
            "1/1 [==============================] - 0s 33ms/step\n",
            "My little ability is getting better when I m getting a lot .\n",
            "가능하면 참석하는 게 좋겠죠.\n",
            "1/1 [==============================] - 0s 19ms/step\n",
            "It would be better to attend if possible .\n",
            "비밀연애가 말도 못하고 힘들죠.\n",
            "1/1 [==============================] - 0s 20ms/step\n",
            "It is difficult to say that the thing is not working .\n",
            "자신을 너무 비난하지 마세요.\n",
            "1/1 [==============================] - 0s 19ms/step\n",
            "Don t blame yourself .\n",
            "한가지만 보면 몰라요.\n",
            "1/1 [==============================] - 0s 18ms/step\n",
            "I don t know if you look .\n",
            "당신이 덜 다치는 쪽으로 하세요.\n",
            "1/1 [==============================] - 0s 20ms/step\n",
            "Keep your injuries .\n",
            "전 다른 일을 많이 벌려요. 정신없이 바쁘면 잊혀지더라고요.\n",
            "1/1 [==============================] - 0s 20ms/step\n",
            "It is still if you are busy with other matters they are willing to be busy .\n",
            "나중에 후회할 거예요.\n",
            "1/1 [==============================] - 0s 27ms/step\n",
            "I will regret it later .\n",
            "장마인데 건조기 사는게 좋을까\n",
            "1/1 [==============================] - 0s 28ms/step\n",
            "The rainy season is the weight of the rainy season .\n",
            "뜻대로 되는게 많지 않죠.\n",
            "1/1 [==============================] - 0s 32ms/step\n",
            "It s not so many things that I can .\n",
            "울어도 돼요.\n",
            "1/1 [==============================] - 0s 19ms/step\n",
            "You can sleep .\n",
            "환승 가능?\n",
            "1/1 [==============================] - 0s 17ms/step\n",
            "Can I transfer to transfer ?\n",
            "여유를 가지세요.\n",
            "1/1 [==============================] - 0s 19ms/step\n",
            "Have a lot of time .\n",
            "저는 힘들다고 생각해요.\n",
            "1/1 [==============================] - 0s 18ms/step\n",
            "I think I m not good .\n",
            "안녕하세요.\n",
            "1/1 [==============================] - 0s 20ms/step\n",
            "Hello is it .\n",
            "뭐 입고 나가지?\n",
            "1/1 [==============================] - 0s 18ms/step\n",
            "What are you wearing ?\n",
            "나들이 가보세요.\n",
            "1/1 [==============================] - 0s 20ms/step\n",
            "Try to be in a snowboard .\n",
            "결혼하면 안 좋은 점?\n",
            "1/1 [==============================] - 0s 19ms/step\n",
            "Do you have any good things to get married ?\n",
            "헤아릴 수 없는 것.\n",
            "1/1 [==============================] - 0s 33ms/step\n",
            "It s not been ambiguous .\n",
            "사람이 크죠.\n",
            "1/1 [==============================] - 0s 36ms/step\n",
            "People are going to be .\n",
            "이제 은퇴해야 하나?\n",
            "1/1 [==============================] - 0s 19ms/step\n",
            "Are you going to retire now ?\n",
            "심경의 변화가 있었나봅니다.\n",
            "1/1 [==============================] - 0s 20ms/step\n",
            "The change of the fact is that I ve been changing .\n",
            "나 보고 잘 웃는 여자애 나 좋아하는 건가?\n",
            "1/1 [==============================] - 0s 21ms/step\n",
            "Am I like a nice girl and like a good one ?\n",
            "시간이 더 많이 지나가길 바랄게요.\n",
            "1/1 [==============================] - 0s 22ms/step\n",
            "I hope it takes more time .\n",
            "새로 적응해야겠네요.\n",
            "1/1 [==============================] - 0s 19ms/step\n",
            "It s been a new .\n",
            "아무 것도 안해도 괜찮아요.\n",
            "1/1 [==============================] - 0s 20ms/step\n",
            "I m fine with nothing .\n",
            "좋아하는거 어떤 느낌이야?\n",
            "1/1 [==============================] - 0s 20ms/step\n",
            "What is the feeling ?\n",
            "사랑 참 별거없네.\n",
            "1/1 [==============================] - 0s 30ms/step\n",
            "There is no big thing that I love .\n",
            "괜찮은 줄 알았다.\n",
            "1/1 [==============================] - 0s 18ms/step\n",
            "I thought I was really good .\n",
            "제가 드리고 싶네요.\n",
            "1/1 [==============================] - 0s 22ms/step\n",
            "I want to give you .\n",
            "좋아하는 사람 포기하는 방법 있어?\n",
            "1/1 [==============================] - 0s 18ms/step\n",
            "Is there a way to give up someone who likes ?\n",
            "철밥통 되기가 어디 쉽겠어요.\n",
            "1/1 [==============================] - 0s 18ms/step\n",
            "It s a bit of being a bit .\n",
            "당신.\n",
            "1/1 [==============================] - 0s 27ms/step\n",
            "You are .\n",
            "표현하지 않고 끝낸다면 후회할 수 있어요.\n",
            "1/1 [==============================] - 0s 20ms/step\n",
            "You can regret it and regret it .\n",
            "밀당을 하고 싶으시군요.\n",
            "1/1 [==============================] - 0s 20ms/step\n",
            "I m going to do it and get it .\n",
            "비와 당신.\n",
            "1/1 [==============================] - 0s 22ms/step\n",
            "You and you are raining .\n",
            "오늘 택배기사님들 쉬는 날이예요.\n",
            "1/1 [==============================] - 0s 26ms/step\n",
            "I m taking a day off today s day .\n",
            "미인은 잠꾸러기라던데요.\n",
            "1/1 [==============================] - 0s 19ms/step\n",
            "It is a bit as a person s bit as a long time .\n",
            "생리현상은 늦게 트는 게 좋죠.\n",
            "1/1 [==============================] - 0s 19ms/step\n",
            "It is better to wake up late .\n",
            "일찍 퇴근하고 쉬고 있어\n",
            "1/1 [==============================] - 0s 20ms/step\n",
            "I m going to work early and take a rest .\n",
            "회사와 자신에 대해서 더 공부해서 자신감을 가져보세요.\n",
            "1/1 [==============================] - 0s 21ms/step\n",
            "Take care of your company and study more .\n",
            "확신이 있을 때 시작해보세요.\n",
            "1/1 [==============================] - 0s 30ms/step\n",
            "Start when you are sure .\n",
            "사랑한다고 표현해달라고 말해보세요.\n",
            "1/1 [==============================] - 0s 24ms/step\n",
            "Tell me to express your love .\n",
            "밤새 많은 생각을 했나봐요.\n",
            "1/1 [==============================] - 0s 21ms/step\n",
            "I guess I have a lot of thoughts all night .\n",
            "그 사람이 좋아하는 것들을 알아보세요.\n",
            "1/1 [==============================] - 0s 19ms/step\n",
            "Please show me the things that they like .\n",
            "간단하게 팔찌나 양말, 모자, 신발 등으로 시작해보세요.\n",
            "1/1 [==============================] - 0s 19ms/step\n",
            "Please start simple bracelets or shoes shoes shoes .\n",
            "오늘 처리할 일 너무 많아\n",
            "1/1 [==============================] - 0s 19ms/step\n",
            "I have so many things to handle today .\n",
            "많이 놀랐겠어요.\n",
            "1/1 [==============================] - 0s 20ms/step\n",
            "It s a lot of things .\n",
            "낮술 조금만 하세요.\n",
            "1/1 [==============================] - 0s 32ms/step\n",
            "Just take a little bit .\n",
            "면허 없는데 따야겠지\n",
            "1/1 [==============================] - 0s 30ms/step\n",
            "I have been a license but I m not able to get it .\n",
            "재활용도 안되는 사람에 대한 기억으로 괴로워 말아요.\n",
            "1/1 [==============================] - 0s 18ms/step\n",
            "Don t be painful about people who can t do recycling in the people s own .\n",
            "다음에는 우산에 이름이랑 연락처를 적어보세요.\n",
            "1/1 [==============================] - 0s 19ms/step\n",
            "Please write down the name and contact the number at the next umbrella .\n",
            "한가지만 보면 몰라요.\n",
            "1/1 [==============================] - 0s 23ms/step\n",
            "I don t know if you look .\n",
            "너무 무리하면 지쳐요.\n",
            "1/1 [==============================] - 0s 20ms/step\n",
            "It s too noisy .\n",
            "이별이 온 후\n",
            "1/1 [==============================] - 0s 33ms/step\n",
            "I have a farewell .\n",
            "마음이 복잡하겠어요.\n",
            "1/1 [==============================] - 0s 28ms/step\n",
            "I feel like it s .\n",
            "힘들 때네요.\n",
            "1/1 [==============================] - 0s 27ms/step\n",
            "You are in a hard time .\n",
            "친구들과 잘 어울려보세요.\n",
            "1/1 [==============================] - 0s 27ms/step\n",
            "Look at your friends well .\n",
            "배송 중이래\n",
            "1/1 [==============================] - 0s 27ms/step\n",
            "I m in the delivery ?\n",
            "멍 때리기\n",
            "1/1 [==============================] - 0s 19ms/step\n",
            "I m hit .\n",
            "여기까지가 한계야\n",
            "1/1 [==============================] - 0s 20ms/step\n",
            "This is the limit to me .\n",
            "누구나 몰려가는 줄에 설 필요는 없어요.\n",
            "1/1 [==============================] - 0s 21ms/step\n",
            "No need to be old in my mouth .\n",
            "아이스크림 먹어보세요\n",
            "1/1 [==============================] - 0s 19ms/step\n",
            "Try eating ice cream .\n",
            "짝사랑 시작하고 감정 기복이 심해.\n",
            "1/1 [==============================] - 0s 20ms/step\n",
            "Be careful and emotional emotional and emotional .\n",
            "2년사귀다가 헤어젔는데\n",
            "1/1 [==============================] - 0s 22ms/step\n",
            "You have a year of a year and get a hair .\n",
            "한동안은 힘들지도 몰라요.\n",
            "1/1 [==============================] - 0s 18ms/step\n",
            "It might be hard for the hard time .\n",
            "어떻게 하느냐에 따라 다를 거예요.\n",
            "1/1 [==============================] - 0s 21ms/step\n",
            "It s different from how to do .\n",
            "동성을 좋아하는게 비정상이 아닌걸 아는데 고백하는건 망설여져.\n",
            "1/1 [==============================] - 0s 33ms/step\n",
            "I know that it is not an abnormally without being abnormally by being treated without any harmful issue .\n",
            "이젠 잊기로 해\n",
            "1/1 [==============================] - 0s 18ms/step\n",
            "Now I do it ?\n",
            "여자예요? 남자예요?\n",
            "1/1 [==============================] - 0s 21ms/step\n",
            "Is it a woman man man ?\n",
            "도대체 무슨 꿈을 꾼 건가요.\n",
            "1/1 [==============================] - 0s 18ms/step\n",
            "What in the world is a fantasy .\n",
            "중요한 건 노력하는 과정이에요.\n",
            "1/1 [==============================] - 0s 19ms/step\n",
            "The process is working hard .\n",
            "사랑을 시작하게\n",
            "1/1 [==============================] - 0s 20ms/step\n",
            "I start loving you .\n",
            "운동하면 뭐 하나\n",
            "1/1 [==============================] - 0s 20ms/step\n",
            "What do I do ?\n",
            "많이 만나보세요.\n",
            "1/1 [==============================] - 0s 20ms/step\n",
            "Meet a lot .\n",
            "좋아하나봐요.\n",
            "1/1 [==============================] - 0s 38ms/step\n",
            "It s like it .\n",
            "엇갈리는 느낌 싫다\n",
            "1/1 [==============================] - 0s 21ms/step\n",
            "Don t like me ?\n",
            "내일 짝녀랑 영화보러갑니다.\n",
            "1/1 [==============================] - 0s 19ms/step\n",
            "I go to the movie with the day of tomorrow .\n",
            "태연하게 시작해보세요.\n",
            "1/1 [==============================] - 0s 19ms/step\n",
            "Start up .\n",
            "무엇이든 말해보세요.\n",
            "1/1 [==============================] - 0s 19ms/step\n",
            "Whatever tell me .\n",
            "카페 가서 차 마셔도 돼요.\n",
            "1/1 [==============================] - 0s 19ms/step\n",
            "I m going to drink tea for a car .\n",
            "학교 폭력은 범죄에요.\n",
            "1/1 [==============================] - 0s 19ms/step\n",
            "The violence violence is a crime .\n",
            "술 마시다가 더 무너져요.\n",
            "1/1 [==============================] - 0s 18ms/step\n",
            "I get drunk and more .\n",
            "이 말 기억하세요.\n",
            "1/1 [==============================] - 0s 23ms/step\n",
            "Remember this word .\n",
            "그러면 얼른 쟁취하세요.\n",
            "1/1 [==============================] - 0s 34ms/step\n",
            "Then please get it quickly .\n",
            "이 여자 유부녀인가\n",
            "1/1 [==============================] - 0s 19ms/step\n",
            "This woman comes when I was ?\n",
            "썸 중에 고백 언제가 적절해?\n",
            "1/1 [==============================] - 0s 19ms/step\n",
            "When are you going to confess the most of the temple ?\n",
            "자야하는데~~\n",
            "1/1 [==============================] - 0s 18ms/step\n",
            "It s been ?\n",
            "하나씩 하세요.\n",
            "1/1 [==============================] - 0s 18ms/step\n",
            "Do you have one .\n",
            "챙겨 드세요.\n",
            "1/1 [==============================] - 0s 18ms/step\n",
            "Do you have any care .\n",
            "기억도 안 나는 사소한 일로 싸워요.\n",
            "1/1 [==============================] - 0s 18ms/step\n",
            "I also argue with trivial things .\n",
            "봄은 항상 돌아오죠.\n",
            "1/1 [==============================] - 0s 20ms/step\n",
            "Spring is always a bit .\n",
            "멋진 삶을 살고 싶어\n",
            "1/1 [==============================] - 0s 19ms/step\n",
            "I want to live a great life ?\n",
            "돈 모으는 재미\n",
            "1/1 [==============================] - 0s 27ms/step\n",
            "How is the money ?\n",
            "쉬운 일이 아니지만 함께라면 가능할 거예요.\n",
            "1/1 [==============================] - 0s 28ms/step\n",
            "It s not easy to be easy but it will be possible .\n",
            "짧으면 짧을 수록 좋죠.\n",
            "1/1 [==============================] - 0s 30ms/step\n",
            "The more thing is about it s .\n",
            "얼마 되지 않았네요.\n",
            "1/1 [==============================] - 0s 18ms/step\n",
            "It s been too long .\n",
            "인연이 아니었나봅니다.\n",
            "1/1 [==============================] - 0s 20ms/step\n",
            "It is this kind of thing to be .\n",
            "좋아하는 걸로 착각하고 있었을 수도 있어요.\n",
            "1/1 [==============================] - 0s 20ms/step\n",
            "I could have thought about it as I have liked it .\n",
            "원피스 입는 게 낫겠지\n",
            "1/1 [==============================] - 0s 22ms/step\n",
            "You are going to wear a dress .\n",
            "기회가 다시 올 거예요.\n",
            "1/1 [==============================] - 0s 19ms/step\n",
            "The chance will come again .\n",
            "사랑하니까 예뻐보이는 걸 수도 있어요.\n",
            "1/1 [==============================] - 0s 32ms/step\n",
            "I can see you that love love .\n",
            "별똥별 떨어지는 날\n",
            "1/1 [==============================] - 0s 28ms/step\n",
            "You are going to get the deadline ?\n",
            "차였지만 잊지못하고 있는 한 남자입니다.\n",
            "1/1 [==============================] - 0s 27ms/step\n",
            "It s a man who has been a bit of .\n",
            "썸 타는 사이에 얼마나 간섭 가능?\n",
            "1/1 [==============================] - 0s 18ms/step\n",
            "How much is it possible to get into the midst of the ?\n",
            "노력하고 있어요.\n",
            "1/1 [==============================] - 0s 19ms/step\n",
            "I m trying to do .\n",
            "더 깊은 공부할 수 있을 거예요.\n",
            "1/1 [==============================] - 0s 20ms/step\n",
            "I will be able to study more more .\n",
            "사귀기 전에 감정을 갖고 서로 알아가는 단계라면 썸일 거예요.\n",
            "1/1 [==============================] - 0s 20ms/step\n",
            "If you are done before you get some emotions will be taken .\n",
            "고민이 많은데 표현을 못하겠어\n",
            "1/1 [==============================] - 0s 18ms/step\n",
            "I have a lot of worries but I can t express it .\n",
            "추억이 있나봐요.\n",
            "1/1 [==============================] - 0s 19ms/step\n",
            "Look at the memory .\n",
            "오늘 마지막 연락했습니다\n",
            "1/1 [==============================] - 0s 26ms/step\n",
            "I contacted you today .\n",
            "남자들은 좋아하는 여자한테 이럴 수 있어?\n",
            "1/1 [==============================] - 0s 37ms/step\n",
            "Is men like this to the woman who likes this ?\n",
            "그런 사람 얼른 잊으세요.\n",
            "1/1 [==============================] - 0s 20ms/step\n",
            "Let s get down off that kind of person .\n",
            "그분에게 심경 변화가 있었나봅니다.\n",
            "1/1 [==============================] - 0s 27ms/step\n",
            "I think there was a change of the fact that he was an actor .\n",
            "인생은 반복의 연속이지요.\n",
            "1/1 [==============================] - 0s 27ms/step\n",
            "Life is the repeated point of the repeat .\n",
            "날씨가 많이 풀렸죠.\n",
            "1/1 [==============================] - 0s 19ms/step\n",
            "The weather is too nice .\n",
            "남친이 나보다 눈물이 더 많아\n",
            "1/1 [==============================] - 0s 35ms/step\n",
            "I have a lot of tears than my boyfriend .\n",
            "좀 먹어도 괜찮아요.\n",
            "1/1 [==============================] - 0s 25ms/step\n",
            "It s okay if you eat some .\n",
            "바쁘거나 썸이 끝났거나겠죠.\n",
            "1/1 [==============================] - 0s 22ms/step\n",
            "The thing that is getting into the end is that it s a bit .\n",
            "존재 자체로 큰 힘이 되어주고 있나봅니다.\n",
            "1/1 [==============================] - 0s 18ms/step\n",
            "There is a big power in the existence itself .\n",
            "사랑이 모두 정답이 될수는 없어요.\n",
            "1/1 [==============================] - 0s 18ms/step\n",
            "I don t have any answer because I love all the right .\n",
            "그녀에게도 후폭풍이 올까??\n",
            "1/1 [==============================] - 0s 20ms/step\n",
            "Will she come out to her ?\n",
            "도전하기 싫다\n",
            "1/1 [==============================] - 0s 19ms/step\n",
            "Don t try to challenge ?\n",
            "우울합니다\n",
            "1/1 [==============================] - 0s 30ms/step\n",
            "It s bad .\n",
            "같이 놀아요.\n",
            "1/1 [==============================] - 0s 21ms/step\n",
            "Let s play together .\n",
            "더 좋은 사람 만날 거예요.\n",
            "1/1 [==============================] - 0s 18ms/step\n",
            "It will be a better person .\n",
            "날이 많이 추운데.\n",
            "1/1 [==============================] - 0s 20ms/step\n",
            "It is cold for me so it s cold .\n",
            "같이 놀러갈 친구가 없어\n",
            "1/1 [==============================] - 0s 22ms/step\n",
            "I don t have a friend to go out with you .\n",
            "앞머리만이라도 감으세요.\n",
            "1/1 [==============================] - 0s 23ms/step\n",
            "Wash the bang .\n",
            "후회하지 않았으면 좋겠어요.\n",
            "1/1 [==============================] - 0s 18ms/step\n",
            "I hope I don t regret .\n",
            "헤어진지 4일\n",
            "1/1 [==============================] - 0s 18ms/step\n",
            "It s been a bit ?\n",
            "마음이 많이 아프겠어요.\n",
            "1/1 [==============================] - 0s 19ms/step\n",
            "I m very kind of good .\n",
            "저도 궁금해요.\n",
            "1/1 [==============================] - 0s 21ms/step\n",
            "I wonder too .\n",
            "남과 비교하지 마세요.\n",
            "1/1 [==============================] - 0s 30ms/step\n",
            "Don t compare others and compare .\n",
            "언제쯤 무뎌질까\n",
            "1/1 [==============================] - 0s 30ms/step\n",
            "When will be a fresh amount of ?\n",
            "그 애의 눈에도 당신이 띄길 바랄게요.\n",
            "1/1 [==============================] - 0s 29ms/step\n",
            "I hope you are your eyes .\n",
            "여유는 마음 가짐에 있어요.\n",
            "1/1 [==============================] - 0s 28ms/step\n",
            "I m in my mind .\n",
            "괜한 의미부여는 하지 마세요.\n",
            "1/1 [==============================] - 0s 25ms/step\n",
            "Don t give up the meaning of the demand .\n",
            "영화관 알바 하고 싶다\n",
            "1/1 [==============================] - 0s 19ms/step\n",
            "I want to do part time job at movies .\n",
            "심심하다고\n",
            "1/1 [==============================] - 0s 24ms/step\n",
            "I am bored ?\n",
            "잘하는 건 칭찬해주고 본받을 점은 본받으면서 그대로 사랑해주세요.\n",
            "1/1 [==============================] - 0s 19ms/step\n",
            "Please compliment me about what I can do but I hope you are the same as the one .\n",
            "버려줘서 고마워.\n",
            "1/1 [==============================] - 0s 28ms/step\n",
            "Thank you for the things .\n",
            "다양하게 먹자고 해보세요.\n",
            "1/1 [==============================] - 0s 32ms/step\n",
            "Try to have a lot of things .\n",
            "한강에서 소주한잔.\n",
            "1/1 [==============================] - 0s 31ms/step\n",
            "I drink soju at Han River .\n",
            "대청소를 해보세요!\n",
            "1/1 [==============================] - 0s 20ms/step\n",
            "Try cleaning up .\n",
            "숙면하겠네요.\n",
            "1/1 [==============================] - 0s 20ms/step\n",
            "The sleep is awesome .\n",
            "잠이 최고의 보약이에요. 노력해보세요.\n",
            "1/1 [==============================] - 0s 19ms/step\n",
            "Try the best pill to sleep .\n",
            "귀엽게 봐주세요.\n",
            "1/1 [==============================] - 0s 18ms/step\n",
            "Please look cute .\n",
            "힘들지 않았다면 거짓말일 거예요.\n",
            "1/1 [==============================] - 0s 19ms/step\n",
            "If it s not hard I ll lie .\n",
            "질긴 인연 드디어 끝인 것 같네\n",
            "1/1 [==============================] - 0s 29ms/step\n",
            "It was the end of the horse and the end of the end .\n",
            "물 좋은데 어디야?\n",
            "1/1 [==============================] - 0s 20ms/step\n",
            "I like water ?\n",
            "청첩장 만들어야지\n",
            "1/1 [==============================] - 0s 19ms/step\n",
            "It s a invitation ?\n",
            "미래를 더 준비하고 있나봐요.\n",
            "1/1 [==============================] - 0s 21ms/step\n",
            "Let s take more ready in the future .\n",
            "제발 좀 정신차리세요.\n",
            "1/1 [==============================] - 0s 19ms/step\n",
            "Please take some .\n",
            "그냥 잊어버리세요.\n",
            "1/1 [==============================] - 0s 24ms/step\n",
            "Just forget .\n",
            "내가 좋아하는 사람이 행복했으면 좋겠다\n",
            "1/1 [==============================] - 0s 20ms/step\n",
            "I wish someone I like .\n",
            "후폭풍은 누구에게나 올 거예요.\n",
            "1/1 [==============================] - 0s 18ms/step\n",
            "The storm will be here by everyone .\n",
            "말수 적은 남자인데 썸타도 괜찮을까?\n",
            "1/1 [==============================] - 0s 18ms/step\n",
            "It s a man who has been looking for but could it be okay if we get a lot of things ?\n",
            "데려다주려나봐요.\n",
            "1/1 [==============================] - 0s 19ms/step\n",
            "It s going to be a bit .\n",
            "심경의 변화가 있었을지도 모르겠네요.\n",
            "1/1 [==============================] - 0s 21ms/step\n",
            "I don t know if the change of the fact is there .\n",
            "많이 지쳤을 거예요.\n",
            "1/1 [==============================] - 0s 19ms/step\n",
            "It s too much .\n",
            "정말 그래요. 하나같이 공감되곤 하죠.\n",
            "1/1 [==============================] - 0s 19ms/step\n",
            "It s very important to be aware of it .\n",
            "미련만 남을 거예요.\n",
            "1/1 [==============================] - 0s 18ms/step\n",
            "It s something that s been used .\n",
            "책 좀 읽어야지\n",
            "1/1 [==============================] - 0s 20ms/step\n",
            "I m a book ?\n",
            "계속 속이 진짜 안 좋아\n",
            "1/1 [==============================] - 0s 30ms/step\n",
            "I feel really bad .\n",
            "바쁘거나 거절의 의미일 수도 있겠어요.\n",
            "1/1 [==============================] - 0s 20ms/step\n",
            "It might be the meaning of the refusal of refusing .\n",
            "모 아니면 도예요.\n",
            "1/1 [==============================] - 0s 30ms/step\n",
            "Do not play .\n",
            "그녀의 관심사에 호감을 드러내세요.\n",
            "1/1 [==============================] - 0s 28ms/step\n",
            "I m going to look good for her interests .\n",
            "결혼이야기를 꺼내고 싶은데 어느 분위기에 꺼내는게 좋을까?\n",
            "1/1 [==============================] - 0s 33ms/step\n",
            "I want to take some calls to you or get some good things for you ?\n",
            "안경 빼니까 예뻐보여\n",
            "1/1 [==============================] - 0s 19ms/step\n",
            "It s pretty glasses .\n",
            "소심남 좋아하는 여자도 있나요?\n",
            "1/1 [==============================] - 0s 19ms/step\n",
            "Do women have any other people like ?\n",
            "있을 수 있지요.\n",
            "1/1 [==============================] - 0s 18ms/step\n",
            "You can be able to be .\n",
            "필요한 게 뭔지 살펴보세요.\n",
            "1/1 [==============================] - 0s 28ms/step\n",
            "Please do what you need .\n",
            "코 감기일 수도 있어요.\n",
            "1/1 [==============================] - 0s 21ms/step\n",
            "You might have a cold nose .\n",
            "나랑 같이 놀아요.\n",
            "1/1 [==============================] - 0s 19ms/step\n",
            "Let s play with me .\n",
            "따뜻한 밥 먹고 힘내봐요.\n",
            "1/1 [==============================] - 0s 20ms/step\n",
            "Cheer up and cheer up for warm meal .\n",
            "저는 위기 조차 없네요.\n",
            "1/1 [==============================] - 0s 30ms/step\n",
            "I have no difficulties .\n",
            "무언가의 탄생을 뜻하기도 해요.\n",
            "1/1 [==============================] - 0s 31ms/step\n",
            "It means the birth of the thing .\n",
            "더 일찍 일어나세요.\n",
            "1/1 [==============================] - 0s 29ms/step\n",
            "Get up earlier .\n",
            "좋은 여행 되길 바랍니다.\n",
            "1/1 [==============================] - 0s 31ms/step\n",
            "I hope you enjoy a good trip .\n",
            "슬픈 이야기네요.\n",
            "1/1 [==============================] - 0s 19ms/step\n",
            "I m sad of sad .\n",
            "나 폰 중독인 거 같애\n",
            "1/1 [==============================] - 0s 19ms/step\n",
            "Who is the type of phone addiction ?\n",
            "나 자신에 집중하세요. 언제나 1순위에 자신을 두세요.\n",
            "1/1 [==============================] - 0s 21ms/step\n",
            "Try yourself to focus on your priority .\n",
            "우산 같은 사람이네요.\n",
            "1/1 [==============================] - 0s 19ms/step\n",
            "It s a person like an umbrella .\n",
            "불금이네\n",
            "1/1 [==============================] - 0s 24ms/step\n",
            "It s a refund ?\n",
            "같이 내는 게 좋죠.\n",
            "1/1 [==============================] - 0s 18ms/step\n",
            "It s best to get up with you .\n",
            "전여친이 나보다 나은 사람이라는 생각이 자꾸 들어\n",
            "1/1 [==============================] - 0s 18ms/step\n",
            "I think that the thing is a better person who is a better person than me .\n",
            "바람 쐬고 와서 다시 들으세요.\n",
            "1/1 [==============================] - 0s 34ms/step\n",
            "Please hear it again because of the wind out of the wind .\n",
            "근처 산에 가보세요.\n",
            "1/1 [==============================] - 0s 19ms/step\n",
            "Go to the mountain near the mountain .\n",
            "달리세요!\n",
            "1/1 [==============================] - 0s 18ms/step\n",
            "It s been a bit !\n",
            "잘 할 수 있을지 걱정 돼\n",
            "1/1 [==============================] - 0s 29ms/step\n",
            "I am worried if I can do it well .\n",
            "조심히 오세요.\n",
            "1/1 [==============================] - 0s 20ms/step\n",
            "Please come carefully .\n",
            "잘 이겨내고 있네요.\n",
            "1/1 [==============================] - 0s 22ms/step\n",
            "I think it is a good .\n",
            "궁금할 수 있어요.\n",
            "1/1 [==============================] - 0s 20ms/step\n",
            "I can apologize .\n",
            "안 사귀는 것보다 좋지요.\n",
            "1/1 [==============================] - 0s 35ms/step\n",
            "It is better to be in not .\n",
            "작은것에 감사하는 마음을 가져보세요.\n",
            "1/1 [==============================] - 0s 19ms/step\n",
            "Take a great mind for your own .\n"
          ]
        }
      ]
    },
    {
      "cell_type": "code",
      "execution_count": null,
      "metadata": {
        "id": "KzrZJRiTQ2LW",
        "colab": {
          "base_uri": "https://localhost:8080/"
        },
        "outputId": "d7f73a2d-4b53-4a88-f6d6-85500798b4c9"
      },
      "outputs": [
        {
          "output_type": "stream",
          "name": "stdout",
          "text": [
            "정리가 필요하겠네요.\n",
            "1/1 [==============================] - 0s 26ms/step\n",
            "I need it .\n",
            "처음 만났을 때를 떠올려 보세요\n",
            "1/1 [==============================] - 0s 18ms/step\n",
            "I remember the first time I met .\n",
            "구썸남 인스타에 좋아요 누름.\n",
            "1/1 [==============================] - 0s 22ms/step\n",
            "Please press the phone on Instagram .\n",
            "있었던 일을 차분히 생각해봐요.\n",
            "1/1 [==============================] - 0s 28ms/step\n",
            "I will think I ll be calm down .\n",
            "많이 찍다보면 조금씩 실력이 늘거예요.\n",
            "1/1 [==============================] - 0s 21ms/step\n",
            "A little skill is a little bit of a little bit .\n",
            "가능하면 참석하는 게 좋겠죠.\n",
            "1/1 [==============================] - 0s 38ms/step\n",
            "I hope you can attend it .\n",
            "비밀연애가 말도 못하고 힘들죠.\n",
            "1/1 [==============================] - 0s 20ms/step\n",
            "It s hard to say that the downy is not saying .\n",
            "자신을 너무 비난하지 마세요.\n",
            "1/1 [==============================] - 0s 23ms/step\n",
            "Don t blame yourself .\n",
            "한가지만 보면 몰라요.\n",
            "1/1 [==============================] - 0s 19ms/step\n",
            "I don t know if you are doing it .\n",
            "당신이 덜 다치는 쪽으로 하세요.\n",
            "1/1 [==============================] - 0s 25ms/step\n",
            "You must be less injured .\n",
            "전 다른 일을 많이 벌려요. 정신없이 바쁘면 잊혀지더라고요.\n",
            "1/1 [==============================] - 0s 19ms/step\n",
            "I m busy with a lot of things but I ve been busy and long old days .\n",
            "나중에 후회할 거예요.\n",
            "1/1 [==============================] - 0s 24ms/step\n",
            "I will regret it later .\n",
            "장마인데 건조기 사는게 좋을까\n",
            "1/1 [==============================] - 0s 23ms/step\n",
            "It s a rainy season and it s good to live a living .\n",
            "뜻대로 되는게 많지 않죠.\n",
            "1/1 [==============================] - 0s 21ms/step\n",
            "It s not possible to do it as you want .\n",
            "울어도 돼요.\n",
            "1/1 [==============================] - 0s 21ms/step\n",
            "You can t cry .\n",
            "환승 가능?\n",
            "1/1 [==============================] - 0s 19ms/step\n",
            "Can I get a transfer ?\n",
            "여유를 가지세요.\n",
            "1/1 [==============================] - 0s 21ms/step\n",
            "Let s go out for a rest .\n",
            "저는 힘들다고 생각해요.\n",
            "1/1 [==============================] - 0s 18ms/step\n",
            "I think it was hard .\n",
            "안녕하세요.\n",
            "1/1 [==============================] - 0s 35ms/step\n",
            "Hello !\n",
            "뭐 입고 나가지?\n",
            "1/1 [==============================] - 0s 21ms/step\n",
            "What are you going to wear ?\n",
            "나들이 가보세요.\n",
            "1/1 [==============================] - 0s 19ms/step\n",
            "I go to go to a picnic .\n",
            "결혼하면 안 좋은 점?\n",
            "1/1 [==============================] - 0s 29ms/step\n",
            "Do you think you don t get married ?\n",
            "헤아릴 수 없는 것.\n",
            "1/1 [==============================] - 0s 26ms/step\n",
            "It will be no verification .\n",
            "사람이 크죠.\n",
            "1/1 [==============================] - 0s 31ms/step\n",
            "People are big .\n",
            "이제 은퇴해야 하나?\n",
            "1/1 [==============================] - 0s 55ms/step\n",
            "Can I retire now ?\n",
            "심경의 변화가 있었나봅니다.\n",
            "1/1 [==============================] - 0s 29ms/step\n",
            "I guess there is a change of the apostle .\n",
            "나 보고 잘 웃는 여자애 나 좋아하는 건가?\n",
            "1/1 [==============================] - 0s 21ms/step\n",
            "I look at a good smile and I like a girl ?\n",
            "시간이 더 많이 지나가길 바랄게요.\n",
            "1/1 [==============================] - 0s 19ms/step\n",
            "I hope you get more time .\n",
            "새로 적응해야겠네요.\n",
            "1/1 [==============================] - 0s 18ms/step\n",
            "I m going to get a new one .\n",
            "아무 것도 안해도 괜찮아요.\n",
            "1/1 [==============================] - 0s 19ms/step\n",
            "It s okay if you don t have any other things .\n",
            "좋아하는거 어떤 느낌이야?\n",
            "1/1 [==============================] - 0s 33ms/step\n",
            "What kind of feeling is you feeling ?\n",
            "사랑 참 별거없네.\n",
            "1/1 [==============================] - 0s 30ms/step\n",
            "Love is not a big big .\n",
            "괜찮은 줄 알았다.\n",
            "1/1 [==============================] - 0s 27ms/step\n",
            "I thought it s okay .\n",
            "제가 드리고 싶네요.\n",
            "1/1 [==============================] - 0s 21ms/step\n",
            "I want to be able to give you .\n",
            "좋아하는 사람 포기하는 방법 있어?\n",
            "1/1 [==============================] - 0s 20ms/step\n",
            "Is there any way to give up ?\n",
            "철밥통 되기가 어디 쉽겠어요.\n",
            "1/1 [==============================] - 0s 24ms/step\n",
            "It s easy to be a bit of the min .\n",
            "당신.\n",
            "1/1 [==============================] - 0s 19ms/step\n",
            "You are you .\n",
            "표현하지 않고 끝낸다면 후회할 수 있어요.\n",
            "1/1 [==============================] - 0s 19ms/step\n",
            "I can regret it if you don t express it .\n",
            "밀당을 하고 싶으시군요.\n",
            "1/1 [==============================] - 0s 23ms/step\n",
            "I want to do it .\n",
            "비와 당신.\n",
            "1/1 [==============================] - 0s 21ms/step\n",
            "You are raining and you .\n",
            "오늘 택배기사님들 쉬는 날이예요.\n",
            "1/1 [==============================] - 0s 29ms/step\n",
            "The package driver is off today and take a rest .\n",
            "미인은 잠꾸러기라던데요.\n",
            "1/1 [==============================] - 0s 19ms/step\n",
            "It s been a sleepyhead for a youth .\n",
            "생리현상은 늦게 트는 게 좋죠.\n",
            "1/1 [==============================] - 0s 20ms/step\n",
            "It s been a good situation to turn it late .\n",
            "일찍 퇴근하고 쉬고 있어\n",
            "1/1 [==============================] - 0s 20ms/step\n",
            "I m taking a rest early after work and have a rest .\n",
            "회사와 자신에 대해서 더 공부해서 자신감을 가져보세요.\n",
            "1/1 [==============================] - 0s 18ms/step\n",
            "I will go to confidence and try to study more about the company .\n",
            "확신이 있을 때 시작해보세요.\n",
            "1/1 [==============================] - 0s 23ms/step\n",
            "I will start it when you have any confidence .\n",
            "사랑한다고 표현해달라고 말해보세요.\n",
            "1/1 [==============================] - 0s 19ms/step\n",
            "Tell me to express my love .\n",
            "밤새 많은 생각을 했나봐요.\n",
            "1/1 [==============================] - 0s 22ms/step\n",
            "I thought a lot of all night .\n",
            "그 사람이 좋아하는 것들을 알아보세요.\n",
            "1/1 [==============================] - 0s 19ms/step\n",
            "I will look for those who like this .\n",
            "간단하게 팔찌나 양말, 모자, 신발 등으로 시작해보세요.\n",
            "1/1 [==============================] - 0s 22ms/step\n",
            "Please start with simple bracelets and socks shoes .\n",
            "오늘 처리할 일 너무 많아\n",
            "1/1 [==============================] - 0s 19ms/step\n",
            "I have done today because I finished it today .\n",
            "많이 놀랐겠어요.\n",
            "1/1 [==============================] - 0s 19ms/step\n",
            "I was surprised a lot .\n",
            "낮술 조금만 하세요.\n",
            "1/1 [==============================] - 0s 23ms/step\n",
            "I ll just give you a little bit of the time .\n",
            "면허 없는데 따야겠지\n",
            "1/1 [==============================] - 0s 26ms/step\n",
            "I m not getting a license ?\n",
            "재활용도 안되는 사람에 대한 기억으로 괴로워 말아요.\n",
            "1/1 [==============================] - 0s 28ms/step\n",
            "Don t forget to the person who can t recycle .\n",
            "다음에는 우산에 이름이랑 연락처를 적어보세요.\n",
            "1/1 [==============================] - 0s 19ms/step\n",
            "I wrote it on the umbrella and I write the name on the umbrella .\n",
            "한가지만 보면 몰라요.\n",
            "1/1 [==============================] - 0s 31ms/step\n",
            "I don t know if you are doing it .\n",
            "너무 무리하면 지쳐요.\n",
            "1/1 [==============================] - 0s 20ms/step\n",
            "I m so exhausted too .\n",
            "이별이 온 후\n",
            "1/1 [==============================] - 0s 20ms/step\n",
            "I came back after the break up ?\n",
            "마음이 복잡하겠어요.\n",
            "1/1 [==============================] - 0s 18ms/step\n",
            "My mind is complicated .\n",
            "힘들 때네요.\n",
            "1/1 [==============================] - 0s 21ms/step\n",
            "It s when you re tired .\n",
            "친구들과 잘 어울려보세요.\n",
            "1/1 [==============================] - 0s 19ms/step\n",
            "I guess you look good with friends .\n",
            "배송 중이래\n",
            "1/1 [==============================] - 0s 30ms/step\n",
            "I hope you are in the delivery ?\n",
            "멍 때리기\n",
            "1/1 [==============================] - 0s 26ms/step\n",
            "I m a pair of hair .\n",
            "여기까지가 한계야\n",
            "1/1 [==============================] - 0s 31ms/step\n",
            "That s the limit of this one .\n",
            "누구나 몰려가는 줄에 설 필요는 없어요.\n",
            "1/1 [==============================] - 0s 20ms/step\n",
            "Everyone doesn t need to be excited .\n",
            "아이스크림 먹어보세요\n",
            "1/1 [==============================] - 0s 19ms/step\n",
            "I eat ice cream ?\n",
            "짝사랑 시작하고 감정 기복이 심해.\n",
            "1/1 [==============================] - 0s 20ms/step\n",
            "The feeling of the living views started so severe and downs .\n",
            "2년사귀다가 헤어젔는데\n",
            "1/1 [==============================] - 0s 21ms/step\n",
            "The hair of the hair is years old ?\n",
            "한동안은 힘들지도 몰라요.\n",
            "1/1 [==============================] - 0s 20ms/step\n",
            "I don t know that it was hard for me .\n",
            "어떻게 하느냐에 따라 다를 거예요.\n",
            "1/1 [==============================] - 0s 19ms/step\n",
            "It will be different according to what you do .\n",
            "동성을 좋아하는게 비정상이 아닌걸 아는데 고백하는건 망설여져.\n",
            "1/1 [==============================] - 0s 30ms/step\n",
            "If you tell me the same sex or not you are not the boring I will tell you .\n",
            "이젠 잊기로 해\n",
            "1/1 [==============================] - 0s 19ms/step\n",
            "I will forget now ?\n",
            "여자예요? 남자예요?\n",
            "1/1 [==============================] - 0s 19ms/step\n",
            "Is it a woman ?\n",
            "도대체 무슨 꿈을 꾼 건가요.\n",
            "1/1 [==============================] - 0s 20ms/step\n",
            "What on earth is the fan of the earth .\n",
            "중요한 건 노력하는 과정이에요.\n",
            "1/1 [==============================] - 0s 19ms/step\n",
            "The process is trying to try to be an effort .\n",
            "사랑을 시작하게\n",
            "1/1 [==============================] - 0s 22ms/step\n",
            "I will start my love .\n",
            "운동하면 뭐 하나\n",
            "1/1 [==============================] - 0s 19ms/step\n",
            "What do you exercise ?\n",
            "많이 만나보세요.\n",
            "1/1 [==============================] - 0s 30ms/step\n",
            "Let s meet a lot .\n",
            "좋아하나봐요.\n",
            "1/1 [==============================] - 0s 23ms/step\n",
            "I like it .\n",
            "엇갈리는 느낌 싫다\n",
            "1/1 [==============================] - 0s 20ms/step\n",
            "I don t want to feel it .\n",
            "내일 짝녀랑 영화보러갑니다.\n",
            "1/1 [==============================] - 0s 23ms/step\n",
            "I will go to see the movie with my own tomorrow .\n",
            "태연하게 시작해보세요.\n",
            "1/1 [==============================] - 0s 19ms/step\n",
            "Let s start the Ssamjang .\n",
            "무엇이든 말해보세요.\n",
            "1/1 [==============================] - 0s 20ms/step\n",
            "Whatever you are talking about .\n",
            "카페 가서 차 마셔도 돼요.\n",
            "1/1 [==============================] - 0s 21ms/step\n",
            "I went to the cafe and have a cup of tea .\n",
            "학교 폭력은 범죄에요.\n",
            "1/1 [==============================] - 0s 21ms/step\n",
            "The violence of school is a crime .\n",
            "술 마시다가 더 무너져요.\n",
            "1/1 [==============================] - 0s 27ms/step\n",
            "It revives more .\n",
            "이 말 기억하세요.\n",
            "1/1 [==============================] - 0s 31ms/step\n",
            "I remember this word .\n",
            "그러면 얼른 쟁취하세요.\n",
            "1/1 [==============================] - 0s 28ms/step\n",
            "Then I ll get the one quickly .\n",
            "이 여자 유부녀인가\n",
            "1/1 [==============================] - 0s 28ms/step\n",
            "This woman is going to be gone to you .\n",
            "썸 중에 고백 언제가 적절해?\n",
            "1/1 [==============================] - 0s 18ms/step\n",
            "When do you mean you are asking you to protect them ?\n",
            "자야하는데~~\n",
            "1/1 [==============================] - 0s 20ms/step\n",
            "Take it well ?\n",
            "하나씩 하세요.\n",
            "1/1 [==============================] - 0s 22ms/step\n",
            "You should do one .\n",
            "챙겨 드세요.\n",
            "1/1 [==============================] - 0s 19ms/step\n",
            "I heard you are taking care of me .\n",
            "기억도 안 나는 사소한 일로 싸워요.\n",
            "1/1 [==============================] - 0s 22ms/step\n",
            "I lost my little days but I fought with a little bit of a little bit of times .\n",
            "봄은 항상 돌아오죠.\n",
            "1/1 [==============================] - 0s 35ms/step\n",
            "Spring always comes back .\n",
            "멋진 삶을 살고 싶어\n",
            "1/1 [==============================] - 0s 28ms/step\n",
            "I want to live a nice life .\n",
            "돈 모으는 재미\n",
            "1/1 [==============================] - 0s 30ms/step\n",
            "I ve saved money out of money .\n",
            "쉬운 일이 아니지만 함께라면 가능할 거예요.\n",
            "1/1 [==============================] - 0s 22ms/step\n",
            "You can do it if you don t have any easy work .\n",
            "짧으면 짧을 수록 좋죠.\n",
            "1/1 [==============================] - 0s 21ms/step\n",
            "It s a good more more and short .\n",
            "얼마 되지 않았네요.\n",
            "1/1 [==============================] - 0s 18ms/step\n",
            "It s not much .\n",
            "인연이 아니었나봅니다.\n",
            "1/1 [==============================] - 0s 21ms/step\n",
            "I m not going to be a relationship .\n",
            "좋아하는 걸로 착각하고 있었을 수도 있어요.\n",
            "1/1 [==============================] - 0s 18ms/step\n",
            "I might be misunderstood by my favorite one .\n",
            "원피스 입는 게 낫겠지\n",
            "1/1 [==============================] - 0s 20ms/step\n",
            "I d better wear clothes ?\n",
            "기회가 다시 올 거예요.\n",
            "1/1 [==============================] - 0s 19ms/step\n",
            "I will come back again .\n",
            "사랑하니까 예뻐보이는 걸 수도 있어요.\n",
            "1/1 [==============================] - 0s 30ms/step\n",
            "It might look pretty if you love it .\n",
            "별똥별 떨어지는 날\n",
            "1/1 [==============================] - 0s 18ms/step\n",
            "It s on the office off the day .\n",
            "차였지만 잊지못하고 있는 한 남자입니다.\n",
            "1/1 [==============================] - 0s 24ms/step\n",
            "The difference is the one who is forgetting .\n",
            "썸 타는 사이에 얼마나 간섭 가능?\n",
            "1/1 [==============================] - 0s 18ms/step\n",
            "How long do you want to interfere between the broom ?\n",
            "노력하고 있어요.\n",
            "1/1 [==============================] - 0s 23ms/step\n",
            "I m trying to do it .\n",
            "더 깊은 공부할 수 있을 거예요.\n",
            "1/1 [==============================] - 0s 22ms/step\n",
            "You will study more deeper .\n",
            "사귀기 전에 감정을 갖고 서로 알아가는 단계라면 썸일 거예요.\n",
            "1/1 [==============================] - 0s 21ms/step\n",
            "If you let me know the feeling of the time we will be in the stage as a step .\n",
            "고민이 많은데 표현을 못하겠어\n",
            "1/1 [==============================] - 0s 18ms/step\n",
            "I can t express a lot of thoughts because I have a lot of concerns .\n",
            "추억이 있나봐요.\n",
            "1/1 [==============================] - 0s 19ms/step\n",
            "I guess I have a memory .\n",
            "오늘 마지막 연락했습니다\n",
            "1/1 [==============================] - 0s 19ms/step\n",
            "I will contact you today .\n",
            "남자들은 좋아하는 여자한테 이럴 수 있어?\n",
            "1/1 [==============================] - 0s 19ms/step\n",
            "Do men like this kind of women ?\n",
            "그런 사람 얼른 잊으세요.\n",
            "1/1 [==============================] - 0s 21ms/step\n",
            "Okay let s forget .\n",
            "그분에게 심경 변화가 있었나봅니다.\n",
            "1/1 [==============================] - 0s 20ms/step\n",
            "I saw that there is a change of the person .\n",
            "인생은 반복의 연속이지요.\n",
            "1/1 [==============================] - 0s 28ms/step\n",
            "Life is in the repeat of the repeat .\n",
            "날씨가 많이 풀렸죠.\n",
            "1/1 [==============================] - 0s 30ms/step\n",
            "The weather is worse .\n",
            "남친이 나보다 눈물이 더 많아\n",
            "1/1 [==============================] - 0s 21ms/step\n",
            "My boyfriend cried more than me .\n",
            "좀 먹어도 괜찮아요.\n",
            "1/1 [==============================] - 0s 20ms/step\n",
            "It s okay to eat it .\n",
            "바쁘거나 썸이 끝났거나겠죠.\n",
            "1/1 [==============================] - 0s 20ms/step\n",
            "I hope you re getting busy .\n",
            "존재 자체로 큰 힘이 되어주고 있나봅니다.\n",
            "1/1 [==============================] - 0s 22ms/step\n",
            "It seems that the existence itself is a big power .\n",
            "사랑이 모두 정답이 될수는 없어요.\n",
            "1/1 [==============================] - 0s 23ms/step\n",
            "There is no answer all of the right love .\n",
            "그녀에게도 후폭풍이 올까??\n",
            "1/1 [==============================] - 0s 29ms/step\n",
            "Is the storm did her come here ?\n",
            "도전하기 싫다\n",
            "1/1 [==============================] - 0s 29ms/step\n",
            "I don t want to try to try it ?\n",
            "우울합니다\n",
            "1/1 [==============================] - 0s 27ms/step\n",
            "I feel depressed .\n",
            "같이 놀아요.\n",
            "1/1 [==============================] - 0s 21ms/step\n",
            "Let s play together .\n",
            "더 좋은 사람 만날 거예요.\n",
            "1/1 [==============================] - 0s 19ms/step\n",
            "I will meet a better person .\n",
            "날이 많이 추운데.\n",
            "1/1 [==============================] - 0s 18ms/step\n",
            "It s cold .\n",
            "같이 놀러갈 친구가 없어\n",
            "1/1 [==============================] - 0s 21ms/step\n",
            "I m going to play with me without my friend ?\n",
            "앞머리만이라도 감으세요.\n",
            "1/1 [==============================] - 0s 24ms/step\n",
            "Relax the bangs .\n",
            "후회하지 않았으면 좋겠어요.\n",
            "1/1 [==============================] - 0s 21ms/step\n",
            "I hope you don t regret it .\n",
            "헤어진지 4일\n",
            "1/1 [==============================] - 0s 24ms/step\n",
            "I ve been to the right ?\n",
            "마음이 많이 아프겠어요.\n",
            "1/1 [==============================] - 0s 20ms/step\n",
            "I m so sick .\n",
            "저도 궁금해요.\n",
            "1/1 [==============================] - 0s 21ms/step\n",
            "I m curious about it too .\n",
            "남과 비교하지 마세요.\n",
            "1/1 [==============================] - 0s 31ms/step\n",
            "Don t compare other people .\n",
            "언제쯤 무뎌질까\n",
            "1/1 [==============================] - 0s 35ms/step\n",
            "When you are out of the two things the more .\n",
            "그 애의 눈에도 당신이 띄길 바랄게요.\n",
            "1/1 [==============================] - 0s 29ms/step\n",
            "I hope you are too much to see his eyes .\n",
            "여유는 마음 가짐에 있어요.\n",
            "1/1 [==============================] - 0s 20ms/step\n",
            "The relaxing is in mind .\n",
            "괜한 의미부여는 하지 마세요.\n",
            "1/1 [==============================] - 0s 21ms/step\n",
            "Don t do it s correct .\n",
            "영화관 알바 하고 싶다\n",
            "1/1 [==============================] - 0s 18ms/step\n",
            "I want to do a part time job in the theater .\n",
            "심심하다고\n",
            "1/1 [==============================] - 0s 22ms/step\n",
            "I m bored ?\n",
            "잘하는 건 칭찬해주고 본받을 점은 본받으면서 그대로 사랑해주세요.\n",
            "1/1 [==============================] - 0s 21ms/step\n",
            "To be complimented you are all the best to be complimented .\n",
            "버려줘서 고마워.\n",
            "1/1 [==============================] - 0s 21ms/step\n",
            "Thank you for me .\n",
            "다양하게 먹자고 해보세요.\n",
            "1/1 [==============================] - 0s 41ms/step\n",
            "Try various things .\n",
            "한강에서 소주한잔.\n",
            "1/1 [==============================] - 0s 30ms/step\n",
            "Soju in the Han River .\n",
            "대청소를 해보세요!\n",
            "1/1 [==============================] - 0s 29ms/step\n",
            "Try cleaning up your rental dog !\n",
            "숙면하겠네요.\n",
            "1/1 [==============================] - 0s 19ms/step\n",
            "I have a deep sleep .\n",
            "잠이 최고의 보약이에요. 노력해보세요.\n",
            "1/1 [==============================] - 0s 19ms/step\n",
            "I will try to sleep a great herb of sleep .\n",
            "귀엽게 봐주세요.\n",
            "1/1 [==============================] - 0s 20ms/step\n",
            "I m cute .\n",
            "힘들지 않았다면 거짓말일 거예요.\n",
            "1/1 [==============================] - 0s 23ms/step\n",
            "It s not easy to lie .\n",
            "질긴 인연 드디어 끝인 것 같네\n",
            "1/1 [==============================] - 0s 18ms/step\n",
            "I m finally the end of the same relationship .\n",
            "물 좋은데 어디야?\n",
            "1/1 [==============================] - 0s 23ms/step\n",
            "Where is the water good ?\n",
            "청첩장 만들어야지\n",
            "1/1 [==============================] - 0s 19ms/step\n",
            "Make it a invitation .\n",
            "미래를 더 준비하고 있나봐요.\n",
            "1/1 [==============================] - 0s 21ms/step\n",
            "Let s see the future more .\n",
            "제발 좀 정신차리세요.\n",
            "1/1 [==============================] - 0s 21ms/step\n",
            "Please give me a bit .\n",
            "그냥 잊어버리세요.\n",
            "1/1 [==============================] - 0s 20ms/step\n",
            "I just forgot .\n",
            "내가 좋아하는 사람이 행복했으면 좋겠다\n",
            "1/1 [==============================] - 0s 21ms/step\n",
            "I like people who like me .\n",
            "후폭풍은 누구에게나 올 거예요.\n",
            "1/1 [==============================] - 0s 20ms/step\n",
            "After the storm will come to everyone .\n",
            "말수 적은 남자인데 썸타도 괜찮을까?\n",
            "1/1 [==============================] - 0s 18ms/step\n",
            "It s a little one but it is a little bit easier to take care of it ?\n",
            "데려다주려나봐요.\n",
            "1/1 [==============================] - 0s 28ms/step\n",
            "Take up .\n",
            "심경의 변화가 있었을지도 모르겠네요.\n",
            "1/1 [==============================] - 0s 29ms/step\n",
            "I don t know if there is a change of the apostle .\n",
            "많이 지쳤을 거예요.\n",
            "1/1 [==============================] - 0s 28ms/step\n",
            "I will be tired .\n",
            "정말 그래요. 하나같이 공감되곤 하죠.\n",
            "1/1 [==============================] - 0s 30ms/step\n",
            "I really thought that it is also sympathy .\n",
            "미련만 남을 거예요.\n",
            "1/1 [==============================] - 0s 25ms/step\n",
            "You will have someone else s offended .\n",
            "책 좀 읽어야지\n",
            "1/1 [==============================] - 0s 19ms/step\n",
            "I read a book ?\n",
            "계속 속이 진짜 안 좋아\n",
            "1/1 [==============================] - 0s 20ms/step\n",
            "I don t think I m not good at it .\n",
            "바쁘거나 거절의 의미일 수도 있겠어요.\n",
            "1/1 [==============================] - 0s 21ms/step\n",
            "It may be a meaningful job for refusing .\n",
            "모 아니면 도예요.\n",
            "1/1 [==============================] - 0s 22ms/step\n",
            "Do glasses .\n",
            "그녀의 관심사에 호감을 드러내세요.\n",
            "1/1 [==============================] - 0s 19ms/step\n",
            "Show her good attention to her interests .\n",
            "결혼이야기를 꺼내고 싶은데 어느 분위기에 꺼내는게 좋을까?\n",
            "1/1 [==============================] - 0s 19ms/step\n",
            "Which kind of atmosphere do you want to take out of marriage ?\n",
            "안경 빼니까 예뻐보여\n",
            "1/1 [==============================] - 0s 31ms/step\n",
            "Please take a picture of glasses and it looks pretty ?\n",
            "소심남 좋아하는 여자도 있나요?\n",
            "1/1 [==============================] - 0s 31ms/step\n",
            "Is there any women like other people like ?\n",
            "있을 수 있지요.\n",
            "1/1 [==============================] - 0s 22ms/step\n",
            "It s possible .\n",
            "필요한 게 뭔지 살펴보세요.\n",
            "1/1 [==============================] - 0s 23ms/step\n",
            "Please take care of what you need .\n",
            "코 감기일 수도 있어요.\n",
            "1/1 [==============================] - 0s 19ms/step\n",
            "You can work up a cold .\n",
            "나랑 같이 놀아요.\n",
            "1/1 [==============================] - 0s 19ms/step\n",
            "Let s play with me .\n",
            "따뜻한 밥 먹고 힘내봐요.\n",
            "1/1 [==============================] - 0s 19ms/step\n",
            "Cheer up and try to eat it up .\n",
            "저는 위기 조차 없네요.\n",
            "1/1 [==============================] - 0s 20ms/step\n",
            "I don t have any problem .\n",
            "무언가의 탄생을 뜻하기도 해요.\n",
            "1/1 [==============================] - 0s 26ms/step\n",
            "It means that you are the birth .\n",
            "더 일찍 일어나세요.\n",
            "1/1 [==============================] - 0s 22ms/step\n",
            "Wake up earlier .\n",
            "좋은 여행 되길 바랍니다.\n",
            "1/1 [==============================] - 0s 30ms/step\n",
            "I hope you travel well .\n",
            "슬픈 이야기네요.\n",
            "1/1 [==============================] - 0s 18ms/step\n",
            "It is sad to be sad .\n",
            "나 폰 중독인 거 같애\n",
            "1/1 [==============================] - 0s 20ms/step\n",
            "I think I m addicted to my phone ?\n",
            "나 자신에 집중하세요. 언제나 1순위에 자신을 두세요.\n",
            "1/1 [==============================] - 0s 20ms/step\n",
            "I put myself on the ranking of always .\n",
            "우산 같은 사람이네요.\n",
            "1/1 [==============================] - 0s 18ms/step\n",
            "It s a person like an umbrella .\n",
            "불금이네\n",
            "1/1 [==============================] - 0s 24ms/step\n",
            "It s a hairpin .\n",
            "같이 내는 게 좋죠.\n",
            "1/1 [==============================] - 0s 21ms/step\n",
            "It s better to get together .\n",
            "전여친이 나보다 나은 사람이라는 생각이 자꾸 들어\n",
            "1/1 [==============================] - 0s 28ms/step\n",
            "I think it s a better person for me to see the rest of the person .\n",
            "바람 쐬고 와서 다시 들으세요.\n",
            "1/1 [==============================] - 0s 21ms/step\n",
            "I ll take the fresh air again .\n",
            "근처 산에 가보세요.\n",
            "1/1 [==============================] - 0s 18ms/step\n",
            "I ve been to the mountain near the mountain .\n",
            "달리세요!\n",
            "1/1 [==============================] - 0s 19ms/step\n",
            "Let s run up !\n",
            "잘 할 수 있을지 걱정 돼\n",
            "1/1 [==============================] - 0s 20ms/step\n",
            "I m worried that you can do it well ?\n",
            "조심히 오세요.\n",
            "1/1 [==============================] - 0s 18ms/step\n",
            "Please come back .\n",
            "잘 이겨내고 있네요.\n",
            "1/1 [==============================] - 0s 25ms/step\n",
            "I m getting into the person .\n",
            "궁금할 수 있어요.\n",
            "1/1 [==============================] - 0s 33ms/step\n",
            "I can ask you .\n",
            "안 사귀는 것보다 좋지요.\n",
            "1/1 [==============================] - 0s 18ms/step\n",
            "I hope you can make it .\n",
            "작은것에 감사하는 마음을 가져보세요.\n",
            "1/1 [==============================] - 0s 30ms/step\n",
            "I will go to a small appreciation for it .\n"
          ]
        }
      ],
      "source": [
        "transsent=[]\n",
        "for sent in testsent:\n",
        "    print(sent)\n",
        "    ts = translate(sent)\n",
        "    transsent.append(ts)\n",
        "    print(ts)\n",
        "\n",
        "import pickle\n",
        "\n",
        "with open(folder_path+'translated.pkl','wb') as f:\n",
        "  pickle.dump(transsent,f)"
      ]
    },
    {
      "cell_type": "code",
      "execution_count": null,
      "metadata": {
        "id": "3gLHf-tRRSLN"
      },
      "outputs": [],
      "source": [
        "!pip install evaluate"
      ]
    },
    {
      "cell_type": "code",
      "execution_count": null,
      "metadata": {
        "id": "VynGAqgTRSrV",
        "colab": {
          "base_uri": "https://localhost:8080/",
          "height": 113,
          "referenced_widgets": [
            "ecfb890cb77e45ad9fa9f68136ec90c7",
            "a45c3e6394fd4eed958972bf4b405cfc",
            "ac8abb21aaad4bc9a25e62396b8424f8",
            "7fce7b6210004061bfb7f05407ef1eaa",
            "3ffe71b366644f3493062e3bb8c9b7bb",
            "f3edc443c045482cb2278dee6e32939f",
            "ab590e5082e046d08ec3f18d8a5823cc",
            "29652499b1d2458ca9f595e0511c6c9f",
            "759ba86e8c84432bb89504564d266d4b",
            "a7fee7f0bd844c5bb2ac5986b364f670",
            "37d730569c1f469c85c31d9312f54ff3",
            "97f4db935fc449ef8cf0102d3331a43f",
            "a1896c287f834475ac59ec8e3cad811f",
            "ccc33702d0aa495ba49e1c95b798b6ac",
            "dd30cecc0567411cbdd6341e73d8f060",
            "c973862abf354fa3a1e8dfac7484cb31",
            "e922def9ab324e2b9e3e5ce57ea4b558",
            "137f6957c5424cd1adf480b5a934b89f",
            "b4053550211a4a26bb271371740db75f",
            "a3f5ca74f5fd4c58868bc3f05fe5c70a",
            "8d1e0d4b5a624df1b428be23e7099e46",
            "8290fe5d1744437586590357237d69bb",
            "020f593ebaf542eab517ddc9ee7c0419",
            "d7f2b6e1ad74428b8556213dea1fc528",
            "1a32557f47244cefbb5b4d41e45da072",
            "9bcdd64a9aef4f1eaa0fef5e0fba7d88",
            "3996ddbc5dfa4040969c03662a1bdf28",
            "c67136a859194599af0425deab763506",
            "46e02021bd1d4433a0bb3dc9704c03bf",
            "4b4131a5de3042ae914974a0112ee02f",
            "2ec14f1db57742ffbe711cd6e845a3d1",
            "83ae6c8686e64e269980e88175c768c3",
            "7c1fd86ce8804eef9867b0bbed0e7dfa"
          ]
        },
        "outputId": "c546637a-cfa5-4102-98e0-07b31f91533f"
      },
      "outputs": [
        {
          "output_type": "display_data",
          "data": {
            "text/plain": [
              "Downloading builder script:   0%|          | 0.00/5.94k [00:00<?, ?B/s]"
            ],
            "application/vnd.jupyter.widget-view+json": {
              "version_major": 2,
              "version_minor": 0,
              "model_id": "ecfb890cb77e45ad9fa9f68136ec90c7"
            }
          },
          "metadata": {}
        },
        {
          "output_type": "display_data",
          "data": {
            "text/plain": [
              "Downloading extra modules:   0%|          | 0.00/1.55k [00:00<?, ?B/s]"
            ],
            "application/vnd.jupyter.widget-view+json": {
              "version_major": 2,
              "version_minor": 0,
              "model_id": "97f4db935fc449ef8cf0102d3331a43f"
            }
          },
          "metadata": {}
        },
        {
          "output_type": "display_data",
          "data": {
            "text/plain": [
              "Downloading extra modules:   0%|          | 0.00/3.34k [00:00<?, ?B/s]"
            ],
            "application/vnd.jupyter.widget-view+json": {
              "version_major": 2,
              "version_minor": 0,
              "model_id": "020f593ebaf542eab517ddc9ee7c0419"
            }
          },
          "metadata": {}
        }
      ],
      "source": [
        "import evaluate \n",
        "from tqdm import tqdm\n",
        "bleu = evaluate.load(\"bleu\")\n"
      ]
    },
    {
      "cell_type": "code",
      "source": [
        "\n",
        "train_idx = indices[:-n_of_val]\n",
        "test_idx = indices[-n_of_val:] "
      ],
      "metadata": {
        "id": "1mmQFPBFSSDT"
      },
      "execution_count": null,
      "outputs": []
    },
    {
      "cell_type": "code",
      "source": [
        "n_samples = 200\n",
        "ref_train, pred_train = [], []\n",
        "for idx in tqdm(np.random.choice(test_idx, n_samples)):\n",
        "    ref_train.append(xe[idx])\n",
        "    pred_train.append(translate(xk[idx]))\n"
      ],
      "metadata": {
        "id": "KYA45v3xvACc"
      },
      "execution_count": null,
      "outputs": []
    },
    {
      "cell_type": "code",
      "source": [
        "# 전처리- 더 짧은 padding 후\n",
        "print(ref_train) \n",
        "print(pred_train)"
      ],
      "metadata": {
        "colab": {
          "base_uri": "https://localhost:8080/"
        },
        "id": "uSN9F3Jkp1iM",
        "outputId": "a9d48442-f073-43d9-ef50-584f97c39eeb"
      },
      "execution_count": null,
      "outputs": [
        {
          "output_type": "stream",
          "name": "stdout",
          "text": [
            "['In the case of studying, I can show you my no.1 integrity and no.1 passion distinguished among others.', 'I want to supply the experiment equipment all over the world so that many people can use these.', 'Could you write \"b\" on this paper?', 'I am honored to meet you.', \"I am sorry that you didn't notice anything.\", 'She wanted to go to Australia but went to Guam because of her work.', 'I would like to confirm if this request was approved.', 'Would you please exchange this?', 'Can you come over and take a look at this?', 'I think your wife is meticulous.', 'This operating system is called a smartphone OS.', 'I am creating a human network in the Korean government.', 'If I use wifi, how can I pay?', \"I'm going to introduce dramas out of Korean culture.\", \"Please refer to the attached file as I'm sending you an mail on the sow document.\", \"I'm always sorry that I can't be with you.\", 'That tea tastes light, so it fits my taste perfectly.', 'For example, if you register the post after selecting the movie category, the post can be accessed in that category.', 'Everyone is interested in big data all of a sudden.', \"The people staying in room 153 are asleep, so I couldn't wake them up.\", 'I checked the invoice, it said the delivery has been confirmed.', \"I don't have a reason to talk, but I say hi to her because I want to talk for even one phrase.\", \"I'm fully booked today.\", 'According to your request, I completed member authority setting.', 'If you put a wooden spoon on top of the pot, water will not overflow.', 'Not using is desirable while pregnant.', \"I would never forget our last spring league's victory.\", 'All I wanted was just to imagine a future with you.', \"I'm becoming a liar again.\", 'Cats are best friends to me.', 'My friend who lives a time-limited life sometimes calls me.', 'Summer in my 22-year-old was the most lonely, miserable, never be forgotten.', \"I can't cook at all.\", \"The great Korean history is the God's history.\", 'Darling, have you been at home all day?', 'I go to the mountain 2~3 times a week.', 'In 2013, he said the treasure box was located near the Rocky Mountains, north of Santa Fe.', 'It is available until you leave.', 'As you are aware China has a long holiday in early May.', 'This agreement makes us happy.', 'So, we changed this name to OKA, which is easy to pronounce and sounds friendly.', 'I cannot meet you at the airport.', 'Basic theory on seeking for optic axis center due to geometric modeling.', 'He has been accused of attempted murder.', \"I request re-installation of A university's program.\", 'The reason is that I can express well.', \"I can't go to the academy tomorrow as well.\", 'Our AE team also wants to participate.', 'The moon was smiling on top of the tree.', 'I went to an academic high school by the faith.', 'Most of the men like glamorous women.', 'The staffs are very kind and it is located near a station.', 'The man went to the place where the bell rang.', 'The setup file for Google Play Services was not found.', 'They launched a campaign to encourage drivers to limit distractions.', \"Since I don't really watch television, I have no idea about celebrities.\", 'Bon voyage for tomorrow.', 'I passed the first round of overseas volunteer work.', \"There's a characteristic of human that appears because we are alive.\", 'I will show you the conference center.', 'I have been to many places.', 'I like romantic comedy among that genre in Korean movies.', 'We should implement a way to reduce logging.', 'Second, grow up to 175cm tall and become 63kg.', 'According to the weather forecast, the weather will get warm on weekends.', \"It's been 7 days since we started dating.\", \"Fortunately, personal sales today are nothing like Miller's harsh portrayal.\", 'It all depends on packaging in the semiconductor manufacturing process.', 'I am getting a perm at a beauty salon.', \"So if it's okay, I would like to know if I could make a recording before each rehearsal.\", \"Make it into a program since we can't code it everytime.\", 'It is fifteen dollars including a shampoo.', \"I'd like to work at your hotel.\", 'But some of the authentication certificates have short expiry dates.', 'Which city do you live in Morocco?', 'Please blow-dry my hair.', 'I am supposed to translate by listening to the recorded file, but I think I got pathetic.', 'Wolf family was washed away to the mainland by boat.', \"I'd like an appointment on Friday.\", \"I'm free except Wednesday and Saturday.\", 'He is very unpunctual.', \"The orchestral band visits a man's house.\", 'He started to like English which is necessary to be a diplomat.', 'Tell me the cause of the accident.', \"I'll probably say hello to you for the first time.\", 'What would you do if you were a president?', 'We adjusted regulations according to the coordinated consultations.', 'Do you want me to stay there?', 'I overcame my personal defects while participating in club activities.', 'We can leave from Busan in the morning and come back to Busan in the evening.', 'That place over there used to be a brewery.', 'That much, Kim Gu is famous.', 'I saw your photo and asked to introduce me.', 'I was thirsty for industrial floor material, and I think you will be able to give me a very good opportunity.', 'I can communicate with new people and it is more comfortable to use because there is less advertisement compared to other SNSs.', \"Let's have frozen food today.\", \"They're raising a fund for the Philippines on the street.\", 'We have not made any judgment based on the contents written in the remark of the file you provided.', 'Were they not able to move on the bus?', 'I remember that I went to the same elementary, middle and high school with him.', 'How is the depth of water here?', 'Would you please put some ice cubes and a piece of lime or lemon in the glass of water?', 'Can you make a mountain?', 'We can do this by ourselves.', 'Due to the negative anions emitted, the skin health of the toxin is reduced.', 'The effort that has been hidden in the graceful performance of the players, is the result of tears and sweat of the players.', 'I want to make many people happy.', \"I should study a lot but I'm worried.\", 'Put castella in a plate, and put coffee syrup, cream, and then again, put castella, coffee syrup, cream in order.', 'Go home and get some rest after the class.', \"I'm not comfortable that you seems too having a hard time owing to me.\", 'The word sincerity represents my personality.', 'The number of reviews has to be considered as well.', 'It would be OK not to cancel the payment.', \"Let's go shopping on 5th Avenue.\", 'I hope you get well soon.', 'She was scolded by mom in the morning.', \"They've gone to the U.K. and lived happily.\", 'That eLiminates the need to have a separate storage facility and keeps overhead down.', 'They are called celebrities in Korea.', 'I ordered one set of 6 quantities.', \"Because my daughters' school will be closed tomorrow.\", 'The police are trying to kill Matilda and Leon.', 'I hope we can make it work as soon as possible.', 'Thanks for visiting our store often.', 'The exits from venture capital for the early half of 2013 was more active than the previous year.', 'I have a plan to go travel to Prague with my family in May.', 'I enjoy baking rice cakes.', 'We need to solve the labor shortage of nurses by reducing the concentration phenomenon in big hospitals.', 'If \"the marble of everybody\" of Netmarble comes under the board game category, I\\'m can say that I\\'m playing that category.', 'Nevertheless, we get to have one more memory.', 'After that, my friend came in and I helped her to unpack the baggage.', 'This is the place where the president and senators attend.', 'There are many different types of brands.', 'There are also familiar bear-shaped soap molds that are familiar to the children, they will find it interesting.', 'I hope you make an order after understanding our conversation.', 'What is the simplest way to punish him?', 'As Barcelona is located in seaside and near the mountain, they have loads of cuisine made with seafood and vegetables.', 'Happy birthday and I hope you like the present.', 'How often do you think about me?', 'Princess and Pinki are with farther.', 'It has a camera and a music function.', 'What is the service life time of this machine?', 'I like the job which needs abroad business trip.', 'Van Gogh works are being remade and made into parodies more than any other great artworks.', 'Those violent criminals were given many second chances from the country and society.', 'After that, I met a lot of other people to learn professional English.', 'What did I not understand?', 'I want to go to Seoul and eat a lot of good food.', \"Why didn't our room get cleaned?\", \"The inside story is abusing positive corporation government and lawmakers' power.\", 'Billy, hang in there.', 'I went to church and visited to a sick person on Sunday.', 'What are the opening hours of Myungpum Samgyetang?', \"The group's response to external pressure is crucial.\", 'It is the end of the presentation on minority.', 'The fact that we select character and beauty through contests is also a point to think about.', 'And please send me a reply by this Wednesday..', 'You should have told me if you had known that things would go like this.', 'So an owl is special and amazing.', 'They say that she got divorced because of that man.', 'You can maintain purity and stability through this.', 'Thank you for your long wait and interests.', 'Up to what level of education of the child is the parent responsible for?', 'Why is the working process so slow?', 'I want to develop an application that makes the world convenient.', 'I am sorry but please understand because someone is renting my house.', \"Can't it be categorized as it is symbolical?\", 'Insufficient drying can cause adhesion and decrease in properties, so please dry it completely.', 'There are many hotels and are constantly being build in Songdo.', \"Then I'll go to see the products myself even without an interpreter.\", 'Did the color of the clothes fade out because you washed it?', \"Because you didn't give it to me first.\", 'As will be shown below, it can be a sensitive analyzing method as the analysis is focused on the fairness of distribution condition.', \"The Dowon gym doesn't sell souvenirs of the Incheon Asian Games.\", \"It's the document needed for approval in Korea.\", \"The company didn't feel good because of what you said.\", 'If I have another chance, I will apply again next semester.', 'I hate you.', 'As the performance of local products is greatly upgraded, both companies are making significantly aggressive sales activities.', 'Graduate school these days, I want to see my friends at Berkely bible study so much.', 'I left my USB drive at home.', 'Would you like another glass?', 'Each room has two seeds.', 'I added the quantity you have told me and proceeded with it.', \"Isn't that on the tourist information center guide book?\", 'I am also so pleased that you feel satisfied with my suggestion.', \"It's not available to connect the Internet with my laptop.\", 'I know the closest subway station from there.', 'Ask Kevin about the specified details.', 'I have done the double-eye-lid surgery in winter vacation.', 'Now you are making me a weird woman.', 'Please contact me if you confirm this message.', 'I want to protect my family and the people whom I love.', 'If there is anything you need, I can buy it.', 'Do you go to work again today?', \"In addition to today's invitation, I am most grateful for your invitation.\", 'Did you have a great dinner with your younger sister yesterday?', 'Enjoy this strawberry jam.', 'Also, I heard from him that ASK jacket has been discontinued and is not being produced anymore.']\n",
            "['I will show you a sense of self and a spirit of a person and a partner in study .', 'I want to use the experiment equipment to various people and many people .', 'Can you get B in this paper ?', 'It s a pleasure to meet you .', 'I m afraid you don t get any notice .', 'She wanted to go to Australia but I went to Guam because of the work .', 'I want to check if this request is approved .', 'Can you exchange this ?', 'Can you see this in this ?', 'Your wife seems to be meticulous .', 'This is the line OS OS .', 'I m in the Korean government with my financial government .', 'How do you pay for the fee if I use Wi Fi ?', 'I m going to introduce a drama among Korean culture .', 'I m sending you an email and send the email to the attached file so please check it .', 'I m always sorry that I couldn t be with you .', 'The car tastes that the taste of the taste is broken .', 'For example category of the movie category you can choose the post and check the post in the category of category .', 'I started to be interested in all of the data of data .', 'I can t sleep when I have a room .', 'As soon as I check the invoice it was confirmed after checking the invoice .', 'I don t need to say to say that I don t have to say goodbye but I want to say hello to her .', 'Today is the promise that we ve been kept .', 'We completed the members of members as you requested .', 'When you upload the spoon to the pot we are not walking on water .', 'It s a pity that you don t use it in pregnancy .', 'We can t forget our team s victory in the spring Olympics last year .', 'I just wanted to draw the future with you .', 'I am becoming a liar again .', 'Cats are my best friend .', 'I woke up when I live with the other life of my friends who I live in .', 'I can t forget my life because the summer is the most scariest time .', 'I can t cook at all .', 'The great Korean history of Korea is the history of God .', 'Honey did you have home all day today ?', 'I go hiking in a .m . times a week .', 'In the year he said he is located near the Rocky Mountains and the northern of the northern of the north .', 'You can use whenever you can come .', 'As you know China is a long vacation in the beginning of January .', 'This consent makes us happy .', 'So we also changed the name of the name of this Uber and changed as a name of the word that is good .', 'I can t meet you at the airport .', 'It is the basic theory of finding a variable about the center of geometry .', 'He was accused of a murder accident .', 'I request to install the program of A university .', 'The reason is that it can be expressed well .', 'I can t go to the academy tomorrow .', 'Our philosophy team is hopes of our descendants .', 'A month was smiling on the tree .', 'I went to a major high school and went to high school .', 'Most men like a glamorous woman .', 'The location of the subway station and the employees are very kind .', 'The guy visited the place I visited .', 'I can t find the file of Google play service .', 'The campaign are conducted to not be neglected to keep the drivers .', 'I don t know how to watch TV well because of the TV .', 'I hope you will be good at the trip tomorrow .', 'I passed the car after this overseas volunteer .', 'It has a characteristic of human looks just by being alive .', 'I will guide you as a person .', 'I tried to get many places until now .', 'I like romantic comedy movies of Korea in Korea .', 'We should run the way to reduce the API .', 'Secondly it s my second weight .', 'According to the weather forecast it takes a day on the weekend .', 'We ve been dating together .', 'Fortunately the individual sales is not the cold and the average sales of the memorial is .', 'The competitiveness of the semiconductor process depends on the rise .', 'I m wearing a perm at the beauty salon .', 'So if possible I want to ask if I can make the recorded record in advance when I can make a recording rehearsal .', 'It s not possible to include the coding every time .', 'It is dollars including the head of the head of the head of the head .', 'I want to work at your hotel .', 'But the expiration date is short .', 'What city will you live in ?', 'Please dry my hair .', 'It s been a translation and it s a better workout .', 'The wolf s wolf is closed by boat .', 'I d like to hold an appointment with Friday .', 'I m fine from Wednesday and Saturday .', 'He keeps hours off .', 'The orchestral band comes in front of a man s house .', 'He became to like English needs to be seen by the diplomat .', 'Please tell me the cause of the accident .', 'I guess I will be the first time to you .', 'What would you like to do if the president is ?', 'We revised the rules that we have discussed .', 'Do you want me to be there ?', 'I overcame my weakness club activities and overcome my weaknesses .', 'We are going to Busan at the morning and go to Busan at the evening .', 'I was looking at the place where I see there .', 'That s why Kim is famous .', 'I asked you to see your picture .', 'I had an thirst for industrial buildings and hope to give me a good opportunity .', 'It is easier to communicate with a new person and I feel comfortable to use more through SNS .', 'Let s do it with the day .', 'They are going to take a visit to the Philippines at the way .', 'We didn t judge any relevant decision on the file that you provided by the file provided by the file .', 'Has them not been in the bus on the bus ?', 'I remember to go to the middle school middle school and high school .', 'How is the pressure of water ?', 'Can you bring some slice of ice cream or light into the water ?', 'Do you know I can make you a mountain ?', 'We can do it by ourselves .', 'Cecile has destroyed by removing the chemical ray of bubbles and health .', 'The hidden values of the players in the elegant and was the injured and sweat the power of the players .', 'I want to make a lot of people happy .', 'I have to study a lot to study .', 'Add a glass of glass syrup to the container and put cream syrup to the glass of the coffee syrup .', 'Take a rest at home after class .', 'I feel comfortable because you think that I m too tired .', 'The word you can express me .', 'Of course the number of review is necessary .', 'It would be no need to cancel the payment .', 'We go to our own and go shopping .', 'I hope you get better .', 'She was scolded to her mother in the morning .', 'They live happily in England .', 'So we don t need to save the warehouse so it will save them .', 'They are also known as a celebrity in Korea .', 'I ordered a set product for three .', 'Because the school s daughter goes down tomorrow .', 'I decided to kill the police with the police .', 'Please let me know how to proceed with it as soon as possible .', 'Thank you for using a lot of shops .', 'The increase in the first half of the company members was an exciting and lively one for years .', 'I m planning to go to Prague with my family in May .', 'I m a hobby of rice cake .', 'We need to solve a problem of a large hospital where we can get a degree of talent in the public hospital .', 'I should be told you that all of these days are used to take on the game or a game .', 'But we got more memories .', 'After that I came to get to get my luggage and helped my luggage .', 'Here is a place where the th of president and the National Assembly is attending .', 'There are many kinds of brands there .', 'Because the people in a couple of familiar with their children will be interesting because there are also many people in the shape of a', 'I want you to order after your conversation with our conversation .', 'What is the most simple way to punished ?', 'Since Barcelona has a mountain at the beach and the water there are a lot of food made with seafood and vegetables .', 'Happy birthday and tell you that you are a gift .', 'How many times do you think about me ?', 'The princess and Edward are together with father .', 'This is the camera function including music including music .', 'How long is the usage period for this machine ?', 'I like a job for a business trip to foreign countries .', 'The work of alcohol is a large and small piece of tropical has a large amount of famous than many famous restaurants .', 'criminals are the criminal death who gave several opportunities to live in the country and society .', 'After that I met a lot of people I met many people in this professional English .', 'What are I not able to understand ?', 'I hope I can go to Seoul and get a lot of delicious food .', 'Why is our room not clean ?', 'It was the power of the power of the interaction between the Ministry of corporate companies and the wave .', 'Please keep the pressure in the case .', 'I went to church and I went to the hospital .', 'What is the free Wednesday plan for the luxury menu ?', 'The reaction of the organization in pressure is very important .', 'It s the end of the presentation about few days .', 'I think it is a reason for the reason to think about the movie and appearance of the competition .', 'And please reply to me this Wednesday .', 'I ll tell you in advance that I have this like this .', 'Therefore the owl is really amazing and amazing .', 'The reason that she got divorced is because she s not .', 'I can keep the innocence of innocence and recover .', 'Thank you for your interest in a long time .', 'What do you have to do to play the parents who should do their children ?', 'Why is it going to proceed this way ?', 'I want to develop the app that makes the world easier to grow .', 'I m sorry but I want who I m going to buy who I m going to buy it because I m going to buy', 'Can t you divide it separately so that it is classified ?', 'It is enough to cut out with the pressure of light but it is enough to reduce the muscle pressure and properties of the material', 'There are many hotels in Songdo and now now .', 'If so I will visit you directly without translating it .', 'Is the clothes washed out after washing the clothes ?', 'Because you are the first thing that you would like to give me .', 'As a result of the establishment of the quantitative distribution conditions in the bottom of the establishment it can be a sensitive method to b', 'In the gym the Dowon gym does not sell souvenirs in the Incheon Asian Games .', 'This is the document that needed approval in Korea receive approval .', 'The company was feeling while listening to your words .', 'If I have a chance I will apply again next semester .', 'I really really really really really .', 'Two companies are also expanding the number of the product and the applicable of the product .', 'If I have time to go to LA early in early August let s meet a Chinese trip to Oakland .', 'I left the manufacturer at home .', 'Then do you think I d like to give you a one more ?', 'Every room has two seed .', 'We proceeded out with the quantity you sent .', 'Isn t it in the tour information of the tourism information ?', 'I like you a lot of your opinion and I feel good !', 'I can t access the internet in my laptop .', 'I know the closest subway station .', 'Please ask Kevin about Kevin s detailed content .', 'I had a double eyelid surgery during winter vacation .', 'Now you really really really really really really like me .', 'Please contact me if you check this message .', 'I want to be different from my family and people who I love them .', 'I can buy it if you need anything .', 'Are you going to work today ?', 'I appreciate your invitation for today s new invitation .', 'Did you enjoy dinner with my sister yesterday ?', 'I hope this of the strawberry jam you enjoyed it .', 'And it was not discontinued jacket so I heard that it is not produced .']\n"
          ]
        }
      ]
    },
    {
      "cell_type": "code",
      "source": [
        "# 첫 실험\n",
        "print(ref_train) \n",
        "print(pred_train)"
      ],
      "metadata": {
        "colab": {
          "base_uri": "https://localhost:8080/"
        },
        "id": "GR7SzMYOKOEt",
        "outputId": "d787f61e-9dad-454c-881c-4779f907c3f0"
      },
      "execution_count": null,
      "outputs": [
        {
          "output_type": "stream",
          "name": "stdout",
          "text": [
            "['That size suits you best.', 'Therefore, the copy of B/L is evidence that you complete the shipment of the package.', 'Why should I understand your situation?', \"It's because I want to live a life in the sky.\", 'It will be great if you will be able to complete before February 12th.', 'They promised never to hunt again and she turned them back again.', 'I was not successful in marriage in the Philippines.', 'The writer Ronald Dahl was born in Wales, England.', 'Today is the first day of us falling in love with each other.', 'Are Alex and Daniel going to start their food trip?', 'The cells are being well maintained.', 'There is a Korean instructor for a foreigner.', \"So I'm trying to ask you a favor after thinking about this a lot.\", 'What is playing at this theater this weekend?', 'The gift box contains these 6 items.', 'If you do not study English, you would have to take a test again.', 'I want to show you this movie someday.', 'Are you sure you can do that for me?', 'Did you use to have a Korean boyfriend then?', 'I think you will do well if you do a fashion trade business in Korea.', \"I'll teach you Korean and beauty profession work.\", \"Let's say to the small grass on the road that it did a good job growing today.\", \"I'm tired of talking to a wall.\", 'I am very confused about which one is the mark you have drawn.', 'I ended up in the same class as her.', \"Let's have dinner at the pasta house after work.\", 'For the soup, they use one hand to stir the soup with a chopstick then sip it directly from the bowl.', \"I'm not in the office today due to the funeral that I have to attend.\", \"It's the day when my favorite program is on the air.\", 'I did test and it turned out positive.', \"I burst into tears because I got angry about kid's behavior.\", 'He recommended a marathon for me.', 'He got into an accident one after the other.', 'The software version is IOS12.0.1.', 'The scenes are much more provocative than the contents since many scenes can destroy the innocence of childhood due to the depth in the contents.', 'This has been a problem in Korean society for many years, and many Koreans are suffering from this dust.', 'Call me when you are free.', 'Various extensions are available at Chrome webstore.', 'B team also maintained the lead in a local league and accumulated total of 869 points so it got to advance to LA 2018 by being placed second.', 'I will probably sell it in Korea, China, Japan, Southeast Asia, and the U.S.', 'I want a room with a nice view.', 'I first met you in the school auditorium.', 'How about going to work by bicycle from tomorrow?', 'The most impressive thing at that time was good teamwork and atmosphere.', 'It is generally based on the four main components including Price, Product, Promotion, and Place.', 'In such a manner, after studying for one year, studying in France became a reality.', \"I can't eat raw food.\", 'Furthermore, I could catch subtle changes in emotions and actions of people during the busy daytime.', 'This takes three times longer to do than anything else.', 'But I can go to class on Friday.', 'We are going to proceed with this plan.', 'We must get the refusal card.', 'So ill be pleased that you be plain to me and be close to me.', 'The king of the world is the ancient serpent of Genesis, the giant dragon of Revelation.', \"It'll be available next week?\", 'After that, pour water, sugar, and vinegar in boiling water.', 'I enjoy walking and exercising.', 'State terrorism is carried out mainly at the newly independent states after World War II.', 'There is a person who likes the concept.', \"I'm going out with Jenny now.\", 'I heard that you went to France.', 'When I constantly press the space bar, the insertion color doesnt change to green.', 'So the lonely girl was sitting while watching other friends playing basketball.', 'Please brush your teeth with this when you get up in the morning.', 'Drying hair fast and easily with a flying hair drier.', 'I have no problem using the two products you suggested.', 'The lesson fee is 30,000 won, but now the new registration event is going on so every class is free with a 10000 won joining fee.', 'Secondly, food resources have become rich compared to the past.', 'We need to concern about its side-effects.', 'Because you might regret it when you are grown up.', 'I packed medicines in case of emergency.', 'Drop the right amount on each cheek and apply on the whole face including chin area.', 'I am nervous if my daughter is doing good.', \"I'm teaching ballet as a part-time job.\", 'I wear a uniform in class.', 'I ask for your full understanding of this.', \"Don't you send the radio by courier?\", 'It burns my heart.', 'By the way, if I have business with your company, could you reduce the quantity of minimum order for about 1 or 2 years, begin with?', 'If you stay at my home, there are a few things you have to obey.', 'Let me know the ID that a customer will use to access.', \"And this is what I've been thinking about in order to do my major project, which is based on the object and the product associated with the installation.\", 'What advice would you give to newly found Korean Craft Museum?', 'The money has not deposited into my PayPal account yet.', 'I do not want to date another man again right now.', 'I apologize for my late reply.', 'Japanese teenagers are unfamiliar with keyboard typing.', 'When did he say he will go on that trip?', 'And you are actually talented in such ways.', 'She had never received private tutoring until she was sixteen.', 'Ssok is a handmade leather brand studying the form, which seeks for the natural and graceful atmosphere.', 'We have not been able to check the materials as we have not received heat-insulation materials yet.', 'This photo is a little bit different from the original one.', 'But it is also hard to go army at the best time in life.', 'So I want to apply for Zurich School of Music this winter, is there room in your class this winter?', 'I would focus on the class more.', 'There were things not done smoothly with the customer.', 'I lost track of time because Universal Studio was so much fun.', 'I always wanted to become a coffee barista at Starbucks.', \"'Damnenda' means with all heart.\", 'Nowadays, we can see people who are using smartphones while walking on the street.', \"I am sorry I couldn't be of help to you.\", 'There will be no problem with customs clearance.', 'Please reply to me promptly.', 'If your company and ours are in the same position, I wonder the case of the panel falling happened.', 'May I see your photo ID?', 'If you meet a good girl there, are you going to see her?', 'I bought a device that chops vegetables.', 'Hold the rope tight as the hill is slippery.', 'Please let me know if you want to cancel the reservation.', 'He is a warm and humorous person.', 'I like to draw pictures and take pictures through nature.', 'Another similar alcoholic beverage is Dongdongju, which is made by fermenting rice, and it can be considered as a friend of Makgulli.', \"I don't know if I'm writing the right sentence now.\", 'Where are we on this map?', 'Go home and make banana pudding!', 'I am sorry. I will be there earlier the next time.', 'We appreciate that you make time for us.', 'I achieve something that I want to for sure.', 'Could I know if the product invoice had the marks-of-origin on it?', 'For achieving the path that you choose, there will often be really difficult times.', 'Technology will be improved very rapidly.', \"My phone doesn't work when I'm in my hotel room.\", 'I met up with my twin sister in a long while and had a great time doing so.', 'No problem in excessing the internet on the iPhone.', 'Instead of salty food which burdens stomach, low salt food and fruit are better during period, so avoid food which are sweet or salty and call me when you are done with work.', 'The Twin Towers are landmarks in Seoul and are quite tall.', 'I spilled the sauce on the table.', 'We dressed in a white shirt, track pants and our college jackets.', 'This sentence encourages me for some reason.', 'We are really sorry, but please understand.', 'Is there anything you have done wrong to me?', 'I think you study Korean really hard.', 'There was a severe traffic jam.', 'The characteristic of rural community disappeared, and bond with others is weakened.', 'Through this kind of interior, I want to live in a house where I can feel warm, soft, and comfortable.', 'Home and community hygiene is a key part of the public health strategy to reduce infectious disease.', 'Also at the bar is Carlos with a girl called Barney, spending time together.', 'We think from the customer’s point of view.', \"This is Korea's public interest notification system and US internal stock market.\", 'The main attraction of this place is to enjoy the spectacular landscape of the beach and blue color of the sea all together while standing on the lighthouse locating at the end of the Seopjikoji.', 'He seemed anxious and nervous.', 'I am not making much effort at this moment, but I am going to try my best from now on.', 'I will be happy if you do that.', 'My friend asked me to have dinner together.', 'Put Wonder Mask into the Goraemom.', 'We must make them happy to make the university happy and righteous.', 'They are the eye, nose, ear, and mouth.', 'Please let me know if it lacks something.', 'Benzocaine is a local anesthetic used in the dental clinic and the study result showed that it increases the erection time boy 2-3 times than usual.', 'In our present time, the world moves quickly and people also work and study very hard, keeping themselves busy to match the speed of the world.', \"I'll help you to find a nice way.\", 'When can you send me the purchased source code?', 'Both companies shall faithfully implement the agreement based on the principle of trust and good faith.', 'Should we not apply the handicap before the game starts?', 'To be honest they are not the most detailed instructions.', 'Can I bring anything in the refrigerator to my liking?', 'There is no problem even if the brochures arrive at the Incheon International Airport on the 6th, and no additional fees will be charged for the delay.', 'What I have is the time for me these days.', 'She kept trying to interact with others.', 'I just want to find it out.', 'Because it changed Chinese character to Korean.', 'The time with you was so precious.', \"Cut kimchi, Korea's representative food, into small pieces and mix it with red pepper paste, sugar and sesame oil.\", \"I'm about to turn to the farm because of the 'Organic'.\", \"You don't have to try and sing like me.\", \"It's my pleasure.\", 'The restaurant consists of a chef who can guarantee a taste in the kitchen, a serving circle to carry food, and a counter cashier or boss.', 'We were supposed to make the bug screen that is visible from inside but invisible from outside.', 'This book seems to tell us the preciousness of family.', \"I'll go to the bank tomorrow and ask about it.\", 'I apologise for the late response.', 'After that, I decided to become a female police officer.', 'Well, because they are popular instruments, you can get tired of seeing and listening.', 'I am Minji Kim who is majoring in fashion design for three years at a design high school.', \"I'd like a single room.\", \"Now that smartphones can be found anywhere, you can manage your child's phone and check your child's location.\", 'How about visiting the hospital next Sunday?', 'I will upload my part first.', \"I'm going crazy because I'm having a hard time working.\", 'Why did you come to this company?', 'To be a more skilled applicant, I studied English, Japanese and Chinese, which are needed for work.', 'I read the stories about Robin Hood.', 'The reason why I like him is that he never despairs.', 'It was recently screened movie.', \"I am sad that I'm not going to get a good grade.\", 'This is unlike you, what is the matter with you?', 'Why do you think I came here?', 'All the baggage on my bed is gone.', 'I will invest as much as you do.', 'Give it to me in plain English.', 'He helps people with obesity to change oneself.', 'As it is almost time to leave for a long-distance trip, I have a lot of pain in my heart.', 'Its skin color is normal, with no makeup.', 'The car just behind hit our car but nobody got hurt.', 'And as I told you previously, this camera works within the range mentioned below.', 'I wish I can eat delicious foods by earning a lot of money.', 'I have noticed that possessing leadership skill is mandatory to grow as a proactive human resource.', 'It also helps to take food rich in Vitamin B which is necessary to metabolize sugar.', 'Smoking destorys our appearance.']\n",
            "['The size is totally troublesome .', 'Therefore you are not sure that you re completed the shipment B by the shipment .', 'Why do you understand my situation ?', 'The reason is that I want to live in the sky in the sky .', 'I will appreciate it if you can complete the th before June th .', 'After that they decided to save their promises not to hunt .', 'I failed marriage in the Philippines .', 'The author of the author was born in England s Korean language .', 'It is the th day we loved .', 'Alex do you think of the Korean food and Daniel to start traveling ?', 'The cell is being maintained well .', 'There is a Korean teacher for foreigners .', 'So I would like to ask for a favor of a lot .', 'What are the concert in this weekend ?', 'The box box is composed of the next one .', 'If you don t study English I will take a test .', 'I want to show you this movie someday .', 'I m really so so ?', 'Then did you have a Korean boyfriend ?', 'I think you will be good at fashion business business in Korea .', 'I will teach you about the st of Korean and beauty .', 'Please let me know that I did a hard rest at the streets and let you have a hard job .', 'I m tired of being able to talk to the fact .', 'I m confused about what you marked on .', 'I finally became a class like her .', 'Let s have dinner at the pasta house after work .', 'In the case of the water like chopsticks the soup and drink the soup with a bowl and drink it .', 'I am absent from my office today because I have a funeral .', 'It is the day I like is a program .', 'I had a test yesterday but I got into a charity .', 'I failed to cry after my child s behavior .', 'He recommended the marathon to me .', 'The incident happened to him .', 'The software version is IOS .', 'It is quite a bit of the scenes that the children look at the scenes and the scenes are attracted by the content of the content rather than the content .', 'There are many problems in Korea and many Koreans being in Korea and many Koreans .', 'Please call me when you are free .', 'Various activities have various branches and use the web web store .', 'In the domestic .S . Team we can take points to the lower league and the total of the total of the total of the total of the total .', 'I usually go to Korea Japan and Japan in Japan and America .', 'I d like a room with a good view .', 'I met you for the first time of the school Hall .', 'How about going to work from tomorrow to train from tomorrow ?', 'The most impressive thing was the atmosphere and atmosphere of the time .', 'I usually plan to set the range of strategy strategy strategy and promotion strategy strategy and various strategies of strategy are .', 'It is true that studying in Paris and study in Paris also .', 'I can t eat the food .', 'Also I found that many facial expressions were changed for a day and I found out .', 'It takes more than times more than other things .', 'But I can go on Friday class .', 'We are planning to proceed with this schedule .', 'We need to get a certificate .', 'I would appreciate it if you guys look close to me and I would appreciate it for me to me .', 'The world s old is a huge one of the old and he is a huge one of the old and it s his son s son s .', 'Is it possible to use this week ?', 'And put some sugar sugar in boiling water sugar .', 'I enjoy playing and enjoy exercising .', 'The nation who tries to define the teenagers support terrorism and the nation led the new year of the new year World War .', 'There is a person who likes the concept .', 'I m going to Jenny these days .', 'I heard you came to France .', 'If you keep the space with the outer part in the outer side it doesn t change it .', 'So that she is watching a lonely basketball with other friends .', 'Please brush your teeth when you wake up in the morning .', 'I cut my hair and quickly by putting it quickly and fast .', 'There is no problem for the two products you offered me .', 'The training fee is valid for the new participation event and the next class will be free to take the rest of the money .', 'Second it is also expensive than the past .', 'We have to worry about it in the side of it .', 'Because it might be an regret .', 'We are giving up medicine for dangerous situations .', 'Apply the amount of contents and spread the amount of the amount of the contents and spread it evenly on the bottom .', 'I m so nervous if my daughter is good .', 'I am teaching a ballet part time job .', 'I m wearing a uniform in class .', 'Please understand that you are enough .', 'Aren t you going to the radio by parcel ?', 'I have a crush on my side .', 'However if I can adjust the price of the business with your company is the lower one more than the business .', 'If you stay at my house I m doing something to sleep .', 'Please let me know the ID when we use the customer .', 'I have been thinking about the related project based on the field of installing my major project and the information .', 'Would you give me advice to your car in Korea where you have a new company ?', 'I didn t deposit my PayPal account yet .', 'I don t want to go to a date with other men .', 'I apologize for the late response .', 'The teenagers are not a pro key .', 'When did he go to travel ?', 'In fact you are also a talent in that way .', 'She has never been trained until she was years old .', 'It is a real traditional brand that is natural and natural and natural features are made .', 'We are not able to check because of the thermal materials because we didn t go out with the thermal materials .', 'This picture is a little different from the photo .', 'However there are hard things to go to the army when a long time is blooming .', 'So I want to apply for this winter and have a seat in this winter exam and have a seat in your class ?', 'I will focus more when I concentrate more .', 'There are some things that we didn t have a quick connection with customers .', 'I didn t know that there was a very fun coming to the Universal sea .', 'I wanted to be a barista of coffee from Starbucks since I was old .', 'The thing is the meaning of the heart .', 'Nowadays we can see people who are walking in the streets .', 'I m sorry that I couldn t help you .', 'There is no problem to pass the customs .', 'Please reply quickly .', 'I wonder if you were looking at the inner panel and the accident .', 'Could you give me your ID with the picture ?', 'Will we meet if there is a good woman in the place ?', 'I bought a vegetable one of the vegetable sauce .', 'The hill is noisy and it s a day to walk on the hill .', 'If you want to cancel the reservation please contact me in advance .', 'He is warm and warm hearted .', 'I like to draw pictures through the nature and I like to draw pictures .', 'There is a saying that you can speak with rice s milk which is made with rice milk and friends .', 'I don t know whether I m using the right sentence .', 'Where are we going here now ?', 'Please make bananas home and make bananas .', 'Sorry I will be all the time you were late .', 'Thank you for your time today .', 'I m really excited to achieve it .', 'Could you tell me the origin of origin to the invoice you sent ?', 'It is probably a hard time to achieve your career choosing the path .', 'The technology will be developed quickly .', 'My phone is not working when I am in the hotel room .', 'I met my sister and had a great sister with my sister .', 'There is no problem when I can use the internet .', 'It is good for me to take care of it if it is good for it to be delicious or so on it will be not good for you to avoid it for a long time in case of the day .', 'The twin building is a year of Seoul and height height and height is very high .', 'It s on the table on the table .', 'We wore white tea because you are in a single one of the drawing of white tea .', 'My power is the sentence I m .', 'I don t know but please understand the word .', 'What are you affected by me ?', 'I really want you to learn Korean hard .', 'I had a lot of traffic jam .', 'The characteristics of the rural community and the cultural area also causes speed .', 'I wish you to live in the interior of the interior of the interior .', 'The core of the family hygiene system is the key field of nuclear disease prevention and social disease .', 'The girl who was in the bar and the girl who was in the bar .', 'I think it is a customer s position .', 'This is the internal market for the American public and the United States s country s country .', 'It is the point of enjoying sunset sunset and sunset sunset in the end of the sea .', 'He was looking at the fact that he looks comfortable .', 'Honestly I m not trying hard now but I will try hard to do it now .', 'If you do that so I will be happy .', 'My friend asked me to have dinner together .', 'We put a cute mask in the bottle of the Wonder .', 'I can t believe that they can be able to be successful by the school when they are only at the school .', 'It s a baby ears .', 'Please tell me if you have a problem .', 'The nephews who used a lot of the main nephews were used for the lower time and the test of the water in the market which is less than usual and more than usual .', 'Today the world is getting back and more than he works and studying it hard for him .', 'I will help you find a good way .', 'When can you send me the sauce code ?', 'The total company will be defined as the following respect of God s principles and sincerity .', 'In the start what can I apply for the match for the start ?', 'To be honest it is not a detailed explanation .', 'Can I get the expression of the person in the refrigerator ?', 'There is no problem with the shipping and the shipping fee is coming to the delayed delivery fee .', 'I have a lot of things these days .', 'She keeps trying to interact with people and interact .', 'I m just trying to do it .', 'Because it was a Chinese that made Chinese characters in Hangeul .', 'The time that you were with me was really precious .', 'This dish is the top dish of the Korean food and sugar sliced sliced sliced rice and sugar sesame oil with the fermented sauce .', 'I m going to go to Berkeley dong .', 'You don t need to listen to a good music .', 'I appreciate you more .', 'This restaurant is composed of a chef and the key in the kitchen and the CEO is composed of the person who can manage the price and the CEO is composed .', 'It looks far outside but we tried to produce the wire that can t be able to produce it .', 'I think this book is about the importance of family .', 'I will go to the bank tomorrow and I will be able to go it .', 'I m sorry that I answered late .', 'After that I decided to become a woman police officers .', 'It might be a fantastic instrument because of them and it might be a fantastic .', 'I m Kim majoring in fashion design in high school high school and I am majoring in fashion design .', 'I want to do a single room with a single single room .', 'You can easily find your phone number easily and it could be easily connected easily .', 'How about going to the hospital next Sunday ?', 'First I will be posted on the second part .', 'I think I m tired of working hard .', 'Why did you come to this company ?', 'I learned English Japanese and Chinese Japanese and I learned English hard .', 'I read the font .', 'The reason why I like him is not to despair .', 'It is recently a movie that was recently recently .', 'I feel sorry that my grade is not good .', 'Why do you like to be angry for you ?', 'Why do you think I came here to come here ?', 'All my luggage is missing from my bed .', 'I will do it as much as I invest .', 'Please let me know a little English .', 'They also also integrated out of obesity .', 'I m getting tired because I m going to leave this place because I m going to go to a long place .', 'Skin color is being considered as well as it is being on the skin .', 'The only thing that the car was looking at the car we are in the way of the people .', 'And the camera is to be reflected below before I mentioned before .', 'I wish you eat a lot of money and eat good things .', 'It is also good for helping the leadership and the ability to grow up to grow .', 'Also it helps to use a vitamin B which is necessary for using sugar B .', 'The smoke is to be looking for the human .']\n"
          ]
        }
      ]
    },
    {
      "cell_type": "code",
      "source": [
        "# 전처리- 긴 단어 뺀 (더 짧은 padding) 후 #### 최상의 결과\n",
        "\n",
        "bleu.compute(predictions=pred_train, references=ref_train)"
      ],
      "metadata": {
        "colab": {
          "base_uri": "https://localhost:8080/"
        },
        "id": "kocVmQrdruqu",
        "outputId": "610b639f-316b-4493-ec68-9857d57560d9"
      },
      "execution_count": null,
      "outputs": [
        {
          "output_type": "execute_result",
          "data": {
            "text/plain": [
              "{'bleu': 0.1519392798291615,\n",
              " 'precisions': [0.47470489038785835,\n",
              "  0.2085635359116022,\n",
              "  0.10598377281947262,\n",
              "  0.050790067720090294],\n",
              " 'brevity_penalty': 1.0,\n",
              " 'length_ratio': 1.0358078602620087,\n",
              " 'translation_length': 2372,\n",
              " 'reference_length': 2290}"
            ]
          },
          "metadata": {},
          "execution_count": 40
        }
      ]
    },
    {
      "cell_type": "code",
      "source": [
        "# 첫 실험\n",
        "\n",
        "bleu.compute(predictions=pred_train, references=ref_train)"
      ],
      "metadata": {
        "colab": {
          "base_uri": "https://localhost:8080/"
        },
        "id": "PDvba4ukfowD",
        "outputId": "c8f98399-3191-4a8a-92a4-bbff0d31b028"
      },
      "execution_count": null,
      "outputs": [
        {
          "output_type": "execute_result",
          "data": {
            "text/plain": [
              "{'bleu': 0.13297599860818193,\n",
              " 'precisions': [0.4470338983050847,\n",
              "  0.17777777777777778,\n",
              "  0.08877551020408163,\n",
              "  0.04431818181818182],\n",
              " 'brevity_penalty': 1.0,\n",
              " 'length_ratio': 1.0038281582305402,\n",
              " 'translation_length': 2360,\n",
              " 'reference_length': 2351}"
            ]
          },
          "metadata": {},
          "execution_count": 45
        }
      ]
    },
    {
      "cell_type": "code",
      "source": [
        "#첫 실험 학습 그래프\n",
        "import matplotlib.pyplot as plt\n",
        "\n",
        "def plot_history(history):\n",
        "  hist = pd.DataFrame(history.history)\n",
        "  hist['epoch'] = history.epoch\n",
        "\n",
        "  plt.figure(figsize=(12, 6))\n",
        "\n",
        "  plt.subplot(1,2,1)\n",
        "  plt.xlabel('Epoch')\n",
        "  plt.ylabel('Loss')\n",
        "  plt.plot(hist['epoch'], hist['loss'],\n",
        "           label='Train Loss')\n",
        "  plt.plot(hist['epoch'], hist['val_loss'],\n",
        "           label = 'Val Loss')\n",
        "  plt.ylim([0,5])\n",
        "  plt.legend()\n",
        "\n",
        "  plt.subplot(1,2,2)\n",
        "  plt.xlabel('Epoch')\n",
        "  plt.ylabel('Accuracy')\n",
        "  plt.plot(hist['epoch'], hist['acc'],\n",
        "           label='Train Acc')\n",
        "  plt.plot(hist['epoch'], hist['val_acc'],\n",
        "           label = 'Val Acc')\n",
        "  plt.ylim([0,1])\n",
        "  plt.legend()\n",
        "  plt.show()\n",
        "\n",
        "plot_history(history)"
      ],
      "metadata": {
        "id": "DqrKdjhJrezb",
        "colab": {
          "base_uri": "https://localhost:8080/",
          "height": 392
        },
        "outputId": "f2d5c015-8f94-4d49-f352-787f2aeaac20"
      },
      "execution_count": null,
      "outputs": [
        {
          "output_type": "display_data",
          "data": {
            "text/plain": [
              "<Figure size 864x432 with 2 Axes>"
            ],
            "image/png": "[encoded data removed]"
          },
          "metadata": {
            "needs_background": "light"
          }
        }
      ]
    },
    {
      "cell_type": "markdown",
      "source": [
        "## 다른 모델\n",
        "\n",
        "2 bidirectional+lstm -> 2 lstm  + attention\n",
        "\n",
        "ref:\n",
        "\n",
        "\n",
        " Effective approaches to attention-based neural machine translation -2015 Luong\n",
        " \n",
        "-4.5M sentence pairs dataset #limit vocab- top 50k, rest <unk> #filter sentences length under 50words #shuffle\n",
        "\n",
        "-4layers- each 1000cells #1000dim_emb #lsdm dropout 0.2\n",
        "\n",
        "-local attention- windowsize 10 #useful for long seq eg paragraphs/documents\n",
        "\n",
        "-parameters uniformly initialized [-0.1,0.1]\n",
        "\n",
        "-SGD (adam introduced same year 2015)  #minibatchsize128 #normalized gradient learning_rate schedule- start_lr=1, 12epochs, start halving after 8 epochs\n",
        "\n",
        "\n",
        "-base+reverse+dropout+local-p attention (general) + feed input + unk replace "
      ],
      "metadata": {
        "id": "hMq0F5SjPcDa"
      }
    },
    {
      "cell_type": "code",
      "source": [
        "### Train"
      ],
      "metadata": {
        "id": "8qzrO0yZPvWD"
      },
      "execution_count": null,
      "outputs": []
    },
    {
      "cell_type": "code",
      "source": [
        "emb_dim= 500\n",
        "hid_dim=128\n",
        "bi_hid_dim=int(hid_dim/2)"
      ],
      "metadata": {
        "id": "lh_NvHTLQsCI"
      },
      "execution_count": null,
      "outputs": []
    },
    {
      "cell_type": "code",
      "source": [
        "#two stacked lstm #two states\n",
        "enc_emb_layer = Embedding(SRC_VOCAB_SIZE, emb_dim)\n",
        "#encoder_lstm = LSTM(hid_dim, return_state=True)\n",
        "encoder_lstm1 = Bidirectional(LSTM(bi_hid_dim,dropout=0.5, return_sequences=True,return_state=True))\n",
        "encoder_lstm2 = Bidirectional(LSTM(bi_hid_dim,dropout=0.5, return_sequences=True,return_state=True))\n",
        "\n",
        "\n",
        "encoder_inputs= Input(shape=(None,))\n",
        "encoder_emb= enc_emb_layer(encoder_inputs)\n",
        "encoder_outputs1, forward_h1, forward_c1, backward_h1, backward_c1 = encoder_lstm1(encoder_emb)\n",
        "state_h1 = Concatenate()([forward_h1, backward_h1])\n",
        "state_c1 = Concatenate()([forward_c1, backward_c1])\n",
        "encoder_states1 = [state_h1,state_c1]\n",
        "encoder_outputs, forward_h, forward_c, backward_h, backward_c  = encoder_lstm2(encoder_outputs1)\n",
        "state_h = Concatenate()([forward_h, backward_h])\n",
        "state_c = Concatenate()([forward_c, backward_c])\n",
        "encoder_states = [state_h,state_c]"
      ],
      "metadata": {
        "id": "4DjghyqrPh0S"
      },
      "execution_count": null,
      "outputs": []
    },
    {
      "cell_type": "code",
      "source": [
        "dec_emb_layer = Embedding(TAR_VOCAB_SIZE, hid_dim)\n",
        "decoder_lstm1 = LSTM(hid_dim, dropout=0.5,return_sequences=True,return_state=True)\n",
        "decoder_lstm2 = LSTM(hid_dim, dropout=0.5,return_sequences=True, return_state=True)\n",
        "decoder_dense1 = Dense(hid_dim,activation='tanh')\n",
        "decoder_dense2 = Dense(TAR_VOCAB_SIZE, activation='softmax')\n",
        "\n",
        "decoder_inputs = Input(shape=(None,))\n",
        "dec_emb = dec_emb_layer(decoder_inputs)\n",
        "decoder_outputs1, _, _= decoder_lstm1(dec_emb, initial_state = encoder_states1)\n",
        "decoder_outputs, _, _ = decoder_lstm2(decoder_outputs1, initial_state = encoder_states)\n",
        "attention = layers.Attention()([decoder_outputs,encoder_outputs])\n",
        "concat = Concatenate()([decoder_outputs,attention])\n",
        "dense1 = decoder_dense1(concat)\n",
        "decoder_outputs = decoder_dense2(dense1)"
      ],
      "metadata": {
        "id": "JkqLmGCaPs_B"
      },
      "execution_count": null,
      "outputs": []
    },
    {
      "cell_type": "markdown",
      "source": [
        "![image.png](data:image/png;base64,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)"
      ],
      "metadata": {
        "id": "v2TzQovOQiS4"
      }
    },
    {
      "cell_type": "code",
      "source": [
        "#### Inference"
      ],
      "metadata": {
        "id": "ibQiddLyQYKY"
      },
      "execution_count": null,
      "outputs": []
    },
    {
      "cell_type": "code",
      "source": [
        "encoder_model = Model(encoder_inputs, [encoder_states1,encoder_states,encoder_outputs])"
      ],
      "metadata": {
        "id": "Rn6a7BSHQzDg"
      },
      "execution_count": null,
      "outputs": []
    },
    {
      "cell_type": "code",
      "source": [
        "decoder_input_h1 = Input(shape=(hid_dim,))\n",
        "decoder_input_c1 = Input(shape=(hid_dim,))\n",
        "decoder_input_h = Input(shape=(hid_dim,))\n",
        "decoder_input_c = Input(shape=(hid_dim,))\n",
        "decoder_encoder_outputs =Input(shape=(MAX_ENC_LEN,hid_dim,))\n",
        "\n",
        "decoder_states_inputs1 = [decoder_input_h1,decoder_input_c1]\n",
        "decoder_states_inputs = [decoder_input_h,decoder_input_c]\n",
        "\n",
        "x= dec_emb_layer(decoder_inputs)\n",
        "\n",
        "x, _,_= decoder_lstm1(x, initial_state=decoder_states_inputs1)\n",
        "x, state_h2, state_c2 = decoder_lstm2(x, initial_state=decoder_states_inputs)\n",
        "\n",
        "decoder_states2 = [state_h2, state_c2]\n",
        "\n",
        "attention = layers.Attention()([x,decoder_encoder_outputs])\n",
        "concat = layers.Concatenate()([x,attention])\n",
        "dense1 = decoder_dense1(concat)\n",
        "x = decoder_dense2(dense1)\n",
        "\n",
        "\n",
        "decoder_model = Model([decoder_inputs]+decoder_states_inputs1+decoder_states_inputs+[decoder_encoder_outputs], [x]+decoder_states2)"
      ],
      "metadata": {
        "id": "YwE_JrJkQ0WP"
      },
      "execution_count": null,
      "outputs": []
    },
    {
      "cell_type": "code",
      "source": [
        "def translate(sentence):\n",
        "    sentence = preprocesskr(sentence)\n",
        "    enc_input = tokenizer_enc.texts_to_sequences([sentence])\n",
        "    enc_input = pad_sequences(enc_input, maxlen=MAX_ENC_LEN, padding='post')\n",
        "    states_value1,states_value, output_value = encoder_model.predict(enc_input)\n",
        "    target_seq = np.zeros((1,1))\n",
        "    target_seq[0,0] = tar2idx['<sos>']\n",
        "\n",
        "    stop_condition = False\n",
        "    decoded_sentence = ''\n",
        "\n",
        "    for t in range(MAX_DEC_LEN):\n",
        "        output_tokens, h, c = decoder_model.predict([target_seq]+ states_value1+ states_value+[output_value], verbose=0)\n",
        "        result_token_index = np.argmax(output_tokens[0,-1,:])\n",
        "        result_word = idx2tar[result_token_index]\n",
        "        decoded_sentence += ' '+result_word\n",
        "        target_seq = np.zeros((1,1))\n",
        "        target_seq[0,0] = result_token_index\n",
        "        states_value = [h,c]\n",
        "        if result_word == '<eos>':\n",
        "            break\n",
        "\n",
        "    return decoded_sentence.strip(' <eos>')"
      ],
      "metadata": {
        "id": "V0RFpc3wQ2aJ"
      },
      "execution_count": null,
      "outputs": []
    },
    {
      "cell_type": "code",
      "source": [
        "#### Result"
      ],
      "metadata": {
        "id": "spR_oFzARIhh"
      },
      "execution_count": null,
      "outputs": []
    },
    {
      "cell_type": "markdown",
      "source": [
        "![image.png](data:image/png;base64,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)"
      ],
      "metadata": {
        "id": "6UMbw4HzRHeR"
      }
    }
  ],
  "metadata": {
    "accelerator": "GPU",
    "colab": {
      "provenance": []
    },
    "kernelspec": {
      "display_name": "Python 3 (ipykernel)",
      "language": "python",
      "name": "python3"
    },
    "language_info": {
      "codemirror_mode": {
        "name": "ipython",
        "version": 3
      },
      "file_extension": ".py",
      "mimetype": "text/x-python",
      "name": "python",
      "nbconvert_exporter": "python",
      "pygments_lexer": "ipython3",
      "version": "3.8.14"
    },
    "toc": {
      "base_numbering": 1,
      "nav_menu": {},
      "number_sections": true,
      "sideBar": true,
      "skip_h1_title": false,
      "title_cell": "Table of Contents",
      "title_sidebar": "Contents",
      "toc_cell": false,
      "toc_position": {},
      "toc_section_display": true,
      "toc_window_display": false
    },
    "widgets": {
      "application/vnd.jupyter.widget-state+json": {
        "ecfb890cb77e45ad9fa9f68136ec90c7": {
          "model_module": "@jupyter-widgets/controls",
          "model_name": "HBoxModel",
          "model_module_version": "1.5.0",
          "state": {
            "_dom_classes": [],
            "_model_module": "@jupyter-widgets/controls",
            "_model_module_version": "1.5.0",
            "_model_name": "HBoxModel",
            "_view_count": null,
            "_view_module": "@jupyter-widgets/controls",
            "_view_module_version": "1.5.0",
            "_view_name": "HBoxView",
            "box_style": "",
            "children": [
              "IPY_MODEL_a45c3e6394fd4eed958972bf4b405cfc",
              "IPY_MODEL_ac8abb21aaad4bc9a25e62396b8424f8",
              "IPY_MODEL_7fce7b6210004061bfb7f05407ef1eaa"
            ],
            "layout": "IPY_MODEL_3ffe71b366644f3493062e3bb8c9b7bb"
          }
        },
        "a45c3e6394fd4eed958972bf4b405cfc": {
          "model_module": "@jupyter-widgets/controls",
          "model_name": "HTMLModel",
          "model_module_version": "1.5.0",
          "state": {
            "_dom_classes": [],
            "_model_module": "@jupyter-widgets/controls",
            "_model_module_version": "1.5.0",
            "_model_name": "HTMLModel",
            "_view_count": null,
            "_view_module": "@jupyter-widgets/controls",
            "_view_module_version": "1.5.0",
            "_view_name": "HTMLView",
            "description": "",
            "description_tooltip": null,
            "layout": "IPY_MODEL_f3edc443c045482cb2278dee6e32939f",
            "placeholder": "​",
            "style": "IPY_MODEL_ab590e5082e046d08ec3f18d8a5823cc",
            "value": "Downloading builder script: 100%"
          }
        },
        "ac8abb21aaad4bc9a25e62396b8424f8": {
          "model_module": "@jupyter-widgets/controls",
          "model_name": "FloatProgressModel",
          "model_module_version": "1.5.0",
          "state": {
            "_dom_classes": [],
            "_model_module": "@jupyter-widgets/controls",
            "_model_module_version": "1.5.0",
            "_model_name": "FloatProgressModel",
            "_view_count": null,
            "_view_module": "@jupyter-widgets/controls",
            "_view_module_version": "1.5.0",
            "_view_name": "ProgressView",
            "bar_style": "success",
            "description": "",
            "description_tooltip": null,
            "layout": "IPY_MODEL_29652499b1d2458ca9f595e0511c6c9f",
            "max": 5937,
            "min": 0,
            "orientation": "horizontal",
            "style": "IPY_MODEL_759ba86e8c84432bb89504564d266d4b",
            "value": 5937
          }
        },
        "7fce7b6210004061bfb7f05407ef1eaa": {
          "model_module": "@jupyter-widgets/controls",
          "model_name": "HTMLModel",
          "model_module_version": "1.5.0",
          "state": {
            "_dom_classes": [],
            "_model_module": "@jupyter-widgets/controls",
            "_model_module_version": "1.5.0",
            "_model_name": "HTMLModel",
            "_view_count": null,
            "_view_module": "@jupyter-widgets/controls",
            "_view_module_version": "1.5.0",
            "_view_name": "HTMLView",
            "description": "",
            "description_tooltip": null,
            "layout": "IPY_MODEL_a7fee7f0bd844c5bb2ac5986b364f670",
            "placeholder": "​",
            "style": "IPY_MODEL_37d730569c1f469c85c31d9312f54ff3",
            "value": " 5.94k/5.94k [00:00&lt;00:00, 189kB/s]"
          }
        },
        "3ffe71b366644f3493062e3bb8c9b7bb": {
          "model_module": "@jupyter-widgets/base",
          "model_name": "LayoutModel",
          "model_module_version": "1.2.0",
          "state": {
            "_model_module": "@jupyter-widgets/base",
            "_model_module_version": "1.2.0",
            "_model_name": "LayoutModel",
            "_view_count": null,
            "_view_module": "@jupyter-widgets/base",
            "_view_module_version": "1.2.0",
            "_view_name": "LayoutView",
            "align_content": null,
            "align_items": null,
            "align_self": null,
            "border": null,
            "bottom": null,
            "display": null,
            "flex": null,
            "flex_flow": null,
            "grid_area": null,
            "grid_auto_columns": null,
            "grid_auto_flow": null,
            "grid_auto_rows": null,
            "grid_column": null,
            "grid_gap": null,
            "grid_row": null,
            "grid_template_areas": null,
            "grid_template_columns": null,
            "grid_template_rows": null,
            "height": null,
            "justify_content": null,
            "justify_items": null,
            "left": null,
            "margin": null,
            "max_height": null,
            "max_width": null,
            "min_height": null,
            "min_width": null,
            "object_fit": null,
            "object_position": null,
            "order": null,
            "overflow": null,
            "overflow_x": null,
            "overflow_y": null,
            "padding": null,
            "right": null,
            "top": null,
            "visibility": null,
            "width": null
          }
        },
        "f3edc443c045482cb2278dee6e32939f": {
          "model_module": "@jupyter-widgets/base",
          "model_name": "LayoutModel",
          "model_module_version": "1.2.0",
          "state": {
            "_model_module": "@jupyter-widgets/base",
            "_model_module_version": "1.2.0",
            "_model_name": "LayoutModel",
            "_view_count": null,
            "_view_module": "@jupyter-widgets/base",
            "_view_module_version": "1.2.0",
            "_view_name": "LayoutView",
            "align_content": null,
            "align_items": null,
            "align_self": null,
            "border": null,
            "bottom": null,
            "display": null,
            "flex": null,
            "flex_flow": null,
            "grid_area": null,
            "grid_auto_columns": null,
            "grid_auto_flow": null,
            "grid_auto_rows": null,
            "grid_column": null,
            "grid_gap": null,
            "grid_row": null,
            "grid_template_areas": null,
            "grid_template_columns": null,
            "grid_template_rows": null,
            "height": null,
            "justify_content": null,
            "justify_items": null,
            "left": null,
            "margin": null,
            "max_height": null,
            "max_width": null,
            "min_height": null,
            "min_width": null,
            "object_fit": null,
            "object_position": null,
            "order": null,
            "overflow": null,
            "overflow_x": null,
            "overflow_y": null,
            "padding": null,
            "right": null,
            "top": null,
            "visibility": null,
            "width": null
          }
        },
        "ab590e5082e046d08ec3f18d8a5823cc": {
          "model_module": "@jupyter-widgets/controls",
          "model_name": "DescriptionStyleModel",
          "model_module_version": "1.5.0",
          "state": {
            "_model_module": "@jupyter-widgets/controls",
            "_model_module_version": "1.5.0",
            "_model_name": "DescriptionStyleModel",
            "_view_count": null,
            "_view_module": "@jupyter-widgets/base",
            "_view_module_version": "1.2.0",
            "_view_name": "StyleView",
            "description_width": ""
          }
        },
        "29652499b1d2458ca9f595e0511c6c9f": {
          "model_module": "@jupyter-widgets/base",
          "model_name": "LayoutModel",
          "model_module_version": "1.2.0",
          "state": {
            "_model_module": "@jupyter-widgets/base",
            "_model_module_version": "1.2.0",
            "_model_name": "LayoutModel",
            "_view_count": null,
            "_view_module": "@jupyter-widgets/base",
            "_view_module_version": "1.2.0",
            "_view_name": "LayoutView",
            "align_content": null,
            "align_items": null,
            "align_self": null,
            "border": null,
            "bottom": null,
            "display": null,
            "flex": null,
            "flex_flow": null,
            "grid_area": null,
            "grid_auto_columns": null,
            "grid_auto_flow": null,
            "grid_auto_rows": null,
            "grid_column": null,
            "grid_gap": null,
            "grid_row": null,
            "grid_template_areas": null,
            "grid_template_columns": null,
            "grid_template_rows": null,
            "height": null,
            "justify_content": null,
            "justify_items": null,
            "left": null,
            "margin": null,
            "max_height": null,
            "max_width": null,
            "min_height": null,
            "min_width": null,
            "object_fit": null,
            "object_position": null,
            "order": null,
            "overflow": null,
            "overflow_x": null,
            "overflow_y": null,
            "padding": null,
            "right": null,
            "top": null,
            "visibility": null,
            "width": null
          }
        },
        "759ba86e8c84432bb89504564d266d4b": {
          "model_module": "@jupyter-widgets/controls",
          "model_name": "ProgressStyleModel",
          "model_module_version": "1.5.0",
          "state": {
            "_model_module": "@jupyter-widgets/controls",
            "_model_module_version": "1.5.0",
            "_model_name": "ProgressStyleModel",
            "_view_count": null,
            "_view_module": "@jupyter-widgets/base",
            "_view_module_version": "1.2.0",
            "_view_name": "StyleView",
            "bar_color": null,
            "description_width": ""
          }
        },
        "a7fee7f0bd844c5bb2ac5986b364f670": {
          "model_module": "@jupyter-widgets/base",
          "model_name": "LayoutModel",
          "model_module_version": "1.2.0",
          "state": {
            "_model_module": "@jupyter-widgets/base",
            "_model_module_version": "1.2.0",
            "_model_name": "LayoutModel",
            "_view_count": null,
            "_view_module": "@jupyter-widgets/base",
            "_view_module_version": "1.2.0",
            "_view_name": "LayoutView",
            "align_content": null,
            "align_items": null,
            "align_self": null,
            "border": null,
            "bottom": null,
            "display": null,
            "flex": null,
            "flex_flow": null,
            "grid_area": null,
            "grid_auto_columns": null,
            "grid_auto_flow": null,
            "grid_auto_rows": null,
            "grid_column": null,
            "grid_gap": null,
            "grid_row": null,
            "grid_template_areas": null,
            "grid_template_columns": null,
            "grid_template_rows": null,
            "height": null,
            "justify_content": null,
            "justify_items": null,
            "left": null,
            "margin": null,
            "max_height": null,
            "max_width": null,
            "min_height": null,
            "min_width": null,
            "object_fit": null,
            "object_position": null,
            "order": null,
            "overflow": null,
            "overflow_x": null,
            "overflow_y": null,
            "padding": null,
            "right": null,
            "top": null,
            "visibility": null,
            "width": null
          }
        },
        "37d730569c1f469c85c31d9312f54ff3": {
          "model_module": "@jupyter-widgets/controls",
          "model_name": "DescriptionStyleModel",
          "model_module_version": "1.5.0",
          "state": {
            "_model_module": "@jupyter-widgets/controls",
            "_model_module_version": "1.5.0",
            "_model_name": "DescriptionStyleModel",
            "_view_count": null,
            "_view_module": "@jupyter-widgets/base",
            "_view_module_version": "1.2.0",
            "_view_name": "StyleView",
            "description_width": ""
          }
        },
        "97f4db935fc449ef8cf0102d3331a43f": {
          "model_module": "@jupyter-widgets/controls",
          "model_name": "HBoxModel",
          "model_module_version": "1.5.0",
          "state": {
            "_dom_classes": [],
            "_model_module": "@jupyter-widgets/controls",
            "_model_module_version": "1.5.0",
            "_model_name": "HBoxModel",
            "_view_count": null,
            "_view_module": "@jupyter-widgets/controls",
            "_view_module_version": "1.5.0",
            "_view_name": "HBoxView",
            "box_style": "",
            "children": [
              "IPY_MODEL_a1896c287f834475ac59ec8e3cad811f",
              "IPY_MODEL_ccc33702d0aa495ba49e1c95b798b6ac",
              "IPY_MODEL_dd30cecc0567411cbdd6341e73d8f060"
            ],
            "layout": "IPY_MODEL_c973862abf354fa3a1e8dfac7484cb31"
          }
        },
        "a1896c287f834475ac59ec8e3cad811f": {
          "model_module": "@jupyter-widgets/controls",
          "model_name": "HTMLModel",
          "model_module_version": "1.5.0",
          "state": {
            "_dom_classes": [],
            "_model_module": "@jupyter-widgets/controls",
            "_model_module_version": "1.5.0",
            "_model_name": "HTMLModel",
            "_view_count": null,
            "_view_module": "@jupyter-widgets/controls",
            "_view_module_version": "1.5.0",
            "_view_name": "HTMLView",
            "description": "",
            "description_tooltip": null,
            "layout": "IPY_MODEL_e922def9ab324e2b9e3e5ce57ea4b558",
            "placeholder": "​",
            "style": "IPY_MODEL_137f6957c5424cd1adf480b5a934b89f",
            "value": "Downloading extra modules: "
          }
        },
        "ccc33702d0aa495ba49e1c95b798b6ac": {
          "model_module": "@jupyter-widgets/controls",
          "model_name": "FloatProgressModel",
          "model_module_version": "1.5.0",
          "state": {
            "_dom_classes": [],
            "_model_module": "@jupyter-widgets/controls",
            "_model_module_version": "1.5.0",
            "_model_name": "FloatProgressModel",
            "_view_count": null,
            "_view_module": "@jupyter-widgets/controls",
            "_view_module_version": "1.5.0",
            "_view_name": "ProgressView",
            "bar_style": "success",
            "description": "",
            "description_tooltip": null,
            "layout": "IPY_MODEL_b4053550211a4a26bb271371740db75f",
            "max": 1554,
            "min": 0,
            "orientation": "horizontal",
            "style": "IPY_MODEL_a3f5ca74f5fd4c58868bc3f05fe5c70a",
            "value": 1554
          }
        },
        "dd30cecc0567411cbdd6341e73d8f060": {
          "model_module": "@jupyter-widgets/controls",
          "model_name": "HTMLModel",
          "model_module_version": "1.5.0",
          "state": {
            "_dom_classes": [],
            "_model_module": "@jupyter-widgets/controls",
            "_model_module_version": "1.5.0",
            "_model_name": "HTMLModel",
            "_view_count": null,
            "_view_module": "@jupyter-widgets/controls",
            "_view_module_version": "1.5.0",
            "_view_name": "HTMLView",
            "description": "",
            "description_tooltip": null,
            "layout": "IPY_MODEL_8d1e0d4b5a624df1b428be23e7099e46",
            "placeholder": "​",
            "style": "IPY_MODEL_8290fe5d1744437586590357237d69bb",
            "value": " 4.07k/? [00:00&lt;00:00, 216kB/s]"
          }
        },
        "c973862abf354fa3a1e8dfac7484cb31": {
          "model_module": "@jupyter-widgets/base",
          "model_name": "LayoutModel",
          "model_module_version": "1.2.0",
          "state": {
            "_model_module": "@jupyter-widgets/base",
            "_model_module_version": "1.2.0",
            "_model_name": "LayoutModel",
            "_view_count": null,
            "_view_module": "@jupyter-widgets/base",
            "_view_module_version": "1.2.0",
            "_view_name": "LayoutView",
            "align_content": null,
            "align_items": null,
            "align_self": null,
            "border": null,
            "bottom": null,
            "display": null,
            "flex": null,
            "flex_flow": null,
            "grid_area": null,
            "grid_auto_columns": null,
            "grid_auto_flow": null,
            "grid_auto_rows": null,
            "grid_column": null,
            "grid_gap": null,
            "grid_row": null,
            "grid_template_areas": null,
            "grid_template_columns": null,
            "grid_template_rows": null,
            "height": null,
            "justify_content": null,
            "justify_items": null,
            "left": null,
            "margin": null,
            "max_height": null,
            "max_width": null,
            "min_height": null,
            "min_width": null,
            "object_fit": null,
            "object_position": null,
            "order": null,
            "overflow": null,
            "overflow_x": null,
            "overflow_y": null,
            "padding": null,
            "right": null,
            "top": null,
            "visibility": null,
            "width": null
          }
        },
        "e922def9ab324e2b9e3e5ce57ea4b558": {
          "model_module": "@jupyter-widgets/base",
          "model_name": "LayoutModel",
          "model_module_version": "1.2.0",
          "state": {
            "_model_module": "@jupyter-widgets/base",
            "_model_module_version": "1.2.0",
            "_model_name": "LayoutModel",
            "_view_count": null,
            "_view_module": "@jupyter-widgets/base",
            "_view_module_version": "1.2.0",
            "_view_name": "LayoutView",
            "align_content": null,
            "align_items": null,
            "align_self": null,
            "border": null,
            "bottom": null,
            "display": null,
            "flex": null,
            "flex_flow": null,
            "grid_area": null,
            "grid_auto_columns": null,
            "grid_auto_flow": null,
            "grid_auto_rows": null,
            "grid_column": null,
            "grid_gap": null,
            "grid_row": null,
            "grid_template_areas": null,
            "grid_template_columns": null,
            "grid_template_rows": null,
            "height": null,
            "justify_content": null,
            "justify_items": null,
            "left": null,
            "margin": null,
            "max_height": null,
            "max_width": null,
            "min_height": null,
            "min_width": null,
            "object_fit": null,
            "object_position": null,
            "order": null,
            "overflow": null,
            "overflow_x": null,
            "overflow_y": null,
            "padding": null,
            "right": null,
            "top": null,
            "visibility": null,
            "width": null
          }
        },
        "137f6957c5424cd1adf480b5a934b89f": {
          "model_module": "@jupyter-widgets/controls",
          "model_name": "DescriptionStyleModel",
          "model_module_version": "1.5.0",
          "state": {
            "_model_module": "@jupyter-widgets/controls",
            "_model_module_version": "1.5.0",
            "_model_name": "DescriptionStyleModel",
            "_view_count": null,
            "_view_module": "@jupyter-widgets/base",
            "_view_module_version": "1.2.0",
            "_view_name": "StyleView",
            "description_width": ""
          }
        },
        "b4053550211a4a26bb271371740db75f": {
          "model_module": "@jupyter-widgets/base",
          "model_name": "LayoutModel",
          "model_module_version": "1.2.0",
          "state": {
            "_model_module": "@jupyter-widgets/base",
            "_model_module_version": "1.2.0",
            "_model_name": "LayoutModel",
            "_view_count": null,
            "_view_module": "@jupyter-widgets/base",
            "_view_module_version": "1.2.0",
            "_view_name": "LayoutView",
            "align_content": null,
            "align_items": null,
            "align_self": null,
            "border": null,
            "bottom": null,
            "display": null,
            "flex": null,
            "flex_flow": null,
            "grid_area": null,
            "grid_auto_columns": null,
            "grid_auto_flow": null,
            "grid_auto_rows": null,
            "grid_column": null,
            "grid_gap": null,
            "grid_row": null,
            "grid_template_areas": null,
            "grid_template_columns": null,
            "grid_template_rows": null,
            "height": null,
            "justify_content": null,
            "justify_items": null,
            "left": null,
            "margin": null,
            "max_height": null,
            "max_width": null,
            "min_height": null,
            "min_width": null,
            "object_fit": null,
            "object_position": null,
            "order": null,
            "overflow": null,
            "overflow_x": null,
            "overflow_y": null,
            "padding": null,
            "right": null,
            "top": null,
            "visibility": null,
            "width": null
          }
        },
        "a3f5ca74f5fd4c58868bc3f05fe5c70a": {
          "model_module": "@jupyter-widgets/controls",
          "model_name": "ProgressStyleModel",
          "model_module_version": "1.5.0",
          "state": {
            "_model_module": "@jupyter-widgets/controls",
            "_model_module_version": "1.5.0",
            "_model_name": "ProgressStyleModel",
            "_view_count": null,
            "_view_module": "@jupyter-widgets/base",
            "_view_module_version": "1.2.0",
            "_view_name": "StyleView",
            "bar_color": null,
            "description_width": ""
          }
        },
        "8d1e0d4b5a624df1b428be23e7099e46": {
          "model_module": "@jupyter-widgets/base",
          "model_name": "LayoutModel",
          "model_module_version": "1.2.0",
          "state": {
            "_model_module": "@jupyter-widgets/base",
            "_model_module_version": "1.2.0",
            "_model_name": "LayoutModel",
            "_view_count": null,
            "_view_module": "@jupyter-widgets/base",
            "_view_module_version": "1.2.0",
            "_view_name": "LayoutView",
            "align_content": null,
            "align_items": null,
            "align_self": null,
            "border": null,
            "bottom": null,
            "display": null,
            "flex": null,
            "flex_flow": null,
            "grid_area": null,
            "grid_auto_columns": null,
            "grid_auto_flow": null,
            "grid_auto_rows": null,
            "grid_column": null,
            "grid_gap": null,
            "grid_row": null,
            "grid_template_areas": null,
            "grid_template_columns": null,
            "grid_template_rows": null,
            "height": null,
            "justify_content": null,
            "justify_items": null,
            "left": null,
            "margin": null,
            "max_height": null,
            "max_width": null,
            "min_height": null,
            "min_width": null,
            "object_fit": null,
            "object_position": null,
            "order": null,
            "overflow": null,
            "overflow_x": null,
            "overflow_y": null,
            "padding": null,
            "right": null,
            "top": null,
            "visibility": null,
            "width": null
          }
        },
        "8290fe5d1744437586590357237d69bb": {
          "model_module": "@jupyter-widgets/controls",
          "model_name": "DescriptionStyleModel",
          "model_module_version": "1.5.0",
          "state": {
            "_model_module": "@jupyter-widgets/controls",
            "_model_module_version": "1.5.0",
            "_model_name": "DescriptionStyleModel",
            "_view_count": null,
            "_view_module": "@jupyter-widgets/base",
            "_view_module_version": "1.2.0",
            "_view_name": "StyleView",
            "description_width": ""
          }
        },
        "020f593ebaf542eab517ddc9ee7c0419": {
          "model_module": "@jupyter-widgets/controls",
          "model_name": "HBoxModel",
          "model_module_version": "1.5.0",
          "state": {
            "_dom_classes": [],
            "_model_module": "@jupyter-widgets/controls",
            "_model_module_version": "1.5.0",
            "_model_name": "HBoxModel",
            "_view_count": null,
            "_view_module": "@jupyter-widgets/controls",
            "_view_module_version": "1.5.0",
            "_view_name": "HBoxView",
            "box_style": "",
            "children": [
              "IPY_MODEL_d7f2b6e1ad74428b8556213dea1fc528",
              "IPY_MODEL_1a32557f47244cefbb5b4d41e45da072",
              "IPY_MODEL_9bcdd64a9aef4f1eaa0fef5e0fba7d88"
            ],
            "layout": "IPY_MODEL_3996ddbc5dfa4040969c03662a1bdf28"
          }
        },
        "d7f2b6e1ad74428b8556213dea1fc528": {
          "model_module": "@jupyter-widgets/controls",
          "model_name": "HTMLModel",
          "model_module_version": "1.5.0",
          "state": {
            "_dom_classes": [],
            "_model_module": "@jupyter-widgets/controls",
            "_model_module_version": "1.5.0",
            "_model_name": "HTMLModel",
            "_view_count": null,
            "_view_module": "@jupyter-widgets/controls",
            "_view_module_version": "1.5.0",
            "_view_name": "HTMLView",
            "description": "",
            "description_tooltip": null,
            "layout": "IPY_MODEL_c67136a859194599af0425deab763506",
            "placeholder": "​",
            "style": "IPY_MODEL_46e02021bd1d4433a0bb3dc9704c03bf",
            "value": "Downloading extra modules: 100%"
          }
        },
        "1a32557f47244cefbb5b4d41e45da072": {
          "model_module": "@jupyter-widgets/controls",
          "model_name": "FloatProgressModel",
          "model_module_version": "1.5.0",
          "state": {
            "_dom_classes": [],
            "_model_module": "@jupyter-widgets/controls",
            "_model_module_version": "1.5.0",
            "_model_name": "FloatProgressModel",
            "_view_count": null,
            "_view_module": "@jupyter-widgets/controls",
            "_view_module_version": "1.5.0",
            "_view_name": "ProgressView",
            "bar_style": "success",
            "description": "",
            "description_tooltip": null,
            "layout": "IPY_MODEL_4b4131a5de3042ae914974a0112ee02f",
            "max": 3344,
            "min": 0,
            "orientation": "horizontal",
            "style": "IPY_MODEL_2ec14f1db57742ffbe711cd6e845a3d1",
            "value": 3344
          }
        },
        "9bcdd64a9aef4f1eaa0fef5e0fba7d88": {
          "model_module": "@jupyter-widgets/controls",
          "model_name": "HTMLModel",
          "model_module_version": "1.5.0",
          "state": {
            "_dom_classes": [],
            "_model_module": "@jupyter-widgets/controls",
            "_model_module_version": "1.5.0",
            "_model_name": "HTMLModel",
            "_view_count": null,
            "_view_module": "@jupyter-widgets/controls",
            "_view_module_version": "1.5.0",
            "_view_name": "HTMLView",
            "description": "",
            "description_tooltip": null,
            "layout": "IPY_MODEL_83ae6c8686e64e269980e88175c768c3",
            "placeholder": "​",
            "style": "IPY_MODEL_7c1fd86ce8804eef9867b0bbed0e7dfa",
            "value": " 3.34k/3.34k [00:00&lt;00:00, 177kB/s]"
          }
        },
        "3996ddbc5dfa4040969c03662a1bdf28": {
          "model_module": "@jupyter-widgets/base",
          "model_name": "LayoutModel",
          "model_module_version": "1.2.0",
          "state": {
            "_model_module": "@jupyter-widgets/base",
            "_model_module_version": "1.2.0",
            "_model_name": "LayoutModel",
            "_view_count": null,
            "_view_module": "@jupyter-widgets/base",
            "_view_module_version": "1.2.0",
            "_view_name": "LayoutView",
            "align_content": null,
            "align_items": null,
            "align_self": null,
            "border": null,
            "bottom": null,
            "display": null,
            "flex": null,
            "flex_flow": null,
            "grid_area": null,
            "grid_auto_columns": null,
            "grid_auto_flow": null,
            "grid_auto_rows": null,
            "grid_column": null,
            "grid_gap": null,
            "grid_row": null,
            "grid_template_areas": null,
            "grid_template_columns": null,
            "grid_template_rows": null,
            "height": null,
            "justify_content": null,
            "justify_items": null,
            "left": null,
            "margin": null,
            "max_height": null,
            "max_width": null,
            "min_height": null,
            "min_width": null,
            "object_fit": null,
            "object_position": null,
            "order": null,
            "overflow": null,
            "overflow_x": null,
            "overflow_y": null,
            "padding": null,
            "right": null,
            "top": null,
            "visibility": null,
            "width": null
          }
        },
        "c67136a859194599af0425deab763506": {
          "model_module": "@jupyter-widgets/base",
          "model_name": "LayoutModel",
          "model_module_version": "1.2.0",
          "state": {
            "_model_module": "@jupyter-widgets/base",
            "_model_module_version": "1.2.0",
            "_model_name": "LayoutModel",
            "_view_count": null,
            "_view_module": "@jupyter-widgets/base",
            "_view_module_version": "1.2.0",
            "_view_name": "LayoutView",
            "align_content": null,
            "align_items": null,
            "align_self": null,
            "border": null,
            "bottom": null,
            "display": null,
            "flex": null,
            "flex_flow": null,
            "grid_area": null,
            "grid_auto_columns": null,
            "grid_auto_flow": null,
            "grid_auto_rows": null,
            "grid_column": null,
            "grid_gap": null,
            "grid_row": null,
            "grid_template_areas": null,
            "grid_template_columns": null,
            "grid_template_rows": null,
            "height": null,
            "justify_content": null,
            "justify_items": null,
            "left": null,
            "margin": null,
            "max_height": null,
            "max_width": null,
            "min_height": null,
            "min_width": null,
            "object_fit": null,
            "object_position": null,
            "order": null,
            "overflow": null,
            "overflow_x": null,
            "overflow_y": null,
            "padding": null,
            "right": null,
            "top": null,
            "visibility": null,
            "width": null
          }
        },
        "46e02021bd1d4433a0bb3dc9704c03bf": {
          "model_module": "@jupyter-widgets/controls",
          "model_name": "DescriptionStyleModel",
          "model_module_version": "1.5.0",
          "state": {
            "_model_module": "@jupyter-widgets/controls",
            "_model_module_version": "1.5.0",
            "_model_name": "DescriptionStyleModel",
            "_view_count": null,
            "_view_module": "@jupyter-widgets/base",
            "_view_module_version": "1.2.0",
            "_view_name": "StyleView",
            "description_width": ""
          }
        },
        "4b4131a5de3042ae914974a0112ee02f": {
          "model_module": "@jupyter-widgets/base",
          "model_name": "LayoutModel",
          "model_module_version": "1.2.0",
          "state": {
            "_model_module": "@jupyter-widgets/base",
            "_model_module_version": "1.2.0",
            "_model_name": "LayoutModel",
            "_view_count": null,
            "_view_module": "@jupyter-widgets/base",
            "_view_module_version": "1.2.0",
            "_view_name": "LayoutView",
            "align_content": null,
            "align_items": null,
            "align_self": null,
            "border": null,
            "bottom": null,
            "display": null,
            "flex": null,
            "flex_flow": null,
            "grid_area": null,
            "grid_auto_columns": null,
            "grid_auto_flow": null,
            "grid_auto_rows": null,
            "grid_column": null,
            "grid_gap": null,
            "grid_row": null,
            "grid_template_areas": null,
            "grid_template_columns": null,
            "grid_template_rows": null,
            "height": null,
            "justify_content": null,
            "justify_items": null,
            "left": null,
            "margin": null,
            "max_height": null,
            "max_width": null,
            "min_height": null,
            "min_width": null,
            "object_fit": null,
            "object_position": null,
            "order": null,
            "overflow": null,
            "overflow_x": null,
            "overflow_y": null,
            "padding": null,
            "right": null,
            "top": null,
            "visibility": null,
            "width": null
          }
        },
        "2ec14f1db57742ffbe711cd6e845a3d1": {
          "model_module": "@jupyter-widgets/controls",
          "model_name": "ProgressStyleModel",
          "model_module_version": "1.5.0",
          "state": {
            "_model_module": "@jupyter-widgets/controls",
            "_model_module_version": "1.5.0",
            "_model_name": "ProgressStyleModel",
            "_view_count": null,
            "_view_module": "@jupyter-widgets/base",
            "_view_module_version": "1.2.0",
            "_view_name": "StyleView",
            "bar_color": null,
            "description_width": ""
          }
        },
        "83ae6c8686e64e269980e88175c768c3": {
          "model_module": "@jupyter-widgets/base",
          "model_name": "LayoutModel",
          "model_module_version": "1.2.0",
          "state": {
            "_model_module": "@jupyter-widgets/base",
            "_model_module_version": "1.2.0",
            "_model_name": "LayoutModel",
            "_view_count": null,
            "_view_module": "@jupyter-widgets/base",
            "_view_module_version": "1.2.0",
            "_view_name": "LayoutView",
            "align_content": null,
            "align_items": null,
            "align_self": null,
            "border": null,
            "bottom": null,
            "display": null,
            "flex": null,
            "flex_flow": null,
            "grid_area": null,
            "grid_auto_columns": null,
            "grid_auto_flow": null,
            "grid_auto_rows": null,
            "grid_column": null,
            "grid_gap": null,
            "grid_row": null,
            "grid_template_areas": null,
            "grid_template_columns": null,
            "grid_template_rows": null,
            "height": null,
            "justify_content": null,
            "justify_items": null,
            "left": null,
            "margin": null,
            "max_height": null,
            "max_width": null,
            "min_height": null,
            "min_width": null,
            "object_fit": null,
            "object_position": null,
            "order": null,
            "overflow": null,
            "overflow_x": null,
            "overflow_y": null,
            "padding": null,
            "right": null,
            "top": null,
            "visibility": null,
            "width": null
          }
        },
        "7c1fd86ce8804eef9867b0bbed0e7dfa": {
          "model_module": "@jupyter-widgets/controls",
          "model_name": "DescriptionStyleModel",
          "model_module_version": "1.5.0",
          "state": {
            "_model_module": "@jupyter-widgets/controls",
            "_model_module_version": "1.5.0",
            "_model_name": "DescriptionStyleModel",
            "_view_count": null,
            "_view_module": "@jupyter-widgets/base",
            "_view_module_version": "1.2.0",
            "_view_name": "StyleView",
            "description_width": ""
          }
        }
      }
    }
  },
  "nbformat": 4,
  "nbformat_minor": 0
}